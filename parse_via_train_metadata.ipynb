{
 "cells": [
  {
   "cell_type": "code",
   "execution_count": 6,
   "metadata": {},
   "outputs": [],
   "source": [
    "import pandas as pd\n",
    "import urllib.request\n",
    "import json"
   ]
  },
  {
   "cell_type": "code",
   "execution_count": 7,
   "metadata": {},
   "outputs": [],
   "source": [
    "#read data from today\n",
    "df = pd.read_json(\"https://tsimobile.viarail.ca/data/allData.json\")\n",
    "#transpose data\n",
    "df_t = df.transpose()"
   ]
  },
  {
   "cell_type": "markdown",
   "metadata": {},
   "source": [
    "# Parse Via Routes"
   ]
  },
  {
   "cell_type": "code",
   "execution_count": 8,
   "metadata": {},
   "outputs": [],
   "source": [
    "#subset columns to start and finish locations\n",
    "via_routes = df_t[[\"from\", \"to\"]]\n",
    "# Get unique routes\n",
    "unique_via_routes = via_routes.drop_duplicates()\n",
    "#print(unique_routes)\n",
    "# 30 unique routes"
   ]
  },
  {
   "cell_type": "markdown",
   "metadata": {},
   "source": [
    "# Parse Via Trains"
   ]
  },
  {
   "cell_type": "code",
   "execution_count": 9,
   "metadata": {},
   "outputs": [],
   "source": [
    "# keep the index as a column\n",
    "df_t = df_t.reset_index()\n",
    "via_trains = df_t['index']\n",
    "# drop it\n",
    "# 67 trains"
   ]
  },
  {
   "cell_type": "markdown",
   "metadata": {},
   "source": [
    "# Parse all Via Locations"
   ]
  },
  {
   "cell_type": "code",
   "execution_count": 11,
   "metadata": {},
   "outputs": [],
   "source": [
    "times = df_t['times']\n",
    "# Flatten the list of DataFrames\n",
    "flattened_dfs = [df for sublist in times for df in sublist]\n",
    "#create df of times\n",
    "via_times = pd.DataFrame(flattened_dfs)"
   ]
  },
  {
   "cell_type": "code",
   "execution_count": null,
   "metadata": {},
   "outputs": [],
   "source": [
    "#subset columns to start and finish locations\n",
    "via_locations = via_times[[\"station\", \"code\"]]\n",
    "# Get unique routes\n",
    "unique_via_locations = via_locations.drop_duplicates()\n",
    "#print(unique_routes)\n",
    "# 342 unique locations"
   ]
  },
  {
   "cell_type": "markdown",
   "metadata": {},
   "source": [
    "# Parse Train Stops "
   ]
  },
  {
   "cell_type": "code",
   "execution_count": 1,
   "metadata": {},
   "outputs": [
    {
     "ename": "NameError",
     "evalue": "name 'df_t' is not defined",
     "output_type": "error",
     "traceback": [
      "\u001b[31m---------------------------------------------------------------------------\u001b[39m",
      "\u001b[31mNameError\u001b[39m                                 Traceback (most recent call last)",
      "\u001b[36mCell\u001b[39m\u001b[36m \u001b[39m\u001b[32mIn[1]\u001b[39m\u001b[32m, line 1\u001b[39m\n\u001b[32m----> \u001b[39m\u001b[32m1\u001b[39m times = \u001b[43mdf_t\u001b[49m[[\u001b[33m'\u001b[39m\u001b[33mtimes\u001b[39m\u001b[33m'\u001b[39m,\u001b[33m'\u001b[39m\u001b[33mindex\u001b[39m\u001b[33m'\u001b[39m]]\n\u001b[32m      2\u001b[39m \u001b[38;5;66;03m# Flatten the list of DataFrames\u001b[39;00m\n\u001b[32m      3\u001b[39m flattened_dfs = [df \u001b[38;5;28;01mfor\u001b[39;00m sublist \u001b[38;5;129;01min\u001b[39;00m times \u001b[38;5;28;01mfor\u001b[39;00m df \u001b[38;5;129;01min\u001b[39;00m sublist]\n",
      "\u001b[31mNameError\u001b[39m: name 'df_t' is not defined"
     ]
    }
   ],
   "source": [
    "times = df_t[['times','index']]\n",
    "# Flatten the list of DataFrames\n",
    "flattened_dfs = [df for sublist in times for df in sublist]\n",
    "#create df of times\n",
    "via_times = pd.DataFrame(flattened_dfs)"
   ]
  },
  {
   "cell_type": "code",
   "execution_count": 30,
   "metadata": {},
   "outputs": [],
   "source": [
    "# Initialize an empty list to store DataFrames with IDs\n",
    "flattened_dfs = []\n",
    "\n",
    "# Iterate over each row in x\n",
    "for idx, row in times.iterrows():\n",
    "\n",
    "    # Iterate over each DataFrame in the sublist\n",
    "    i = 0\n",
    "    for df in row['times']:\n",
    "        # Add the ID as a column to the DataFrame\n",
    "        df['ID'] = row['index']\n",
    "        df['Train_Stop_ID'] = i\n",
    "        i = i + 1\n",
    "        # Append the DataFrame to the list\n",
    "        flattened_dfs.append(df)\n",
    "\n",
    "test_2 = pd.DataFrame(flattened_dfs)\n"
   ]
  },
  {
   "cell_type": "code",
   "execution_count": 35,
   "metadata": {},
   "outputs": [],
   "source": [
    "via_train_stops = test_2[['ID','Train_Stop_ID','station']]"
   ]
  },
  {
   "cell_type": "markdown",
   "metadata": {},
   "source": [
    "# Write Data"
   ]
  },
  {
   "cell_type": "code",
   "execution_count": 36,
   "metadata": {},
   "outputs": [],
   "source": [
    "unique_via_routes.to_csv('via_train_metadata/routes.csv', index=False)\n",
    "via_trains.to_csv('via_train_metadata/trains.csv', index=False)\n",
    "unique_via_locations.to_csv('via_train_metadata/stop_locations.csv', index=False)\n",
    "via_train_stops.to_csv('via_train_metadata/train_stops.csv', index=False)"
   ]
  }
 ],
 "metadata": {
  "kernelspec": {
   "display_name": "Python 3",
   "language": "python",
   "name": "python3"
  },
  "language_info": {
   "codemirror_mode": {
    "name": "ipython",
    "version": 3
   },
   "file_extension": ".py",
   "mimetype": "text/x-python",
   "name": "python",
   "nbconvert_exporter": "python",
   "pygments_lexer": "ipython3",
   "version": "3.11.11"
  }
 },
 "nbformat": 4,
 "nbformat_minor": 2
}
