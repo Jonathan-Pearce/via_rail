{
 "cells": [
  {
   "cell_type": "code",
   "execution_count": 23,
   "metadata": {},
   "outputs": [],
   "source": [
    "import plotly\n",
    "import plotly.express as px\n",
    "import pandas as pd\n",
    "from datetime import datetime\n",
    "import plotly.graph_objects as go"
   ]
  },
  {
   "cell_type": "code",
   "execution_count": 12,
   "metadata": {},
   "outputs": [],
   "source": [
    "via_data = pd.read_csv(\"/workspaces/via_rail/app/via_data_june_17_2025.csv\", sep = \";\", parse_dates=[\"DATE_TRAIN\"])"
   ]
  },
  {
   "cell_type": "code",
   "execution_count": 13,
   "metadata": {},
   "outputs": [],
   "source": [
    "via_data_TO_MTL = via_data[via_data[\"TRAIN_NUMBER\"].isin([\"60\", \"62\", \"64\", \"66\", \"68\", \"668\"])]"
   ]
  },
  {
   "cell_type": "code",
   "execution_count": 17,
   "metadata": {},
   "outputs": [
    {
     "name": "stderr",
     "output_type": "stream",
     "text": [
      "/tmp/ipykernel_755/48663688.py:1: SettingWithCopyWarning: \n",
      "A value is trying to be set on a copy of a slice from a DataFrame.\n",
      "Try using .loc[row_indexer,col_indexer] = value instead\n",
      "\n",
      "See the caveats in the documentation: https://pandas.pydata.org/pandas-docs/stable/user_guide/indexing.html#returning-a-view-versus-a-copy\n",
      "  via_data_TO_MTL['DATE_TRAIN'] = pd.to_datetime(via_data_TO_MTL['DATE_TRAIN'])\n",
      "/tmp/ipykernel_755/48663688.py:3: SettingWithCopyWarning: \n",
      "A value is trying to be set on a copy of a slice from a DataFrame.\n",
      "Try using .loc[row_indexer,col_indexer] = value instead\n",
      "\n",
      "See the caveats in the documentation: https://pandas.pydata.org/pandas-docs/stable/user_guide/indexing.html#returning-a-view-versus-a-copy\n",
      "  via_data_TO_MTL['day_of_week'] = via_data_TO_MTL['DATE_TRAIN'].dt.day_name()\n"
     ]
    }
   ],
   "source": [
    "via_data_TO_MTL['DATE_TRAIN'] = pd.to_datetime(via_data_TO_MTL['DATE_TRAIN'])\n",
    "\n",
    "via_data_TO_MTL['day_of_week'] = via_data_TO_MTL['DATE_TRAIN'].dt.day_name()"
   ]
  },
  {
   "cell_type": "code",
   "execution_count": 20,
   "metadata": {},
   "outputs": [],
   "source": [
    "via_montreal_arrival = via_data_TO_MTL[via_data_TO_MTL[\"LOCATION\"]==\"MONTRÉAL\"]"
   ]
  },
  {
   "cell_type": "code",
   "execution_count": 24,
   "metadata": {},
   "outputs": [
    {
     "data": {
      "application/vnd.plotly.v1+json": {
       "config": {
        "plotlyServerURL": "https://plot.ly"
       },
       "data": [
        {
         "box": {
          "visible": true
         },
         "meanline": {
          "visible": true
         },
         "name": "Monday",
         "type": "violin",
         "x": [
          "Monday",
          "Monday",
          "Monday",
          "Monday",
          "Monday",
          "Monday",
          "Monday",
          "Monday",
          "Monday",
          "Monday",
          "Monday",
          "Monday",
          "Monday",
          "Monday",
          "Monday",
          "Monday",
          "Monday",
          "Monday",
          "Monday",
          "Monday",
          "Monday",
          "Monday",
          "Monday",
          "Monday",
          "Monday",
          "Monday",
          "Monday",
          "Monday",
          "Monday",
          "Monday",
          "Monday",
          "Monday",
          "Monday",
          "Monday",
          "Monday",
          "Monday",
          "Monday",
          "Monday",
          "Monday",
          "Monday",
          "Monday",
          "Monday",
          "Monday",
          "Monday",
          "Monday",
          "Monday",
          "Monday",
          "Monday",
          "Monday",
          "Monday",
          "Monday",
          "Monday",
          "Monday",
          "Monday",
          "Monday",
          "Monday",
          "Monday",
          "Monday",
          "Monday",
          "Monday"
         ],
         "y": {
          "bdata": "E/snFQsLGfQoGjcQG/4UJyEK+w8uAzoSBgUIHjUQHgAyJgEJHvoaAQ8CEAkVPD0ZMQ8AFAv+FjADGxRQ",
          "dtype": "i1"
         }
        },
        {
         "box": {
          "visible": true
         },
         "meanline": {
          "visible": true
         },
         "name": "Tuesday",
         "type": "violin",
         "x": [
          "Tuesday",
          "Tuesday",
          "Tuesday",
          "Tuesday",
          "Tuesday",
          "Tuesday",
          "Tuesday",
          "Tuesday",
          "Tuesday",
          "Tuesday",
          "Tuesday",
          "Tuesday",
          "Tuesday",
          "Tuesday",
          "Tuesday",
          "Tuesday",
          "Tuesday",
          "Tuesday",
          "Tuesday",
          "Tuesday",
          "Tuesday",
          "Tuesday",
          "Tuesday",
          "Tuesday",
          "Tuesday",
          "Tuesday",
          "Tuesday",
          "Tuesday",
          "Tuesday",
          "Tuesday",
          "Tuesday",
          "Tuesday",
          "Tuesday",
          "Tuesday",
          "Tuesday",
          "Tuesday",
          "Tuesday",
          "Tuesday",
          "Tuesday",
          "Tuesday",
          "Tuesday",
          "Tuesday",
          "Tuesday",
          "Tuesday",
          "Tuesday",
          "Tuesday",
          "Tuesday",
          "Tuesday",
          "Tuesday",
          "Tuesday",
          "Tuesday",
          "Tuesday",
          "Tuesday",
          "Tuesday",
          "Tuesday",
          "Tuesday",
          "Tuesday",
          "Tuesday",
          "Tuesday",
          "Tuesday",
          "Tuesday",
          "Tuesday",
          "Tuesday",
          "Tuesday",
          "Tuesday",
          "Tuesday"
         ],
         "y": {
          "bdata": "JAALACEADwAPAAIAEgARACoADAAfAAsAAQATACAABQAgAA8A//8UAGIAJgAUABEANwBDAAwADAAJAAoAxwAWABkAAgAoABAAKwAMABUAIAABADEAKQBDABoAHAAcAAsAHAAIABgAAAAeAAQAMgAtABcAQQAiAAQAEAAaABAABgACAC0A",
          "dtype": "i2"
         }
        },
        {
         "box": {
          "visible": true
         },
         "meanline": {
          "visible": true
         },
         "name": "Wednesday",
         "type": "violin",
         "x": [
          "Wednesday",
          "Wednesday",
          "Wednesday",
          "Wednesday",
          "Wednesday",
          "Wednesday",
          "Wednesday",
          "Wednesday",
          "Wednesday",
          "Wednesday",
          "Wednesday",
          "Wednesday",
          "Wednesday",
          "Wednesday",
          "Wednesday",
          "Wednesday",
          "Wednesday",
          "Wednesday",
          "Wednesday",
          "Wednesday",
          "Wednesday",
          "Wednesday",
          "Wednesday",
          "Wednesday",
          "Wednesday",
          "Wednesday",
          "Wednesday",
          "Wednesday",
          "Wednesday",
          "Wednesday",
          "Wednesday",
          "Wednesday",
          "Wednesday",
          "Wednesday",
          "Wednesday",
          "Wednesday",
          "Wednesday",
          "Wednesday",
          "Wednesday",
          "Wednesday",
          "Wednesday",
          "Wednesday",
          "Wednesday",
          "Wednesday",
          "Wednesday",
          "Wednesday",
          "Wednesday",
          "Wednesday",
          "Wednesday",
          "Wednesday",
          "Wednesday",
          "Wednesday",
          "Wednesday",
          "Wednesday",
          "Wednesday",
          "Wednesday",
          "Wednesday",
          "Wednesday",
          "Wednesday",
          "Wednesday",
          "Wednesday",
          "Wednesday",
          "Wednesday",
          "Wednesday"
         ],
         "y": {
          "bdata": "KD4ybBsNKfoWFQ8P/w8NA/4qKSohDBgAGykFFQYDHBEZDiIAJBEhBxUdBQYoFgUmE/wqAwguBlQuTSIQGgctEw==",
          "dtype": "i1"
         }
        },
        {
         "box": {
          "visible": true
         },
         "meanline": {
          "visible": true
         },
         "name": "Thursday",
         "type": "violin",
         "x": [
          "Thursday",
          "Thursday",
          "Thursday",
          "Thursday",
          "Thursday",
          "Thursday",
          "Thursday",
          "Thursday",
          "Thursday",
          "Thursday",
          "Thursday",
          "Thursday",
          "Thursday",
          "Thursday",
          "Thursday",
          "Thursday",
          "Thursday",
          "Thursday",
          "Thursday",
          "Thursday",
          "Thursday",
          "Thursday",
          "Thursday",
          "Thursday",
          "Thursday",
          "Thursday",
          "Thursday",
          "Thursday",
          "Thursday",
          "Thursday",
          "Thursday",
          "Thursday",
          "Thursday",
          "Thursday",
          "Thursday",
          "Thursday",
          "Thursday",
          "Thursday",
          "Thursday",
          "Thursday",
          "Thursday",
          "Thursday",
          "Thursday",
          "Thursday",
          "Thursday",
          "Thursday",
          "Thursday",
          "Thursday",
          "Thursday",
          "Thursday",
          "Thursday",
          "Thursday",
          "Thursday",
          "Thursday",
          "Thursday",
          "Thursday",
          "Thursday",
          "Thursday",
          "Thursday",
          "Thursday",
          "Thursday"
         ],
         "y": {
          "bdata": "EQClAC0AEwBEABwALAAOABYADQAoAAUAFQACAEAAAAAhAAEANwAnAC8AFwAhABUAaAD8/xcACwA6AA8ANQAJABsAGAAXACkAQQAbAAAAKQATABUAOwAFAB0AFwAKABcAAwAOAAcAHAAWAP3/MwAEAB4ALgBCAAkAPwA=",
          "dtype": "i2"
         }
        },
        {
         "box": {
          "visible": true
         },
         "meanline": {
          "visible": true
         },
         "name": "Friday",
         "type": "violin",
         "x": [
          "Friday",
          "Friday",
          "Friday",
          "Friday",
          "Friday",
          "Friday",
          "Friday",
          "Friday",
          "Friday",
          "Friday",
          "Friday",
          "Friday",
          "Friday",
          "Friday",
          "Friday",
          "Friday",
          "Friday",
          "Friday",
          "Friday",
          "Friday",
          "Friday",
          "Friday",
          "Friday",
          "Friday",
          "Friday",
          "Friday",
          "Friday",
          "Friday",
          "Friday",
          "Friday",
          "Friday",
          "Friday",
          "Friday",
          "Friday",
          "Friday",
          "Friday",
          "Friday",
          "Friday",
          "Friday",
          "Friday",
          "Friday",
          "Friday",
          "Friday",
          "Friday",
          "Friday",
          "Friday",
          "Friday",
          "Friday",
          "Friday",
          "Friday",
          "Friday",
          "Friday",
          "Friday",
          "Friday",
          "Friday",
          "Friday",
          "Friday",
          "Friday",
          "Friday"
         ],
         "y": {
          "bdata": "MQAdAE8AEwAbABcAFQAgABwAsQAOAPz/NwAkACgADAAJABQAFgAXABEAFgAcAAQAAgEVAA0AOQAJABQAFABAACgAdQATAP3/IAAfAD0AIQAVABsAAAAaAAUAFgAEABEABgBkAB0AUwBDABoAAAApAIcACAAQAA==",
          "dtype": "i2"
         }
        },
        {
         "box": {
          "visible": true
         },
         "meanline": {
          "visible": true
         },
         "name": "Saturday",
         "type": "violin",
         "x": [
          "Saturday",
          "Saturday",
          "Saturday",
          "Saturday",
          "Saturday",
          "Saturday",
          "Saturday",
          "Saturday",
          "Saturday",
          "Saturday",
          "Saturday",
          "Saturday",
          "Saturday",
          "Saturday",
          "Saturday",
          "Saturday",
          "Saturday",
          "Saturday",
          "Saturday",
          "Saturday",
          "Saturday",
          "Saturday",
          "Saturday",
          "Saturday",
          "Saturday",
          "Saturday",
          "Saturday",
          "Saturday",
          "Saturday",
          "Saturday",
          "Saturday",
          "Saturday",
          "Saturday",
          "Saturday",
          "Saturday",
          "Saturday",
          "Saturday",
          "Saturday",
          "Saturday",
          "Saturday",
          "Saturday",
          "Saturday",
          "Saturday",
          "Saturday",
          "Saturday"
         ],
         "y": {
          "bdata": "Vi0MCBsB/RIELwf7Fw0JHCwBDvwO8v8CCjr/HhIkD/IPABMmExU8FgpeFA5I",
          "dtype": "i1"
         }
        },
        {
         "box": {
          "visible": true
         },
         "meanline": {
          "visible": true
         },
         "name": "Sunday",
         "type": "violin",
         "x": [
          "Sunday",
          "Sunday",
          "Sunday",
          "Sunday",
          "Sunday",
          "Sunday",
          "Sunday",
          "Sunday",
          "Sunday",
          "Sunday",
          "Sunday",
          "Sunday",
          "Sunday",
          "Sunday",
          "Sunday",
          "Sunday",
          "Sunday",
          "Sunday",
          "Sunday",
          "Sunday",
          "Sunday",
          "Sunday",
          "Sunday",
          "Sunday",
          "Sunday",
          "Sunday",
          "Sunday",
          "Sunday",
          "Sunday",
          "Sunday",
          "Sunday",
          "Sunday",
          "Sunday",
          "Sunday",
          "Sunday",
          "Sunday",
          "Sunday",
          "Sunday",
          "Sunday",
          "Sunday",
          "Sunday",
          "Sunday",
          "Sunday",
          "Sunday",
          "Sunday"
         ],
         "y": {
          "bdata": "BQAQAE0AKQAiABgAQQAmAA0AKAAFAAMADgAKAC4AJQAkABcAHwAKABIACAAhACoACgAsAC8ADwAJAEMAGgARAFMAKgA0AAAAHQAPABUAgAAYACMAGAAPAAwA",
          "dtype": "i2"
         }
        }
       ],
       "layout": {
        "template": {
         "data": {
          "bar": [
           {
            "error_x": {
             "color": "#2a3f5f"
            },
            "error_y": {
             "color": "#2a3f5f"
            },
            "marker": {
             "line": {
              "color": "#E5ECF6",
              "width": 0.5
             },
             "pattern": {
              "fillmode": "overlay",
              "size": 10,
              "solidity": 0.2
             }
            },
            "type": "bar"
           }
          ],
          "barpolar": [
           {
            "marker": {
             "line": {
              "color": "#E5ECF6",
              "width": 0.5
             },
             "pattern": {
              "fillmode": "overlay",
              "size": 10,
              "solidity": 0.2
             }
            },
            "type": "barpolar"
           }
          ],
          "carpet": [
           {
            "aaxis": {
             "endlinecolor": "#2a3f5f",
             "gridcolor": "white",
             "linecolor": "white",
             "minorgridcolor": "white",
             "startlinecolor": "#2a3f5f"
            },
            "baxis": {
             "endlinecolor": "#2a3f5f",
             "gridcolor": "white",
             "linecolor": "white",
             "minorgridcolor": "white",
             "startlinecolor": "#2a3f5f"
            },
            "type": "carpet"
           }
          ],
          "choropleth": [
           {
            "colorbar": {
             "outlinewidth": 0,
             "ticks": ""
            },
            "type": "choropleth"
           }
          ],
          "contour": [
           {
            "colorbar": {
             "outlinewidth": 0,
             "ticks": ""
            },
            "colorscale": [
             [
              0,
              "#0d0887"
             ],
             [
              0.1111111111111111,
              "#46039f"
             ],
             [
              0.2222222222222222,
              "#7201a8"
             ],
             [
              0.3333333333333333,
              "#9c179e"
             ],
             [
              0.4444444444444444,
              "#bd3786"
             ],
             [
              0.5555555555555556,
              "#d8576b"
             ],
             [
              0.6666666666666666,
              "#ed7953"
             ],
             [
              0.7777777777777778,
              "#fb9f3a"
             ],
             [
              0.8888888888888888,
              "#fdca26"
             ],
             [
              1,
              "#f0f921"
             ]
            ],
            "type": "contour"
           }
          ],
          "contourcarpet": [
           {
            "colorbar": {
             "outlinewidth": 0,
             "ticks": ""
            },
            "type": "contourcarpet"
           }
          ],
          "heatmap": [
           {
            "colorbar": {
             "outlinewidth": 0,
             "ticks": ""
            },
            "colorscale": [
             [
              0,
              "#0d0887"
             ],
             [
              0.1111111111111111,
              "#46039f"
             ],
             [
              0.2222222222222222,
              "#7201a8"
             ],
             [
              0.3333333333333333,
              "#9c179e"
             ],
             [
              0.4444444444444444,
              "#bd3786"
             ],
             [
              0.5555555555555556,
              "#d8576b"
             ],
             [
              0.6666666666666666,
              "#ed7953"
             ],
             [
              0.7777777777777778,
              "#fb9f3a"
             ],
             [
              0.8888888888888888,
              "#fdca26"
             ],
             [
              1,
              "#f0f921"
             ]
            ],
            "type": "heatmap"
           }
          ],
          "histogram": [
           {
            "marker": {
             "pattern": {
              "fillmode": "overlay",
              "size": 10,
              "solidity": 0.2
             }
            },
            "type": "histogram"
           }
          ],
          "histogram2d": [
           {
            "colorbar": {
             "outlinewidth": 0,
             "ticks": ""
            },
            "colorscale": [
             [
              0,
              "#0d0887"
             ],
             [
              0.1111111111111111,
              "#46039f"
             ],
             [
              0.2222222222222222,
              "#7201a8"
             ],
             [
              0.3333333333333333,
              "#9c179e"
             ],
             [
              0.4444444444444444,
              "#bd3786"
             ],
             [
              0.5555555555555556,
              "#d8576b"
             ],
             [
              0.6666666666666666,
              "#ed7953"
             ],
             [
              0.7777777777777778,
              "#fb9f3a"
             ],
             [
              0.8888888888888888,
              "#fdca26"
             ],
             [
              1,
              "#f0f921"
             ]
            ],
            "type": "histogram2d"
           }
          ],
          "histogram2dcontour": [
           {
            "colorbar": {
             "outlinewidth": 0,
             "ticks": ""
            },
            "colorscale": [
             [
              0,
              "#0d0887"
             ],
             [
              0.1111111111111111,
              "#46039f"
             ],
             [
              0.2222222222222222,
              "#7201a8"
             ],
             [
              0.3333333333333333,
              "#9c179e"
             ],
             [
              0.4444444444444444,
              "#bd3786"
             ],
             [
              0.5555555555555556,
              "#d8576b"
             ],
             [
              0.6666666666666666,
              "#ed7953"
             ],
             [
              0.7777777777777778,
              "#fb9f3a"
             ],
             [
              0.8888888888888888,
              "#fdca26"
             ],
             [
              1,
              "#f0f921"
             ]
            ],
            "type": "histogram2dcontour"
           }
          ],
          "mesh3d": [
           {
            "colorbar": {
             "outlinewidth": 0,
             "ticks": ""
            },
            "type": "mesh3d"
           }
          ],
          "parcoords": [
           {
            "line": {
             "colorbar": {
              "outlinewidth": 0,
              "ticks": ""
             }
            },
            "type": "parcoords"
           }
          ],
          "pie": [
           {
            "automargin": true,
            "type": "pie"
           }
          ],
          "scatter": [
           {
            "fillpattern": {
             "fillmode": "overlay",
             "size": 10,
             "solidity": 0.2
            },
            "type": "scatter"
           }
          ],
          "scatter3d": [
           {
            "line": {
             "colorbar": {
              "outlinewidth": 0,
              "ticks": ""
             }
            },
            "marker": {
             "colorbar": {
              "outlinewidth": 0,
              "ticks": ""
             }
            },
            "type": "scatter3d"
           }
          ],
          "scattercarpet": [
           {
            "marker": {
             "colorbar": {
              "outlinewidth": 0,
              "ticks": ""
             }
            },
            "type": "scattercarpet"
           }
          ],
          "scattergeo": [
           {
            "marker": {
             "colorbar": {
              "outlinewidth": 0,
              "ticks": ""
             }
            },
            "type": "scattergeo"
           }
          ],
          "scattergl": [
           {
            "marker": {
             "colorbar": {
              "outlinewidth": 0,
              "ticks": ""
             }
            },
            "type": "scattergl"
           }
          ],
          "scattermap": [
           {
            "marker": {
             "colorbar": {
              "outlinewidth": 0,
              "ticks": ""
             }
            },
            "type": "scattermap"
           }
          ],
          "scattermapbox": [
           {
            "marker": {
             "colorbar": {
              "outlinewidth": 0,
              "ticks": ""
             }
            },
            "type": "scattermapbox"
           }
          ],
          "scatterpolar": [
           {
            "marker": {
             "colorbar": {
              "outlinewidth": 0,
              "ticks": ""
             }
            },
            "type": "scatterpolar"
           }
          ],
          "scatterpolargl": [
           {
            "marker": {
             "colorbar": {
              "outlinewidth": 0,
              "ticks": ""
             }
            },
            "type": "scatterpolargl"
           }
          ],
          "scatterternary": [
           {
            "marker": {
             "colorbar": {
              "outlinewidth": 0,
              "ticks": ""
             }
            },
            "type": "scatterternary"
           }
          ],
          "surface": [
           {
            "colorbar": {
             "outlinewidth": 0,
             "ticks": ""
            },
            "colorscale": [
             [
              0,
              "#0d0887"
             ],
             [
              0.1111111111111111,
              "#46039f"
             ],
             [
              0.2222222222222222,
              "#7201a8"
             ],
             [
              0.3333333333333333,
              "#9c179e"
             ],
             [
              0.4444444444444444,
              "#bd3786"
             ],
             [
              0.5555555555555556,
              "#d8576b"
             ],
             [
              0.6666666666666666,
              "#ed7953"
             ],
             [
              0.7777777777777778,
              "#fb9f3a"
             ],
             [
              0.8888888888888888,
              "#fdca26"
             ],
             [
              1,
              "#f0f921"
             ]
            ],
            "type": "surface"
           }
          ],
          "table": [
           {
            "cells": {
             "fill": {
              "color": "#EBF0F8"
             },
             "line": {
              "color": "white"
             }
            },
            "header": {
             "fill": {
              "color": "#C8D4E3"
             },
             "line": {
              "color": "white"
             }
            },
            "type": "table"
           }
          ]
         },
         "layout": {
          "annotationdefaults": {
           "arrowcolor": "#2a3f5f",
           "arrowhead": 0,
           "arrowwidth": 1
          },
          "autotypenumbers": "strict",
          "coloraxis": {
           "colorbar": {
            "outlinewidth": 0,
            "ticks": ""
           }
          },
          "colorscale": {
           "diverging": [
            [
             0,
             "#8e0152"
            ],
            [
             0.1,
             "#c51b7d"
            ],
            [
             0.2,
             "#de77ae"
            ],
            [
             0.3,
             "#f1b6da"
            ],
            [
             0.4,
             "#fde0ef"
            ],
            [
             0.5,
             "#f7f7f7"
            ],
            [
             0.6,
             "#e6f5d0"
            ],
            [
             0.7,
             "#b8e186"
            ],
            [
             0.8,
             "#7fbc41"
            ],
            [
             0.9,
             "#4d9221"
            ],
            [
             1,
             "#276419"
            ]
           ],
           "sequential": [
            [
             0,
             "#0d0887"
            ],
            [
             0.1111111111111111,
             "#46039f"
            ],
            [
             0.2222222222222222,
             "#7201a8"
            ],
            [
             0.3333333333333333,
             "#9c179e"
            ],
            [
             0.4444444444444444,
             "#bd3786"
            ],
            [
             0.5555555555555556,
             "#d8576b"
            ],
            [
             0.6666666666666666,
             "#ed7953"
            ],
            [
             0.7777777777777778,
             "#fb9f3a"
            ],
            [
             0.8888888888888888,
             "#fdca26"
            ],
            [
             1,
             "#f0f921"
            ]
           ],
           "sequentialminus": [
            [
             0,
             "#0d0887"
            ],
            [
             0.1111111111111111,
             "#46039f"
            ],
            [
             0.2222222222222222,
             "#7201a8"
            ],
            [
             0.3333333333333333,
             "#9c179e"
            ],
            [
             0.4444444444444444,
             "#bd3786"
            ],
            [
             0.5555555555555556,
             "#d8576b"
            ],
            [
             0.6666666666666666,
             "#ed7953"
            ],
            [
             0.7777777777777778,
             "#fb9f3a"
            ],
            [
             0.8888888888888888,
             "#fdca26"
            ],
            [
             1,
             "#f0f921"
            ]
           ]
          },
          "colorway": [
           "#636efa",
           "#EF553B",
           "#00cc96",
           "#ab63fa",
           "#FFA15A",
           "#19d3f3",
           "#FF6692",
           "#B6E880",
           "#FF97FF",
           "#FECB52"
          ],
          "font": {
           "color": "#2a3f5f"
          },
          "geo": {
           "bgcolor": "white",
           "lakecolor": "white",
           "landcolor": "#E5ECF6",
           "showlakes": true,
           "showland": true,
           "subunitcolor": "white"
          },
          "hoverlabel": {
           "align": "left"
          },
          "hovermode": "closest",
          "mapbox": {
           "style": "light"
          },
          "paper_bgcolor": "white",
          "plot_bgcolor": "#E5ECF6",
          "polar": {
           "angularaxis": {
            "gridcolor": "white",
            "linecolor": "white",
            "ticks": ""
           },
           "bgcolor": "#E5ECF6",
           "radialaxis": {
            "gridcolor": "white",
            "linecolor": "white",
            "ticks": ""
           }
          },
          "scene": {
           "xaxis": {
            "backgroundcolor": "#E5ECF6",
            "gridcolor": "white",
            "gridwidth": 2,
            "linecolor": "white",
            "showbackground": true,
            "ticks": "",
            "zerolinecolor": "white"
           },
           "yaxis": {
            "backgroundcolor": "#E5ECF6",
            "gridcolor": "white",
            "gridwidth": 2,
            "linecolor": "white",
            "showbackground": true,
            "ticks": "",
            "zerolinecolor": "white"
           },
           "zaxis": {
            "backgroundcolor": "#E5ECF6",
            "gridcolor": "white",
            "gridwidth": 2,
            "linecolor": "white",
            "showbackground": true,
            "ticks": "",
            "zerolinecolor": "white"
           }
          },
          "shapedefaults": {
           "line": {
            "color": "#2a3f5f"
           }
          },
          "ternary": {
           "aaxis": {
            "gridcolor": "white",
            "linecolor": "white",
            "ticks": ""
           },
           "baxis": {
            "gridcolor": "white",
            "linecolor": "white",
            "ticks": ""
           },
           "bgcolor": "#E5ECF6",
           "caxis": {
            "gridcolor": "white",
            "linecolor": "white",
            "ticks": ""
           }
          },
          "title": {
           "x": 0.05
          },
          "xaxis": {
           "automargin": true,
           "gridcolor": "white",
           "linecolor": "white",
           "ticks": "",
           "title": {
            "standoff": 15
           },
           "zerolinecolor": "white",
           "zerolinewidth": 2
          },
          "yaxis": {
           "automargin": true,
           "gridcolor": "white",
           "linecolor": "white",
           "ticks": "",
           "title": {
            "standoff": 15
           },
           "zerolinecolor": "white",
           "zerolinewidth": 2
          }
         }
        }
       }
      }
     },
     "metadata": {},
     "output_type": "display_data"
    }
   ],
   "source": [
    "#df = pd.read_csv(\"https://raw.githubusercontent.com/plotly/datasets/master/violin_data.csv\")\n",
    "df = via_montreal_arrival\n",
    "\n",
    "fig = go.Figure()\n",
    "\n",
    "days = ['Monday', 'Tuesday', 'Wednesday', 'Thursday', 'Friday', 'Saturday', 'Sunday']\n",
    "\n",
    "for day in days:\n",
    "    fig.add_trace(go.Violin(x=df['day_of_week'][df['day_of_week'] == day],\n",
    "                            y=df['MINUTES_LATE'][df['day_of_week'] == day],\n",
    "                            name=day,\n",
    "                            box_visible=True,\n",
    "                            meanline_visible=True))\n",
    "\n",
    "fig.show()"
   ]
  },
  {
   "cell_type": "code",
   "execution_count": 35,
   "metadata": {},
   "outputs": [],
   "source": [
    "import plotly.io as pio\n",
    "pio.templates.default = \"simple_white\""
   ]
  },
  {
   "cell_type": "code",
   "execution_count": 30,
   "metadata": {},
   "outputs": [
    {
     "data": {
      "application/vnd.plotly.v1+json": {
       "config": {
        "plotlyServerURL": "https://plot.ly"
       },
       "data": [
        {
         "box": {
          "visible": true
         },
         "meanline": {
          "visible": true
         },
         "name": "60",
         "type": "violin",
         "x": [
          "60",
          "60",
          "60",
          "60",
          "60",
          "60",
          "60",
          "60",
          "60",
          "60",
          "60",
          "60",
          "60",
          "60",
          "60",
          "60",
          "60",
          "60",
          "60",
          "60",
          "60",
          "60",
          "60",
          "60",
          "60",
          "60",
          "60",
          "60",
          "60",
          "60",
          "60",
          "60",
          "60",
          "60",
          "60",
          "60",
          "60",
          "60",
          "60",
          "60",
          "60",
          "60",
          "60",
          "60",
          "60",
          "60",
          "60",
          "60",
          "60",
          "60",
          "60",
          "60",
          "60",
          "60",
          "60",
          "60",
          "60",
          "60",
          "60",
          "60",
          "60",
          "60"
         ],
         "y": {
          "bdata": "ExkxKC0kFQ4BBxsPBh4eKRwPDCoREBILLCgcQA83ORsGEyIOHg8vHWgKKBsPIBMuHCYRHhspGjsXEBYwCho=",
          "dtype": "i1"
         }
        },
        {
         "box": {
          "visible": true
         },
         "meanline": {
          "visible": true
         },
         "name": "62",
         "type": "violin",
         "x": [
          "62",
          "62",
          "62",
          "62",
          "62",
          "62",
          "62",
          "62",
          "62",
          "62",
          "62",
          "62",
          "62",
          "62",
          "62",
          "62",
          "62",
          "62",
          "62",
          "62",
          "62",
          "62",
          "62",
          "62",
          "62",
          "62",
          "62",
          "62",
          "62",
          "62",
          "62",
          "62",
          "62",
          "62",
          "62",
          "62",
          "62",
          "62",
          "62",
          "62",
          "62",
          "62",
          "62",
          "62",
          "62",
          "62",
          "62",
          "62",
          "62",
          "62",
          "62",
          "62",
          "62",
          "62",
          "62",
          "62",
          "62",
          "62",
          "62",
          "62",
          "62",
          "62",
          "62",
          "62",
          "62",
          "62",
          "62",
          "62",
          "62",
          "62",
          "62",
          "62"
         ],
         "y": {
          "bdata": "JwAQACgAIgBPADIADAAmACEAHAA3ABIADgAXABQALgAIADIAGgAWABcAAQAPABQAKgAtABUAKgATABYAFQACASEAFABDABQAKQAcACAAJAD/////DwAhACEABQAXABYAKwAaABQAMQAqAFQACwAVAGQAMgAsABcAEwBTACkAHQAOAB0ABwAzABgAGwAUABAA",
          "dtype": "i2"
         }
        },
        {
         "box": {
          "visible": true
         },
         "meanline": {
          "visible": true
         },
         "name": "64",
         "type": "violin",
         "x": [
          "64",
          "64",
          "64",
          "64",
          "64",
          "64",
          "64",
          "64",
          "64",
          "64",
          "64",
          "64",
          "64",
          "64",
          "64",
          "64",
          "64",
          "64",
          "64",
          "64",
          "64",
          "64",
          "64",
          "64",
          "64",
          "64",
          "64",
          "64",
          "64",
          "64",
          "64",
          "64",
          "64",
          "64",
          "64",
          "64",
          "64",
          "64",
          "64",
          "64",
          "64",
          "64",
          "64",
          "64",
          "64",
          "64",
          "64",
          "64",
          "64",
          "64",
          "64",
          "64",
          "64",
          "64",
          "64",
          "64",
          "64",
          "64",
          "64",
          "64",
          "64",
          "64",
          "64",
          "64",
          "64",
          "64",
          "64",
          "64",
          "64",
          "64",
          "64",
          "64"
         ],
         "y": {
          "bdata": "+/8FAPT/KQAdAD4AVgBBAAsAIAD8//3/AwD7//7/+/8FAAAA+v/6/yQALAD//wkAKQClAAkAEQABAA4ABQAEAAAA//8RAAkAAAADAP3/AADy/zoA8v8IABcABgD8/8cAEAAAAAAAAQD8/wYAHAATAAYABAAKABgAAAARAAAABQADAAAAGgD9/4AAAwBeABAA",
          "dtype": "i2"
         }
        },
        {
         "box": {
          "visible": true
         },
         "meanline": {
          "visible": true
         },
         "name": "66",
         "type": "violin",
         "x": [
          "66",
          "66",
          "66",
          "66",
          "66",
          "66",
          "66",
          "66",
          "66",
          "66",
          "66",
          "66",
          "66",
          "66",
          "66",
          "66",
          "66",
          "66",
          "66",
          "66",
          "66",
          "66",
          "66",
          "66",
          "66",
          "66",
          "66",
          "66",
          "66",
          "66",
          "66",
          "66",
          "66",
          "66",
          "66",
          "66",
          "66",
          "66",
          "66",
          "66",
          "66",
          "66",
          "66",
          "66",
          "66",
          "66",
          "66",
          "66",
          "66",
          "66",
          "66",
          "66",
          "66",
          "66",
          "66",
          "66",
          "66",
          "66",
          "66",
          "66",
          "66",
          "66",
          "66",
          "66",
          "66",
          "66",
          "66",
          "66",
          "66",
          "66",
          "66",
          "66"
         ],
         "y": {
          "bdata": "FQBNABoAGAATAGwACAANAA8AsQAkAAQACgANACcAAwAeACYAAQAVAB8ADgANABYAIQATADwADAAgAA0AAgAVAAEAYgAMABQABQARAB8AEQACABIAAAAqABUAKAALABkADAAFAAsAKQADAC4AHAA8AB0ALQAvACkAFQAqAIcAFwAHAA8ALQAEACMAFAAOAAYA",
          "dtype": "i2"
         }
        },
        {
         "box": {
          "visible": true
         },
         "meanline": {
          "visible": true
         },
         "name": "68",
         "type": "violin",
         "x": [
          "68",
          "68",
          "68",
          "68",
          "68",
          "68",
          "68",
          "68",
          "68",
          "68",
          "68",
          "68",
          "68",
          "68",
          "68",
          "68",
          "68",
          "68",
          "68",
          "68",
          "68",
          "68",
          "68",
          "68",
          "68",
          "68",
          "68",
          "68",
          "68",
          "68",
          "68",
          "68",
          "68",
          "68",
          "68",
          "68",
          "68",
          "68",
          "68",
          "68",
          "68",
          "68",
          "68",
          "68",
          "68",
          "68",
          "68",
          "68",
          "68",
          "68",
          "68",
          "68",
          "68",
          "68",
          "68",
          "68",
          "68",
          "68",
          "68",
          "68",
          "68",
          "68",
          "68",
          "68",
          "68",
          "68",
          "68",
          "68",
          "68"
         ],
         "y": {
          "bdata": "CzcbGxsoDygvLgkhOjUBDw8K/AMXDEQ9HwUNJgxAFTcZdT0hCiQTFjoCFTUW/kMITQgWD0FDQTRDCAocFRMeGEI/UEgC",
          "dtype": "i1"
         }
        },
        {
         "box": {
          "visible": true
         },
         "meanline": {
          "visible": true
         },
         "name": "668",
         "type": "violin",
         "x": [
          "668",
          "668",
          "668",
          "668",
          "668",
          "668",
          "668",
          "668",
          "668",
          "668",
          "668",
          "668",
          "668",
          "668",
          "668",
          "668",
          "668",
          "668",
          "668",
          "668",
          "668",
          "668",
          "668",
          "668",
          "668",
          "668",
          "668",
          "668",
          "668",
          "668",
          "668",
          "668",
          "668",
          "668",
          "668",
          "668",
          "668",
          "668",
          "668",
          "668",
          "668",
          "668",
          "668",
          "668",
          "668",
          "668",
          "668",
          "668",
          "668",
          "668",
          "668",
          "668",
          "668"
         ],
         "y": {
          "bdata": "CxAXDQUCJQoSEAkCEv4RGBwWGSAUCSgnDiEHFQUPFTEJBBYmGhgAUwkbGhciECIuCQQPDC0=",
          "dtype": "i1"
         }
        }
       ],
       "layout": {
        "template": {
         "data": {
          "bar": [
           {
            "error_x": {
             "color": "#2a3f5f"
            },
            "error_y": {
             "color": "#2a3f5f"
            },
            "marker": {
             "line": {
              "color": "white",
              "width": 0.5
             },
             "pattern": {
              "fillmode": "overlay",
              "size": 10,
              "solidity": 0.2
             }
            },
            "type": "bar"
           }
          ],
          "barpolar": [
           {
            "marker": {
             "line": {
              "color": "white",
              "width": 0.5
             },
             "pattern": {
              "fillmode": "overlay",
              "size": 10,
              "solidity": 0.2
             }
            },
            "type": "barpolar"
           }
          ],
          "carpet": [
           {
            "aaxis": {
             "endlinecolor": "#2a3f5f",
             "gridcolor": "#C8D4E3",
             "linecolor": "#C8D4E3",
             "minorgridcolor": "#C8D4E3",
             "startlinecolor": "#2a3f5f"
            },
            "baxis": {
             "endlinecolor": "#2a3f5f",
             "gridcolor": "#C8D4E3",
             "linecolor": "#C8D4E3",
             "minorgridcolor": "#C8D4E3",
             "startlinecolor": "#2a3f5f"
            },
            "type": "carpet"
           }
          ],
          "choropleth": [
           {
            "colorbar": {
             "outlinewidth": 0,
             "ticks": ""
            },
            "type": "choropleth"
           }
          ],
          "contour": [
           {
            "colorbar": {
             "outlinewidth": 0,
             "ticks": ""
            },
            "colorscale": [
             [
              0,
              "#0d0887"
             ],
             [
              0.1111111111111111,
              "#46039f"
             ],
             [
              0.2222222222222222,
              "#7201a8"
             ],
             [
              0.3333333333333333,
              "#9c179e"
             ],
             [
              0.4444444444444444,
              "#bd3786"
             ],
             [
              0.5555555555555556,
              "#d8576b"
             ],
             [
              0.6666666666666666,
              "#ed7953"
             ],
             [
              0.7777777777777778,
              "#fb9f3a"
             ],
             [
              0.8888888888888888,
              "#fdca26"
             ],
             [
              1,
              "#f0f921"
             ]
            ],
            "type": "contour"
           }
          ],
          "contourcarpet": [
           {
            "colorbar": {
             "outlinewidth": 0,
             "ticks": ""
            },
            "type": "contourcarpet"
           }
          ],
          "heatmap": [
           {
            "colorbar": {
             "outlinewidth": 0,
             "ticks": ""
            },
            "colorscale": [
             [
              0,
              "#0d0887"
             ],
             [
              0.1111111111111111,
              "#46039f"
             ],
             [
              0.2222222222222222,
              "#7201a8"
             ],
             [
              0.3333333333333333,
              "#9c179e"
             ],
             [
              0.4444444444444444,
              "#bd3786"
             ],
             [
              0.5555555555555556,
              "#d8576b"
             ],
             [
              0.6666666666666666,
              "#ed7953"
             ],
             [
              0.7777777777777778,
              "#fb9f3a"
             ],
             [
              0.8888888888888888,
              "#fdca26"
             ],
             [
              1,
              "#f0f921"
             ]
            ],
            "type": "heatmap"
           }
          ],
          "histogram": [
           {
            "marker": {
             "pattern": {
              "fillmode": "overlay",
              "size": 10,
              "solidity": 0.2
             }
            },
            "type": "histogram"
           }
          ],
          "histogram2d": [
           {
            "colorbar": {
             "outlinewidth": 0,
             "ticks": ""
            },
            "colorscale": [
             [
              0,
              "#0d0887"
             ],
             [
              0.1111111111111111,
              "#46039f"
             ],
             [
              0.2222222222222222,
              "#7201a8"
             ],
             [
              0.3333333333333333,
              "#9c179e"
             ],
             [
              0.4444444444444444,
              "#bd3786"
             ],
             [
              0.5555555555555556,
              "#d8576b"
             ],
             [
              0.6666666666666666,
              "#ed7953"
             ],
             [
              0.7777777777777778,
              "#fb9f3a"
             ],
             [
              0.8888888888888888,
              "#fdca26"
             ],
             [
              1,
              "#f0f921"
             ]
            ],
            "type": "histogram2d"
           }
          ],
          "histogram2dcontour": [
           {
            "colorbar": {
             "outlinewidth": 0,
             "ticks": ""
            },
            "colorscale": [
             [
              0,
              "#0d0887"
             ],
             [
              0.1111111111111111,
              "#46039f"
             ],
             [
              0.2222222222222222,
              "#7201a8"
             ],
             [
              0.3333333333333333,
              "#9c179e"
             ],
             [
              0.4444444444444444,
              "#bd3786"
             ],
             [
              0.5555555555555556,
              "#d8576b"
             ],
             [
              0.6666666666666666,
              "#ed7953"
             ],
             [
              0.7777777777777778,
              "#fb9f3a"
             ],
             [
              0.8888888888888888,
              "#fdca26"
             ],
             [
              1,
              "#f0f921"
             ]
            ],
            "type": "histogram2dcontour"
           }
          ],
          "mesh3d": [
           {
            "colorbar": {
             "outlinewidth": 0,
             "ticks": ""
            },
            "type": "mesh3d"
           }
          ],
          "parcoords": [
           {
            "line": {
             "colorbar": {
              "outlinewidth": 0,
              "ticks": ""
             }
            },
            "type": "parcoords"
           }
          ],
          "pie": [
           {
            "automargin": true,
            "type": "pie"
           }
          ],
          "scatter": [
           {
            "fillpattern": {
             "fillmode": "overlay",
             "size": 10,
             "solidity": 0.2
            },
            "type": "scatter"
           }
          ],
          "scatter3d": [
           {
            "line": {
             "colorbar": {
              "outlinewidth": 0,
              "ticks": ""
             }
            },
            "marker": {
             "colorbar": {
              "outlinewidth": 0,
              "ticks": ""
             }
            },
            "type": "scatter3d"
           }
          ],
          "scattercarpet": [
           {
            "marker": {
             "colorbar": {
              "outlinewidth": 0,
              "ticks": ""
             }
            },
            "type": "scattercarpet"
           }
          ],
          "scattergeo": [
           {
            "marker": {
             "colorbar": {
              "outlinewidth": 0,
              "ticks": ""
             }
            },
            "type": "scattergeo"
           }
          ],
          "scattergl": [
           {
            "marker": {
             "colorbar": {
              "outlinewidth": 0,
              "ticks": ""
             }
            },
            "type": "scattergl"
           }
          ],
          "scattermap": [
           {
            "marker": {
             "colorbar": {
              "outlinewidth": 0,
              "ticks": ""
             }
            },
            "type": "scattermap"
           }
          ],
          "scattermapbox": [
           {
            "marker": {
             "colorbar": {
              "outlinewidth": 0,
              "ticks": ""
             }
            },
            "type": "scattermapbox"
           }
          ],
          "scatterpolar": [
           {
            "marker": {
             "colorbar": {
              "outlinewidth": 0,
              "ticks": ""
             }
            },
            "type": "scatterpolar"
           }
          ],
          "scatterpolargl": [
           {
            "marker": {
             "colorbar": {
              "outlinewidth": 0,
              "ticks": ""
             }
            },
            "type": "scatterpolargl"
           }
          ],
          "scatterternary": [
           {
            "marker": {
             "colorbar": {
              "outlinewidth": 0,
              "ticks": ""
             }
            },
            "type": "scatterternary"
           }
          ],
          "surface": [
           {
            "colorbar": {
             "outlinewidth": 0,
             "ticks": ""
            },
            "colorscale": [
             [
              0,
              "#0d0887"
             ],
             [
              0.1111111111111111,
              "#46039f"
             ],
             [
              0.2222222222222222,
              "#7201a8"
             ],
             [
              0.3333333333333333,
              "#9c179e"
             ],
             [
              0.4444444444444444,
              "#bd3786"
             ],
             [
              0.5555555555555556,
              "#d8576b"
             ],
             [
              0.6666666666666666,
              "#ed7953"
             ],
             [
              0.7777777777777778,
              "#fb9f3a"
             ],
             [
              0.8888888888888888,
              "#fdca26"
             ],
             [
              1,
              "#f0f921"
             ]
            ],
            "type": "surface"
           }
          ],
          "table": [
           {
            "cells": {
             "fill": {
              "color": "#EBF0F8"
             },
             "line": {
              "color": "white"
             }
            },
            "header": {
             "fill": {
              "color": "#C8D4E3"
             },
             "line": {
              "color": "white"
             }
            },
            "type": "table"
           }
          ]
         },
         "layout": {
          "annotationdefaults": {
           "arrowcolor": "#2a3f5f",
           "arrowhead": 0,
           "arrowwidth": 1
          },
          "autotypenumbers": "strict",
          "coloraxis": {
           "colorbar": {
            "outlinewidth": 0,
            "ticks": ""
           }
          },
          "colorscale": {
           "diverging": [
            [
             0,
             "#8e0152"
            ],
            [
             0.1,
             "#c51b7d"
            ],
            [
             0.2,
             "#de77ae"
            ],
            [
             0.3,
             "#f1b6da"
            ],
            [
             0.4,
             "#fde0ef"
            ],
            [
             0.5,
             "#f7f7f7"
            ],
            [
             0.6,
             "#e6f5d0"
            ],
            [
             0.7,
             "#b8e186"
            ],
            [
             0.8,
             "#7fbc41"
            ],
            [
             0.9,
             "#4d9221"
            ],
            [
             1,
             "#276419"
            ]
           ],
           "sequential": [
            [
             0,
             "#0d0887"
            ],
            [
             0.1111111111111111,
             "#46039f"
            ],
            [
             0.2222222222222222,
             "#7201a8"
            ],
            [
             0.3333333333333333,
             "#9c179e"
            ],
            [
             0.4444444444444444,
             "#bd3786"
            ],
            [
             0.5555555555555556,
             "#d8576b"
            ],
            [
             0.6666666666666666,
             "#ed7953"
            ],
            [
             0.7777777777777778,
             "#fb9f3a"
            ],
            [
             0.8888888888888888,
             "#fdca26"
            ],
            [
             1,
             "#f0f921"
            ]
           ],
           "sequentialminus": [
            [
             0,
             "#0d0887"
            ],
            [
             0.1111111111111111,
             "#46039f"
            ],
            [
             0.2222222222222222,
             "#7201a8"
            ],
            [
             0.3333333333333333,
             "#9c179e"
            ],
            [
             0.4444444444444444,
             "#bd3786"
            ],
            [
             0.5555555555555556,
             "#d8576b"
            ],
            [
             0.6666666666666666,
             "#ed7953"
            ],
            [
             0.7777777777777778,
             "#fb9f3a"
            ],
            [
             0.8888888888888888,
             "#fdca26"
            ],
            [
             1,
             "#f0f921"
            ]
           ]
          },
          "colorway": [
           "#636efa",
           "#EF553B",
           "#00cc96",
           "#ab63fa",
           "#FFA15A",
           "#19d3f3",
           "#FF6692",
           "#B6E880",
           "#FF97FF",
           "#FECB52"
          ],
          "font": {
           "color": "#2a3f5f"
          },
          "geo": {
           "bgcolor": "white",
           "lakecolor": "white",
           "landcolor": "white",
           "showlakes": true,
           "showland": true,
           "subunitcolor": "#C8D4E3"
          },
          "hoverlabel": {
           "align": "left"
          },
          "hovermode": "closest",
          "mapbox": {
           "style": "light"
          },
          "paper_bgcolor": "white",
          "plot_bgcolor": "white",
          "polar": {
           "angularaxis": {
            "gridcolor": "#EBF0F8",
            "linecolor": "#EBF0F8",
            "ticks": ""
           },
           "bgcolor": "white",
           "radialaxis": {
            "gridcolor": "#EBF0F8",
            "linecolor": "#EBF0F8",
            "ticks": ""
           }
          },
          "scene": {
           "xaxis": {
            "backgroundcolor": "white",
            "gridcolor": "#DFE8F3",
            "gridwidth": 2,
            "linecolor": "#EBF0F8",
            "showbackground": true,
            "ticks": "",
            "zerolinecolor": "#EBF0F8"
           },
           "yaxis": {
            "backgroundcolor": "white",
            "gridcolor": "#DFE8F3",
            "gridwidth": 2,
            "linecolor": "#EBF0F8",
            "showbackground": true,
            "ticks": "",
            "zerolinecolor": "#EBF0F8"
           },
           "zaxis": {
            "backgroundcolor": "white",
            "gridcolor": "#DFE8F3",
            "gridwidth": 2,
            "linecolor": "#EBF0F8",
            "showbackground": true,
            "ticks": "",
            "zerolinecolor": "#EBF0F8"
           }
          },
          "shapedefaults": {
           "line": {
            "color": "#2a3f5f"
           }
          },
          "ternary": {
           "aaxis": {
            "gridcolor": "#DFE8F3",
            "linecolor": "#A2B1C6",
            "ticks": ""
           },
           "baxis": {
            "gridcolor": "#DFE8F3",
            "linecolor": "#A2B1C6",
            "ticks": ""
           },
           "bgcolor": "white",
           "caxis": {
            "gridcolor": "#DFE8F3",
            "linecolor": "#A2B1C6",
            "ticks": ""
           }
          },
          "title": {
           "x": 0.05
          },
          "xaxis": {
           "automargin": true,
           "gridcolor": "#EBF0F8",
           "linecolor": "#EBF0F8",
           "ticks": "",
           "title": {
            "standoff": 15
           },
           "zerolinecolor": "#EBF0F8",
           "zerolinewidth": 2
          },
          "yaxis": {
           "automargin": true,
           "gridcolor": "#EBF0F8",
           "linecolor": "#EBF0F8",
           "ticks": "",
           "title": {
            "standoff": 15
           },
           "zerolinecolor": "#EBF0F8",
           "zerolinewidth": 2
          }
         }
        }
       }
      }
     },
     "metadata": {},
     "output_type": "display_data"
    }
   ],
   "source": [
    "#df = pd.read_csv(\"https://raw.githubusercontent.com/plotly/datasets/master/violin_data.csv\")\n",
    "df = via_montreal_arrival\n",
    "\n",
    "fig = go.Figure()\n",
    "\n",
    "trains = ['60', '62', '64', '66', '68', '668']\n",
    "\n",
    "for train in trains:\n",
    "    fig.add_trace(go.Violin(x=df['TRAIN_NUMBER'][df['TRAIN_NUMBER'] == train],\n",
    "                            y=df['MINUTES_LATE'][df['TRAIN_NUMBER'] == train],\n",
    "                            name=train,\n",
    "                            box_visible=True,\n",
    "                            meanline_visible=True))\n",
    "\n",
    "fig.show()"
   ]
  },
  {
   "cell_type": "code",
   "execution_count": null,
   "metadata": {},
   "outputs": [
    {
     "name": "stderr",
     "output_type": "stream",
     "text": [
      "/tmp/ipykernel_755/566185549.py:8: SettingWithCopyWarning:\n",
      "\n",
      "\n",
      "A value is trying to be set on a copy of a slice from a DataFrame.\n",
      "Try using .loc[row_indexer,col_indexer] = value instead\n",
      "\n",
      "See the caveats in the documentation: https://pandas.pydata.org/pandas-docs/stable/user_guide/indexing.html#returning-a-view-versus-a-copy\n",
      "\n"
     ]
    },
    {
     "data": {
      "application/vnd.plotly.v1+json": {
       "config": {
        "plotlyServerURL": "https://plot.ly"
       },
       "data": [
        {
         "name": "60",
         "type": "box",
         "x": [
          "60",
          "60",
          "60",
          "60",
          "60",
          "60",
          "60",
          "60",
          "60",
          "60",
          "60",
          "60",
          "60",
          "60",
          "60",
          "60",
          "60",
          "60",
          "60",
          "60",
          "60",
          "60",
          "60",
          "60",
          "60",
          "60",
          "60",
          "60",
          "60",
          "60",
          "60",
          "60",
          "60",
          "60",
          "60",
          "60",
          "60",
          "60",
          "60",
          "60",
          "60",
          "60",
          "60",
          "60",
          "60",
          "60",
          "60",
          "60",
          "60",
          "60",
          "60",
          "60",
          "60",
          "60",
          "60",
          "60",
          "60",
          "60",
          "60",
          "60",
          "60",
          "60"
         ],
         "y": {
          "bdata": "RERERERE1D+rqqqqqqraPyIiIiIiIuo/VVVVVVVV5T8AAAAAAADoPzMzMzMzM+M/ZmZmZmZm1j/e3d3d3d3NPxEREREREZE/3t3d3d3dvT/NzMzMzMzcPwAAAAAAANA/mpmZmZmZuT8AAAAAAADgPwAAAAAAAOA/3t3d3d3d5T/e3d3d3d3dPwAAAAAAANA/mpmZmZmZyT9mZmZmZmbmPyIiIiIiItI/ERERERER0T8zMzMzMzPTP3d3d3d3d8c/d3d3d3d35z9VVVVVVVXlP97d3d3d3d0/ERERERER8T8AAAAAAADQP1VVVVVVVe0/ZmZmZmZm7j/NzMzMzMzcP5qZmZmZmbk/RERERERE1D8iIiIiIiLiP97d3d3d3c0/AAAAAAAA4D8AAAAAAADQPxEREREREek/7+7u7u7u3j+8u7u7u7v7P1VVVVVVVcU/VVVVVVVV5T/NzMzMzMzcPwAAAAAAANA/ERERERER4T9ERERERETUP4mIiIiIiOg/3t3d3d3d3T9ERERERETkPyIiIiIiItI/AAAAAAAA4D/NzMzMzMzcP97d3d3d3eU/vLu7u7u72z93d3d3d3fvP4mIiIiIiNg/ERERERER0T93d3d3d3fXP5qZmZmZmek/VVVVVVVVxT+8u7u7u7vbPw==",
          "dtype": "f8"
         }
        },
        {
         "name": "62",
         "type": "box",
         "x": [
          "62",
          "62",
          "62",
          "62",
          "62",
          "62",
          "62",
          "62",
          "62",
          "62",
          "62",
          "62",
          "62",
          "62",
          "62",
          "62",
          "62",
          "62",
          "62",
          "62",
          "62",
          "62",
          "62",
          "62",
          "62",
          "62",
          "62",
          "62",
          "62",
          "62",
          "62",
          "62",
          "62",
          "62",
          "62",
          "62",
          "62",
          "62",
          "62",
          "62",
          "62",
          "62",
          "62",
          "62",
          "62",
          "62",
          "62",
          "62",
          "62",
          "62",
          "62",
          "62",
          "62",
          "62",
          "62",
          "62",
          "62",
          "62",
          "62",
          "62",
          "62",
          "62",
          "62",
          "62",
          "62",
          "62",
          "62",
          "62",
          "62",
          "62",
          "62",
          "62"
         ],
         "y": {
          "bdata": "zczMzMzM5D8RERERERHRP1VVVVVVVeU/IiIiIiIi4j8RERERERH1P6uqqqqqquo/mpmZmZmZyT9ERERERETkP5qZmZmZmeE/3t3d3d3d3T9VVVVVVVXtPzMzMzMzM9M/3t3d3d3dzT+JiIiIiIjYP1VVVVVVVdU/iYiIiIiI6D8RERERERHBP6uqqqqqquo/vLu7u7u72z93d3d3d3fXP4mIiIiIiNg/ERERERERkT8AAAAAAADQP1VVVVVVVdU/ZmZmZmZm5j8AAAAAAADoP2ZmZmZmZtY/ZmZmZmZm5j9ERERERETUP3d3d3d3d9c/ZmZmZmZm1j8zMzMzMzMRQJqZmZmZmeE/VVVVVVVV1T/e3d3d3d3xP1VVVVVVVdU/3t3d3d3d5T/e3d3d3d3dPxEREREREeE/MzMzMzMz4z8RERERERGRvxEREREREZG/AAAAAAAA0D+amZmZmZnhP5qZmZmZmeE/VVVVVVVVtT+JiIiIiIjYP3d3d3d3d9c/7+7u7u7u5j+8u7u7u7vbP1VVVVVVVdU/IiIiIiIi6j9mZmZmZmbmP2ZmZmZmZvY/d3d3d3d3xz9mZmZmZmbWP6uqqqqqqvo/q6qqqqqq6j93d3d3d3fnP4mIiIiIiNg/RERERERE1D8iIiIiIiL2P97d3d3d3eU/7+7u7u7u3j/e3d3d3d3NP+/u7u7u7t4/3t3d3d3dvT8zMzMzMzPrP5qZmZmZmdk/zczMzMzM3D9VVVVVVVXVPxEREREREdE/",
          "dtype": "f8"
         }
        },
        {
         "name": "64",
         "type": "box",
         "x": [
          "64",
          "64",
          "64",
          "64",
          "64",
          "64",
          "64",
          "64",
          "64",
          "64",
          "64",
          "64",
          "64",
          "64",
          "64",
          "64",
          "64",
          "64",
          "64",
          "64",
          "64",
          "64",
          "64",
          "64",
          "64",
          "64",
          "64",
          "64",
          "64",
          "64",
          "64",
          "64",
          "64",
          "64",
          "64",
          "64",
          "64",
          "64",
          "64",
          "64",
          "64",
          "64",
          "64",
          "64",
          "64",
          "64",
          "64",
          "64",
          "64",
          "64",
          "64",
          "64",
          "64",
          "64",
          "64",
          "64",
          "64",
          "64",
          "64",
          "64",
          "64",
          "64",
          "64",
          "64",
          "64",
          "64",
          "64",
          "64",
          "64",
          "64",
          "64",
          "64"
         ],
         "y": {
          "bdata": "VVVVVVVVtb9VVVVVVVW1P5qZmZmZmcm/3t3d3d3d5T/v7u7u7u7eP4mIiIiIiPA/7+7u7u7u9j9VVVVVVVXxP3d3d3d3d8c/ERERERER4T8RERERERGxv5qZmZmZmam/mpmZmZmZqT9VVVVVVVW1vxEREREREaG/VVVVVVVVtb9VVVVVVVW1PwAAAAAAAAAAmpmZmZmZub+amZmZmZm5vzMzMzMzM+M/d3d3d3d35z8RERERERGRvzMzMzMzM8M/3t3d3d3d5T8AAAAAAAAGQDMzMzMzM8M/IiIiIiIi0j8RERERERGRP97d3d3d3c0/VVVVVVVVtT8RERERERGxPwAAAAAAAAAAERERERERkb8iIiIiIiLSPzMzMzMzM8M/AAAAAAAAAACamZmZmZmpP5qZmZmZmam/AAAAAAAAAADe3d3d3d3Nv+/u7u7u7u4/3t3d3d3dzb8RERERERHBP4mIiIiIiNg/mpmZmZmZuT8RERERERGxv4mIiIiIiApAERERERER0T8AAAAAAAAAAAAAAAAAAAAAERERERERkT8RERERERGxv5qZmZmZmbk/3t3d3d3d3T9ERERERETUP5qZmZmZmbk/ERERERERsT9VVVVVVVXFP5qZmZmZmdk/AAAAAAAAAAAiIiIiIiLSPwAAAAAAAAAAVVVVVVVVtT+amZmZmZmpPwAAAAAAAAAAvLu7u7u72z+amZmZmZmpvxEREREREQFAmpmZmZmZqT8RERERERH5PxEREREREdE/",
          "dtype": "f8"
         }
        },
        {
         "name": "66",
         "type": "box",
         "x": [
          "66",
          "66",
          "66",
          "66",
          "66",
          "66",
          "66",
          "66",
          "66",
          "66",
          "66",
          "66",
          "66",
          "66",
          "66",
          "66",
          "66",
          "66",
          "66",
          "66",
          "66",
          "66",
          "66",
          "66",
          "66",
          "66",
          "66",
          "66",
          "66",
          "66",
          "66",
          "66",
          "66",
          "66",
          "66",
          "66",
          "66",
          "66",
          "66",
          "66",
          "66",
          "66",
          "66",
          "66",
          "66",
          "66",
          "66",
          "66",
          "66",
          "66",
          "66",
          "66",
          "66",
          "66",
          "66",
          "66",
          "66",
          "66",
          "66",
          "66",
          "66",
          "66",
          "66",
          "66",
          "66",
          "66",
          "66",
          "66",
          "66",
          "66",
          "66",
          "66"
         ],
         "y": {
          "bdata": "ZmZmZmZm1j+JiIiIiIj0P7y7u7u7u9s/mpmZmZmZ2T9ERERERETUP83MzMzMzPw/ERERERERwT+8u7u7u7vLPwAAAAAAANA/mpmZmZmZB0AzMzMzMzPjPxEREREREbE/VVVVVVVVxT+8u7u7u7vLP83MzMzMzOQ/mpmZmZmZqT8AAAAAAADgP0REREREROQ/ERERERERkT9mZmZmZmbWP4mIiIiIiOA/3t3d3d3dzT+8u7u7u7vLP3d3d3d3d9c/mpmZmZmZ4T9ERERERETUPwAAAAAAAPA/mpmZmZmZyT8RERERERHhP7y7u7u7u8s/ERERERERoT9mZmZmZmbWPxEREREREZE/IiIiIiIi+j+amZmZmZnJP1VVVVVVVdU/VVVVVVVVtT8iIiIiIiLSP4mIiIiIiOA/IiIiIiIi0j8RERERERGhPzMzMzMzM9M/AAAAAAAAAABmZmZmZmbmP2ZmZmZmZtY/VVVVVVVV5T93d3d3d3fHP6uqqqqqqto/mpmZmZmZyT9VVVVVVVW1P3d3d3d3d8c/3t3d3d3d5T+amZmZmZmpP4mIiIiIiOg/3t3d3d3d3T8AAAAAAADwP+/u7u7u7t4/AAAAAAAA6D8RERERERHpP97d3d3d3eU/ZmZmZmZm1j9mZmZmZmbmPwAAAAAAAAJAiYiIiIiI2D/e3d3d3d29PwAAAAAAANA/AAAAAAAA6D8RERERERGxP6uqqqqqquI/VVVVVVVV1T/e3d3d3d3NP5qZmZmZmbk/",
          "dtype": "f8"
         }
        },
        {
         "name": "68",
         "type": "box",
         "x": [
          "68",
          "68",
          "68",
          "68",
          "68",
          "68",
          "68",
          "68",
          "68",
          "68",
          "68",
          "68",
          "68",
          "68",
          "68",
          "68",
          "68",
          "68",
          "68",
          "68",
          "68",
          "68",
          "68",
          "68",
          "68",
          "68",
          "68",
          "68",
          "68",
          "68",
          "68",
          "68",
          "68",
          "68",
          "68",
          "68",
          "68",
          "68",
          "68",
          "68",
          "68",
          "68",
          "68",
          "68",
          "68",
          "68",
          "68",
          "68",
          "68",
          "68",
          "68",
          "68",
          "68",
          "68",
          "68",
          "68",
          "68",
          "68",
          "68",
          "68",
          "68",
          "68",
          "68",
          "68",
          "68",
          "68",
          "68",
          "68",
          "68"
         ],
         "y": {
          "bdata": "d3d3d3d3xz9VVVVVVVXtP83MzMzMzNw/zczMzMzM3D/NzMzMzMzcP1VVVVVVVeU/AAAAAAAA0D9VVVVVVVXlPxEREREREek/iYiIiIiI6D8zMzMzMzPDP5qZmZmZmeE/7+7u7u7u7j9ERERERETsPxEREREREZE/AAAAAAAA0D8AAAAAAADQP1VVVVVVVcU/ERERERERsb+amZmZmZmpP4mIiIiIiNg/mpmZmZmZyT8iIiIiIiLyP0RERERERPA/iYiIiIiI4D9VVVVVVVW1P7y7u7u7u8s/RERERERE5D+amZmZmZnJPxEREREREfE/ZmZmZmZm1j9VVVVVVVXtP6uqqqqqqto/MzMzMzMz/z9ERERERETwP5qZmZmZmeE/VVVVVVVVxT8zMzMzMzPjP0RERERERNQ/d3d3d3d31z/v7u7u7u7uPxEREREREaE/ZmZmZmZm1j9ERERERETsP3d3d3d3d9c/ERERERERob/e3d3d3d3xPxEREREREcE/iYiIiIiI9D8RERERERHBP3d3d3d3d9c/AAAAAAAA0D9VVVVVVVXxP97d3d3d3fE/VVVVVVVV8T+8u7u7u7vrP97d3d3d3fE/ERERERERwT9VVVVVVVXFP97d3d3d3d0/ZmZmZmZm1j9ERERERETUPwAAAAAAAOA/mpmZmZmZ2T+amZmZmZnxP83MzMzMzPA/VVVVVVVV9T8zMzMzMzPzPxEREREREaE/",
          "dtype": "f8"
         }
        },
        {
         "name": "668",
         "type": "box",
         "x": [
          "668",
          "668",
          "668",
          "668",
          "668",
          "668",
          "668",
          "668",
          "668",
          "668",
          "668",
          "668",
          "668",
          "668",
          "668",
          "668",
          "668",
          "668",
          "668",
          "668",
          "668",
          "668",
          "668",
          "668",
          "668",
          "668",
          "668",
          "668",
          "668",
          "668",
          "668",
          "668",
          "668",
          "668",
          "668",
          "668",
          "668",
          "668",
          "668",
          "668",
          "668",
          "668",
          "668",
          "668",
          "668",
          "668",
          "668",
          "668",
          "668",
          "668",
          "668",
          "668",
          "668"
         ],
         "y": {
          "bdata": "d3d3d3d3xz8RERERERHRP4mIiIiIiNg/vLu7u7u7yz9VVVVVVVW1PxEREREREaE/vLu7u7u74z9VVVVVVVXFPzMzMzMzM9M/ERERERER0T8zMzMzMzPDPxEREREREaE/MzMzMzMz0z8RERERERGhvyIiIiIiItI/mpmZmZmZ2T/e3d3d3d3dP3d3d3d3d9c/q6qqqqqq2j8RERERERHhP1VVVVVVVdU/MzMzMzMzwz9VVVVVVVXlP83MzMzMzOQ/3t3d3d3dzT+amZmZmZnhP97d3d3d3b0/ZmZmZmZm1j9VVVVVVVW1PwAAAAAAANA/ZmZmZmZm1j8iIiIiIiLqPzMzMzMzM8M/ERERERERsT93d3d3d3fXP0REREREROQ/vLu7u7u72z+amZmZmZnZPwAAAAAAAAAAIiIiIiIi9j8zMzMzMzPDP83MzMzMzNw/vLu7u7u72z+JiIiIiIjYPyIiIiIiIuI/ERERERER0T8iIiIiIiLiP4mIiIiIiOg/MzMzMzMzwz8RERERERGxPwAAAAAAANA/mpmZmZmZyT8AAAAAAADoPw==",
          "dtype": "f8"
         }
        }
       ],
       "layout": {
        "annotations": [
         {
          "showarrow": false,
          "text": "Jan 1, 2018 baseline",
          "x": 1,
          "xanchor": "right",
          "xref": "x domain",
          "y": 0.25,
          "yanchor": "bottom",
          "yref": "y"
         }
        ],
        "autosize": true,
        "height": 500,
        "plot_bgcolor": "#FFFFFF",
        "shapes": [
         {
          "line": {
           "color": "Grey",
           "dash": "dash",
           "width": 1
          },
          "opacity": 0.5,
          "type": "line",
          "x0": 0,
          "x1": 1,
          "xref": "x domain",
          "y0": 0.25,
          "y1": 0.25,
          "yref": "y"
         }
        ],
        "showlegend": false,
        "template": {
         "data": {
          "bar": [
           {
            "error_x": {
             "color": "rgb(36,36,36)"
            },
            "error_y": {
             "color": "rgb(36,36,36)"
            },
            "marker": {
             "line": {
              "color": "white",
              "width": 0.5
             },
             "pattern": {
              "fillmode": "overlay",
              "size": 10,
              "solidity": 0.2
             }
            },
            "type": "bar"
           }
          ],
          "barpolar": [
           {
            "marker": {
             "line": {
              "color": "white",
              "width": 0.5
             },
             "pattern": {
              "fillmode": "overlay",
              "size": 10,
              "solidity": 0.2
             }
            },
            "type": "barpolar"
           }
          ],
          "carpet": [
           {
            "aaxis": {
             "endlinecolor": "rgb(36,36,36)",
             "gridcolor": "white",
             "linecolor": "white",
             "minorgridcolor": "white",
             "startlinecolor": "rgb(36,36,36)"
            },
            "baxis": {
             "endlinecolor": "rgb(36,36,36)",
             "gridcolor": "white",
             "linecolor": "white",
             "minorgridcolor": "white",
             "startlinecolor": "rgb(36,36,36)"
            },
            "type": "carpet"
           }
          ],
          "choropleth": [
           {
            "colorbar": {
             "outlinewidth": 1,
             "tickcolor": "rgb(36,36,36)",
             "ticks": "outside"
            },
            "type": "choropleth"
           }
          ],
          "contour": [
           {
            "colorbar": {
             "outlinewidth": 1,
             "tickcolor": "rgb(36,36,36)",
             "ticks": "outside"
            },
            "colorscale": [
             [
              0,
              "#440154"
             ],
             [
              0.1111111111111111,
              "#482878"
             ],
             [
              0.2222222222222222,
              "#3e4989"
             ],
             [
              0.3333333333333333,
              "#31688e"
             ],
             [
              0.4444444444444444,
              "#26828e"
             ],
             [
              0.5555555555555556,
              "#1f9e89"
             ],
             [
              0.6666666666666666,
              "#35b779"
             ],
             [
              0.7777777777777778,
              "#6ece58"
             ],
             [
              0.8888888888888888,
              "#b5de2b"
             ],
             [
              1,
              "#fde725"
             ]
            ],
            "type": "contour"
           }
          ],
          "contourcarpet": [
           {
            "colorbar": {
             "outlinewidth": 1,
             "tickcolor": "rgb(36,36,36)",
             "ticks": "outside"
            },
            "type": "contourcarpet"
           }
          ],
          "heatmap": [
           {
            "colorbar": {
             "outlinewidth": 1,
             "tickcolor": "rgb(36,36,36)",
             "ticks": "outside"
            },
            "colorscale": [
             [
              0,
              "#440154"
             ],
             [
              0.1111111111111111,
              "#482878"
             ],
             [
              0.2222222222222222,
              "#3e4989"
             ],
             [
              0.3333333333333333,
              "#31688e"
             ],
             [
              0.4444444444444444,
              "#26828e"
             ],
             [
              0.5555555555555556,
              "#1f9e89"
             ],
             [
              0.6666666666666666,
              "#35b779"
             ],
             [
              0.7777777777777778,
              "#6ece58"
             ],
             [
              0.8888888888888888,
              "#b5de2b"
             ],
             [
              1,
              "#fde725"
             ]
            ],
            "type": "heatmap"
           }
          ],
          "histogram": [
           {
            "marker": {
             "line": {
              "color": "white",
              "width": 0.6
             }
            },
            "type": "histogram"
           }
          ],
          "histogram2d": [
           {
            "colorbar": {
             "outlinewidth": 1,
             "tickcolor": "rgb(36,36,36)",
             "ticks": "outside"
            },
            "colorscale": [
             [
              0,
              "#440154"
             ],
             [
              0.1111111111111111,
              "#482878"
             ],
             [
              0.2222222222222222,
              "#3e4989"
             ],
             [
              0.3333333333333333,
              "#31688e"
             ],
             [
              0.4444444444444444,
              "#26828e"
             ],
             [
              0.5555555555555556,
              "#1f9e89"
             ],
             [
              0.6666666666666666,
              "#35b779"
             ],
             [
              0.7777777777777778,
              "#6ece58"
             ],
             [
              0.8888888888888888,
              "#b5de2b"
             ],
             [
              1,
              "#fde725"
             ]
            ],
            "type": "histogram2d"
           }
          ],
          "histogram2dcontour": [
           {
            "colorbar": {
             "outlinewidth": 1,
             "tickcolor": "rgb(36,36,36)",
             "ticks": "outside"
            },
            "colorscale": [
             [
              0,
              "#440154"
             ],
             [
              0.1111111111111111,
              "#482878"
             ],
             [
              0.2222222222222222,
              "#3e4989"
             ],
             [
              0.3333333333333333,
              "#31688e"
             ],
             [
              0.4444444444444444,
              "#26828e"
             ],
             [
              0.5555555555555556,
              "#1f9e89"
             ],
             [
              0.6666666666666666,
              "#35b779"
             ],
             [
              0.7777777777777778,
              "#6ece58"
             ],
             [
              0.8888888888888888,
              "#b5de2b"
             ],
             [
              1,
              "#fde725"
             ]
            ],
            "type": "histogram2dcontour"
           }
          ],
          "mesh3d": [
           {
            "colorbar": {
             "outlinewidth": 1,
             "tickcolor": "rgb(36,36,36)",
             "ticks": "outside"
            },
            "type": "mesh3d"
           }
          ],
          "parcoords": [
           {
            "line": {
             "colorbar": {
              "outlinewidth": 1,
              "tickcolor": "rgb(36,36,36)",
              "ticks": "outside"
             }
            },
            "type": "parcoords"
           }
          ],
          "pie": [
           {
            "automargin": true,
            "type": "pie"
           }
          ],
          "scatter": [
           {
            "fillpattern": {
             "fillmode": "overlay",
             "size": 10,
             "solidity": 0.2
            },
            "type": "scatter"
           }
          ],
          "scatter3d": [
           {
            "line": {
             "colorbar": {
              "outlinewidth": 1,
              "tickcolor": "rgb(36,36,36)",
              "ticks": "outside"
             }
            },
            "marker": {
             "colorbar": {
              "outlinewidth": 1,
              "tickcolor": "rgb(36,36,36)",
              "ticks": "outside"
             }
            },
            "type": "scatter3d"
           }
          ],
          "scattercarpet": [
           {
            "marker": {
             "colorbar": {
              "outlinewidth": 1,
              "tickcolor": "rgb(36,36,36)",
              "ticks": "outside"
             }
            },
            "type": "scattercarpet"
           }
          ],
          "scattergeo": [
           {
            "marker": {
             "colorbar": {
              "outlinewidth": 1,
              "tickcolor": "rgb(36,36,36)",
              "ticks": "outside"
             }
            },
            "type": "scattergeo"
           }
          ],
          "scattergl": [
           {
            "marker": {
             "colorbar": {
              "outlinewidth": 1,
              "tickcolor": "rgb(36,36,36)",
              "ticks": "outside"
             }
            },
            "type": "scattergl"
           }
          ],
          "scattermap": [
           {
            "marker": {
             "colorbar": {
              "outlinewidth": 1,
              "tickcolor": "rgb(36,36,36)",
              "ticks": "outside"
             }
            },
            "type": "scattermap"
           }
          ],
          "scattermapbox": [
           {
            "marker": {
             "colorbar": {
              "outlinewidth": 1,
              "tickcolor": "rgb(36,36,36)",
              "ticks": "outside"
             }
            },
            "type": "scattermapbox"
           }
          ],
          "scatterpolar": [
           {
            "marker": {
             "colorbar": {
              "outlinewidth": 1,
              "tickcolor": "rgb(36,36,36)",
              "ticks": "outside"
             }
            },
            "type": "scatterpolar"
           }
          ],
          "scatterpolargl": [
           {
            "marker": {
             "colorbar": {
              "outlinewidth": 1,
              "tickcolor": "rgb(36,36,36)",
              "ticks": "outside"
             }
            },
            "type": "scatterpolargl"
           }
          ],
          "scatterternary": [
           {
            "marker": {
             "colorbar": {
              "outlinewidth": 1,
              "tickcolor": "rgb(36,36,36)",
              "ticks": "outside"
             }
            },
            "type": "scatterternary"
           }
          ],
          "surface": [
           {
            "colorbar": {
             "outlinewidth": 1,
             "tickcolor": "rgb(36,36,36)",
             "ticks": "outside"
            },
            "colorscale": [
             [
              0,
              "#440154"
             ],
             [
              0.1111111111111111,
              "#482878"
             ],
             [
              0.2222222222222222,
              "#3e4989"
             ],
             [
              0.3333333333333333,
              "#31688e"
             ],
             [
              0.4444444444444444,
              "#26828e"
             ],
             [
              0.5555555555555556,
              "#1f9e89"
             ],
             [
              0.6666666666666666,
              "#35b779"
             ],
             [
              0.7777777777777778,
              "#6ece58"
             ],
             [
              0.8888888888888888,
              "#b5de2b"
             ],
             [
              1,
              "#fde725"
             ]
            ],
            "type": "surface"
           }
          ],
          "table": [
           {
            "cells": {
             "fill": {
              "color": "rgb(237,237,237)"
             },
             "line": {
              "color": "white"
             }
            },
            "header": {
             "fill": {
              "color": "rgb(217,217,217)"
             },
             "line": {
              "color": "white"
             }
            },
            "type": "table"
           }
          ]
         },
         "layout": {
          "annotationdefaults": {
           "arrowhead": 0,
           "arrowwidth": 1
          },
          "autotypenumbers": "strict",
          "coloraxis": {
           "colorbar": {
            "outlinewidth": 1,
            "tickcolor": "rgb(36,36,36)",
            "ticks": "outside"
           }
          },
          "colorscale": {
           "diverging": [
            [
             0,
             "rgb(103,0,31)"
            ],
            [
             0.1,
             "rgb(178,24,43)"
            ],
            [
             0.2,
             "rgb(214,96,77)"
            ],
            [
             0.3,
             "rgb(244,165,130)"
            ],
            [
             0.4,
             "rgb(253,219,199)"
            ],
            [
             0.5,
             "rgb(247,247,247)"
            ],
            [
             0.6,
             "rgb(209,229,240)"
            ],
            [
             0.7,
             "rgb(146,197,222)"
            ],
            [
             0.8,
             "rgb(67,147,195)"
            ],
            [
             0.9,
             "rgb(33,102,172)"
            ],
            [
             1,
             "rgb(5,48,97)"
            ]
           ],
           "sequential": [
            [
             0,
             "#440154"
            ],
            [
             0.1111111111111111,
             "#482878"
            ],
            [
             0.2222222222222222,
             "#3e4989"
            ],
            [
             0.3333333333333333,
             "#31688e"
            ],
            [
             0.4444444444444444,
             "#26828e"
            ],
            [
             0.5555555555555556,
             "#1f9e89"
            ],
            [
             0.6666666666666666,
             "#35b779"
            ],
            [
             0.7777777777777778,
             "#6ece58"
            ],
            [
             0.8888888888888888,
             "#b5de2b"
            ],
            [
             1,
             "#fde725"
            ]
           ],
           "sequentialminus": [
            [
             0,
             "#440154"
            ],
            [
             0.1111111111111111,
             "#482878"
            ],
            [
             0.2222222222222222,
             "#3e4989"
            ],
            [
             0.3333333333333333,
             "#31688e"
            ],
            [
             0.4444444444444444,
             "#26828e"
            ],
            [
             0.5555555555555556,
             "#1f9e89"
            ],
            [
             0.6666666666666666,
             "#35b779"
            ],
            [
             0.7777777777777778,
             "#6ece58"
            ],
            [
             0.8888888888888888,
             "#b5de2b"
            ],
            [
             1,
             "#fde725"
            ]
           ]
          },
          "colorway": [
           "#1F77B4",
           "#FF7F0E",
           "#2CA02C",
           "#D62728",
           "#9467BD",
           "#8C564B",
           "#E377C2",
           "#7F7F7F",
           "#BCBD22",
           "#17BECF"
          ],
          "font": {
           "color": "rgb(36,36,36)"
          },
          "geo": {
           "bgcolor": "white",
           "lakecolor": "white",
           "landcolor": "white",
           "showlakes": true,
           "showland": true,
           "subunitcolor": "white"
          },
          "hoverlabel": {
           "align": "left"
          },
          "hovermode": "closest",
          "mapbox": {
           "style": "light"
          },
          "paper_bgcolor": "white",
          "plot_bgcolor": "white",
          "polar": {
           "angularaxis": {
            "gridcolor": "rgb(232,232,232)",
            "linecolor": "rgb(36,36,36)",
            "showgrid": false,
            "showline": true,
            "ticks": "outside"
           },
           "bgcolor": "white",
           "radialaxis": {
            "gridcolor": "rgb(232,232,232)",
            "linecolor": "rgb(36,36,36)",
            "showgrid": false,
            "showline": true,
            "ticks": "outside"
           }
          },
          "scene": {
           "xaxis": {
            "backgroundcolor": "white",
            "gridcolor": "rgb(232,232,232)",
            "gridwidth": 2,
            "linecolor": "rgb(36,36,36)",
            "showbackground": true,
            "showgrid": false,
            "showline": true,
            "ticks": "outside",
            "zeroline": false,
            "zerolinecolor": "rgb(36,36,36)"
           },
           "yaxis": {
            "backgroundcolor": "white",
            "gridcolor": "rgb(232,232,232)",
            "gridwidth": 2,
            "linecolor": "rgb(36,36,36)",
            "showbackground": true,
            "showgrid": false,
            "showline": true,
            "ticks": "outside",
            "zeroline": false,
            "zerolinecolor": "rgb(36,36,36)"
           },
           "zaxis": {
            "backgroundcolor": "white",
            "gridcolor": "rgb(232,232,232)",
            "gridwidth": 2,
            "linecolor": "rgb(36,36,36)",
            "showbackground": true,
            "showgrid": false,
            "showline": true,
            "ticks": "outside",
            "zeroline": false,
            "zerolinecolor": "rgb(36,36,36)"
           }
          },
          "shapedefaults": {
           "fillcolor": "black",
           "line": {
            "width": 0
           },
           "opacity": 0.3
          },
          "ternary": {
           "aaxis": {
            "gridcolor": "rgb(232,232,232)",
            "linecolor": "rgb(36,36,36)",
            "showgrid": false,
            "showline": true,
            "ticks": "outside"
           },
           "baxis": {
            "gridcolor": "rgb(232,232,232)",
            "linecolor": "rgb(36,36,36)",
            "showgrid": false,
            "showline": true,
            "ticks": "outside"
           },
           "bgcolor": "white",
           "caxis": {
            "gridcolor": "rgb(232,232,232)",
            "linecolor": "rgb(36,36,36)",
            "showgrid": false,
            "showline": true,
            "ticks": "outside"
           }
          },
          "title": {
           "x": 0.05
          },
          "xaxis": {
           "automargin": true,
           "gridcolor": "rgb(232,232,232)",
           "linecolor": "rgb(36,36,36)",
           "showgrid": false,
           "showline": true,
           "ticks": "outside",
           "title": {
            "standoff": 15
           },
           "zeroline": false,
           "zerolinecolor": "rgb(36,36,36)"
          },
          "yaxis": {
           "automargin": true,
           "gridcolor": "rgb(232,232,232)",
           "linecolor": "rgb(36,36,36)",
           "showgrid": false,
           "showline": true,
           "ticks": "outside",
           "title": {
            "standoff": 15
           },
           "zeroline": false,
           "zerolinecolor": "rgb(36,36,36)"
          }
         }
        },
        "title": {
         "text": "Toronto to Montreal Delay by Train Number"
        },
        "width": 1000
       }
      }
     },
     "metadata": {},
     "output_type": "display_data"
    }
   ],
   "source": [
    "#df = pd.read_csv(\"https://raw.githubusercontent.com/plotly/datasets/master/violin_data.csv\")\n",
    "df = via_montreal_arrival\n",
    "\n",
    "fig = go.Figure()\n",
    "\n",
    "trains = ['60', '62', '64', '66', '68', '668']\n",
    "\n",
    "df[\"HOURS_LATE\"] = df['MINUTES_LATE']/60.0\n",
    "\n",
    "for train in trains:\n",
    "    fig.add_trace(go.Box(x=df['TRAIN_NUMBER'][df['TRAIN_NUMBER'] == train],\n",
    "                            y=df['HOURS_LATE'][df['TRAIN_NUMBER'] == train],\n",
    "                            name=train))\n",
    "    \n",
    "fig.add_hline(y=0.25, opacity=0.5, line_width=1, line_dash='dash', line_color='Grey')\n",
    "              #annotation_text=\"Jan 1, 2018 baseline\", )\n",
    "\n",
    "fig.update_layout(autosize=True, \n",
    "                  plot_bgcolor=\"#FFFFFF\", \n",
    "                  title='Toronto to Montreal Delay by Train Number',\n",
    "                  showlegend=False,\n",
    "                  width=1000,\n",
    "                  height=500)\n",
    "\n",
    "fig.show()"
   ]
  }
 ],
 "metadata": {
  "kernelspec": {
   "display_name": "Python 3",
   "language": "python",
   "name": "python3"
  },
  "language_info": {
   "codemirror_mode": {
    "name": "ipython",
    "version": 3
   },
   "file_extension": ".py",
   "mimetype": "text/x-python",
   "name": "python",
   "nbconvert_exporter": "python",
   "pygments_lexer": "ipython3",
   "version": "3.11.12"
  }
 },
 "nbformat": 4,
 "nbformat_minor": 2
}
