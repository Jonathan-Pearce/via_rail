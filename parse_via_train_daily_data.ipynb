{
 "cells": [
  {
   "cell_type": "code",
   "execution_count": 8,
   "metadata": {},
   "outputs": [],
   "source": [
    "import pandas as pd\n",
    "import urllib.request\n",
    "import json\n",
    "import sqlite3"
   ]
  },
  {
   "cell_type": "code",
   "execution_count": 2,
   "metadata": {},
   "outputs": [],
   "source": [
    "#read data from today\n",
    "df = pd.read_json(\"https://tsimobile.viarail.ca/data/allData.json\")\n",
    "#transpose data\n",
    "df_t = df.transpose()\n",
    "#shift train name into column\n",
    "df_t = df_t.reset_index()"
   ]
  },
  {
   "cell_type": "markdown",
   "metadata": {},
   "source": [
    "# Pull Daily Data from JSON"
   ]
  },
  {
   "cell_type": "code",
   "execution_count": 3,
   "metadata": {},
   "outputs": [],
   "source": [
    "via_day_data = df_t[['times','index','departed','arrived', 'from', 'to', ]]\n",
    "\n",
    "# Initialize an empty list to store DataFrames with IDs\n",
    "flattened_dfs = []"
   ]
  },
  {
   "cell_type": "code",
   "execution_count": 4,
   "metadata": {},
   "outputs": [],
   "source": [
    "# Iterate over each row in x\n",
    "for idx, row in via_day_data.iterrows():\n",
    "\n",
    "    # Iterate over each DataFrame in the sublist\n",
    "    for df in row['times']:\n",
    "        # Add the ID as a column to the DataFrame\n",
    "        df['ID'] = row['index']\n",
    "        df['departed'] = row['departed']\n",
    "        df['arrived'] = row['arrived']\n",
    "        df['from'] = row['from']\n",
    "        df['to'] = row['to']\n",
    "        # Append the DataFrame to the list\n",
    "        flattened_dfs.append(df)\n",
    "\n",
    "test_2 = pd.DataFrame(flattened_dfs)\n",
    "\n",
    "#Clean up datetimes\n",
    "test_2['estimated'] = pd.to_datetime(test_2['estimated'], errors = 'coerce')\n",
    "test_2['scheduled'] = pd.to_datetime(test_2['scheduled'], errors = 'coerce')"
   ]
  },
  {
   "cell_type": "code",
   "execution_count": 10,
   "metadata": {},
   "outputs": [],
   "source": [
    "via_day_data_clean = test_2[['station','code', 'ID','scheduled','estimated','departed','diffMin', 'arrived','from','to']]"
   ]
  },
  {
   "cell_type": "code",
   "execution_count": 31,
   "metadata": {},
   "outputs": [],
   "source": [
    "con = sqlite3.connect(\"via_data.db\")\n",
    "cur = con.cursor()"
   ]
  },
  {
   "cell_type": "code",
   "execution_count": 33,
   "metadata": {},
   "outputs": [
    {
     "name": "stdout",
     "output_type": "stream",
     "text": [
      "Toronto\n"
     ]
    },
    {
     "ename": "OperationalError",
     "evalue": "database is locked",
     "output_type": "error",
     "traceback": [
      "\u001b[31m---------------------------------------------------------------------------\u001b[39m",
      "\u001b[31mOperationalError\u001b[39m                          Traceback (most recent call last)",
      "\u001b[36mCell\u001b[39m\u001b[36m \u001b[39m\u001b[32mIn[33]\u001b[39m\u001b[32m, line 12\u001b[39m\n\u001b[32m      9\u001b[39m     \u001b[38;5;28mprint\u001b[39m(location_i)\n\u001b[32m     10\u001b[39m     data_tuple = (location_i, location_code_i)\n\u001b[32m---> \u001b[39m\u001b[32m12\u001b[39m     \u001b[43mcur\u001b[49m\u001b[43m.\u001b[49m\u001b[43mexecute\u001b[49m\u001b[43m(\u001b[49m\u001b[43msqlite_insert_with_param\u001b[49m\u001b[43m,\u001b[49m\u001b[43m \u001b[49m\u001b[43mdata_tuple\u001b[49m\u001b[43m)\u001b[49m\n\u001b[32m     14\u001b[39m con.commit\n\u001b[32m     15\u001b[39m cur.close()    \n",
      "\u001b[31mOperationalError\u001b[39m: database is locked"
     ]
    }
   ],
   "source": [
    "sqlite_insert_with_param = \"\"\"INSERT INTO tbl_location(LOCATION, LOCATION_CODE) VALUES (?, ?) ON CONFLICT(LOCATION) DO NOTHING;\"\"\"\n",
    "\n",
    "# Iterate over each row in x\n",
    "for idx, row in via_day_data_clean.iterrows():\n",
    "\n",
    "    location_i = row['station']\n",
    "    location_code_i = row['code']\n",
    "\n",
    "    print(location_i)\n",
    "    data_tuple = (location_i, location_code_i)\n",
    "\n",
    "    cur.execute(sqlite_insert_with_param, data_tuple)\n",
    "\n",
    "con.commit\n",
    "cur.close()    \n",
    "    "
   ]
  },
  {
   "cell_type": "code",
   "execution_count": 24,
   "metadata": {},
   "outputs": [
    {
     "data": {
      "text/plain": [
       "<function Connection.commit()>"
      ]
     },
     "execution_count": 24,
     "metadata": {},
     "output_type": "execute_result"
    }
   ],
   "source": [
    "con.commit"
   ]
  },
  {
   "cell_type": "code",
   "execution_count": 34,
   "metadata": {},
   "outputs": [],
   "source": [
    "cur.execute(\"SELECT * FROM tbl_location\")\n",
    "rows = cur.fetchall()\n",
    "for row in rows:\n",
    "    print(row)"
   ]
  },
  {
   "cell_type": "code",
   "execution_count": 29,
   "metadata": {},
   "outputs": [],
   "source": [
    "cur.close()   "
   ]
  }
 ],
 "metadata": {
  "kernelspec": {
   "display_name": "Python 3",
   "language": "python",
   "name": "python3"
  },
  "language_info": {
   "codemirror_mode": {
    "name": "ipython",
    "version": 3
   },
   "file_extension": ".py",
   "mimetype": "text/x-python",
   "name": "python",
   "nbconvert_exporter": "python",
   "pygments_lexer": "ipython3",
   "version": "3.11.11"
  }
 },
 "nbformat": 4,
 "nbformat_minor": 2
}
