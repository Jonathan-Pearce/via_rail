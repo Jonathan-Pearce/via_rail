{
 "cells": [
  {
   "cell_type": "code",
   "execution_count": 1,
   "metadata": {},
   "outputs": [],
   "source": [
    "import pandas as pd\n",
    "import urllib.request\n",
    "import json"
   ]
  },
  {
   "cell_type": "code",
   "execution_count": 3,
   "metadata": {},
   "outputs": [],
   "source": [
    "#read data from today\n",
    "df = pd.read_json(\"https://tsimobile.viarail.ca/data/allData.json\")\n",
    "#transpose data\n",
    "df_t = df.transpose()\n",
    "#shift train name into column\n",
    "df_t = df_t.reset_index()"
   ]
  },
  {
   "cell_type": "markdown",
   "metadata": {},
   "source": [
    "# Pull Daily Data from JSON"
   ]
  },
  {
   "cell_type": "code",
   "execution_count": 21,
   "metadata": {},
   "outputs": [],
   "source": [
    "via_day_data = df_t[['times','index','departed','arrived', 'from', 'to', ]]\n",
    "\n",
    "# Initialize an empty list to store DataFrames with IDs\n",
    "flattened_dfs = []"
   ]
  },
  {
   "cell_type": "code",
   "execution_count": 22,
   "metadata": {},
   "outputs": [],
   "source": [
    "# Iterate over each row in x\n",
    "for idx, row in via_day_data.iterrows():\n",
    "\n",
    "    # Iterate over each DataFrame in the sublist\n",
    "    for df in row['times']:\n",
    "        # Add the ID as a column to the DataFrame\n",
    "        df['ID'] = row['index']\n",
    "        df['departed'] = row['departed']\n",
    "        df['arrived'] = row['arrived']\n",
    "        df['from'] = row['from']\n",
    "        df['to'] = row['to']\n",
    "        # Append the DataFrame to the list\n",
    "        flattened_dfs.append(df)\n",
    "\n",
    "test_2 = pd.DataFrame(flattened_dfs)\n",
    "\n",
    "#Clean up datetimes\n",
    "test_2['estimated'] = pd.to_datetime(test_2['estimated'], errors = 'coerce')\n",
    "test_2['scheduled'] = pd.to_datetime(test_2['scheduled'], errors = 'coerce')"
   ]
  },
  {
   "cell_type": "code",
   "execution_count": 26,
   "metadata": {},
   "outputs": [],
   "source": [
    "via_day_data_clean = test_2[['station', 'ID','scheduled','estimated','departed','diffMin', 'arrived','from','to']]"
   ]
  }
 ],
 "metadata": {
  "kernelspec": {
   "display_name": "Python 3",
   "language": "python",
   "name": "python3"
  },
  "language_info": {
   "codemirror_mode": {
    "name": "ipython",
    "version": 3
   },
   "file_extension": ".py",
   "mimetype": "text/x-python",
   "name": "python",
   "nbconvert_exporter": "python",
   "pygments_lexer": "ipython3",
   "version": "3.11.11"
  }
 },
 "nbformat": 4,
 "nbformat_minor": 2
}
