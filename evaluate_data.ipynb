{
 "cells": [
  {
   "cell_type": "code",
   "execution_count": null,
   "metadata": {},
   "outputs": [],
   "source": [
    "import pandas as pd\n",
    "import urllib.request\n",
    "import json\n",
    "import sqlite3"
   ]
  },
  {
   "cell_type": "code",
   "execution_count": null,
   "metadata": {},
   "outputs": [],
   "source": [
    "#read data from today\n",
    "df = pd.read_json(\"/workspaces/via_rail/raw_data/Via_data_2025-03-15 22:17:39.545499.json\")\n",
    "#transpose data\n",
    "df_t = df.transpose()\n",
    "#shift train name into column\n",
    "df_t = df_t.reset_index()\n",
    "\n",
    "via_day_data = df_t[['times','index','departed','arrived', 'from', 'to', ]]\n",
    "\n",
    "# Initialize an empty list to store DataFrames with IDs\n",
    "flattened_dfs = []\n",
    "\n",
    "# Iterate over each row in x\n",
    "for idx, row in via_day_data.iterrows():\n",
    "\n",
    "    # Iterate over each DataFrame in the sublist\n",
    "    for df in row['times']:\n",
    "        # Add the ID as a column to the DataFrame\n",
    "        df['ID'] = row['index']\n",
    "        df['departed'] = row['departed']\n",
    "        df['arrived'] = row['arrived']\n",
    "        df['from'] = row['from']\n",
    "        df['to'] = row['to']\n",
    "        # Append the DataFrame to the list\n",
    "        flattened_dfs.append(df)\n",
    "\n",
    "test_2 = pd.DataFrame(flattened_dfs)\n",
    "\n",
    "#Clean up datetimes\n",
    "test_2['estimated'] = pd.to_datetime(test_2['estimated'], errors = 'coerce')\n",
    "test_2['scheduled'] = pd.to_datetime(test_2['scheduled'], errors = 'coerce')"
   ]
  },
  {
   "cell_type": "code",
   "execution_count": null,
   "metadata": {},
   "outputs": [],
   "source": []
  }
 ],
 "metadata": {
  "kernelspec": {
   "display_name": "Python 3",
   "language": "python",
   "name": "python3"
  },
  "language_info": {
   "name": "python",
   "version": "3.11.11"
  }
 },
 "nbformat": 4,
 "nbformat_minor": 2
}
