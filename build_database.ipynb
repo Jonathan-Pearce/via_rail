{
 "cells": [
  {
   "cell_type": "code",
   "execution_count": 2,
   "metadata": {},
   "outputs": [],
   "source": [
    "import sqlite3"
   ]
  },
  {
   "cell_type": "code",
   "execution_count": 3,
   "metadata": {},
   "outputs": [],
   "source": [
    "con = sqlite3.connect(\"via_data_test.db\")\n",
    "cur = con.cursor()"
   ]
  },
  {
   "cell_type": "markdown",
   "metadata": {},
   "source": [
    "# Create tbl_location"
   ]
  },
  {
   "cell_type": "code",
   "execution_count": 3,
   "metadata": {},
   "outputs": [
    {
     "data": {
      "text/plain": [
       "<sqlite3.Cursor at 0x78c6a0f46f40>"
      ]
     },
     "execution_count": 3,
     "metadata": {},
     "output_type": "execute_result"
    }
   ],
   "source": [
    "cur.execute('''\n",
    "          CREATE TABLE tbl_location_v2 (\n",
    "            LOCATION_ID INTEGER PRIMARY KEY,\n",
    "            LOCATION text UNIQUE NOT NULL,\n",
    "            LOCATION_CODE text UNIQUE NOT NULL,\n",
    "            DATE_CREATED datetime default current_timestamp)\n",
    "          ''')"
   ]
  },
  {
   "cell_type": "markdown",
   "metadata": {},
   "source": [
    "# Create tbl_route"
   ]
  },
  {
   "cell_type": "code",
   "execution_count": 7,
   "metadata": {},
   "outputs": [
    {
     "data": {
      "text/plain": [
       "<sqlite3.Cursor at 0x78c6a0f46f40>"
      ]
     },
     "execution_count": 7,
     "metadata": {},
     "output_type": "execute_result"
    }
   ],
   "source": [
    "cur.execute('''\n",
    "          CREATE TABLE tbl_route_v3 (\n",
    "            ROUTE_ID INTEGER PRIMARY KEY,\n",
    "            ROUTE_START INTEGER NOT NULL REFERENCES tbl_location(LOCATION_ID),\n",
    "            ROUTE_END INTEGER NOT NULL REFERENCES tbl_location(LOCATION_ID),\n",
    "            DATE_CREATED datetime default current_timestamp,\n",
    "            CONSTRAINT unique_route UNIQUE (ROUTE_START, ROUTE_END))\n",
    "          ''')"
   ]
  },
  {
   "cell_type": "code",
   "execution_count": 5,
   "metadata": {},
   "outputs": [
    {
     "data": {
      "text/plain": [
       "<sqlite3.Cursor at 0x72c76d9b6ec0>"
      ]
     },
     "execution_count": 5,
     "metadata": {},
     "output_type": "execute_result"
    }
   ],
   "source": [
    "cur.execute('''\n",
    "          DROP TABLE tbl_route;\n",
    "          ''')"
   ]
  },
  {
   "cell_type": "markdown",
   "metadata": {},
   "source": [
    "# Create tbl_route"
   ]
  },
  {
   "cell_type": "code",
   "execution_count": 6,
   "metadata": {},
   "outputs": [
    {
     "data": {
      "text/plain": [
       "<sqlite3.Cursor at 0x777e6eb075c0>"
      ]
     },
     "execution_count": 6,
     "metadata": {},
     "output_type": "execute_result"
    }
   ],
   "source": [
    "cur.execute('''\n",
    "          CREATE TABLE tbl_train_v4 (\n",
    "            TRAIN_ID INTEGER PRIMARY KEY,\n",
    "            TRAIN_NUMBER text NOT NULL,\n",
    "            ROUTE INTEGER NOT NULL REFERENCES tbl_route(ROUTE_ID),\n",
    "            DATE_CREATED datetime default current_timestamp,\n",
    "            CONSTRAINT unique_route UNIQUE (TRAIN_NUMBER, ROUTE))\n",
    "          ''')"
   ]
  },
  {
   "cell_type": "markdown",
   "metadata": {},
   "source": [
    "# create tbl_stop"
   ]
  },
  {
   "cell_type": "code",
   "execution_count": 5,
   "metadata": {},
   "outputs": [
    {
     "data": {
      "text/plain": [
       "<sqlite3.Cursor at 0x777e6eb075c0>"
      ]
     },
     "execution_count": 5,
     "metadata": {},
     "output_type": "execute_result"
    }
   ],
   "source": [
    "cur.execute('''\n",
    "          CREATE TABLE tbl_stop_v5 (\n",
    "            STOP_ID INTEGER PRIMARY KEY,\n",
    "            TRAIN INTEGER NOT NULL REFERENCES tbl_train(TRAIN_ID),\n",
    "            ROUTE_STOP INTEGER NOT NULL REFERENCES tbl_location(LOCATION_ID),\n",
    "            ROUTE_PREV_STOP INTEGER NOT NULL REFERENCES tbl_location(LOCATION_ID),\n",
    "            DATE_CREATED datetime default current_timestamp,\n",
    "            CONSTRAINT unique_route UNIQUE (TRAIN, ROUTE_STOP, ROUTE_PREV_STOP))\n",
    "          ''')"
   ]
  },
  {
   "cell_type": "markdown",
   "metadata": {},
   "source": [
    "# create tbl_via_data"
   ]
  },
  {
   "cell_type": "code",
   "execution_count": 6,
   "metadata": {},
   "outputs": [
    {
     "data": {
      "text/plain": [
       "<sqlite3.Cursor at 0x78c6a0f46f40>"
      ]
     },
     "execution_count": 6,
     "metadata": {},
     "output_type": "execute_result"
    }
   ],
   "source": [
    "cur.execute('''\n",
    "          CREATE TABLE tbl_via_data_v4 (\n",
    "            DATA_ID INTEGER PRIMARY KEY,\n",
    "            TRAIN_STOP INTEGER NOT NULL REFERENCES tbl_stop(STOP_ID),\n",
    "            SCHEDULE_DATETIME DATETIME NOT NULL,\n",
    "            ARRIVAL_DATETIME DATETIME NOT NULL,\n",
    "            MINUTES_LATE INTEGER NOT NULL,\n",
    "            DATE_TRAIN DATETIME NOT NULL,\n",
    "            DATE_CREATED DATETIME default current_timestamp,\n",
    "            CONSTRAINT unique_route UNIQUE (TRAIN_STOP, DATE_TRAIN))\n",
    "          ''')"
   ]
  },
  {
   "cell_type": "markdown",
   "metadata": {},
   "source": [
    "# Create trigger\n",
    "https://stackoverflow.com/questions/19337029/insert-if-not-exists-statement-in-sqlite"
   ]
  },
  {
   "cell_type": "code",
   "execution_count": null,
   "metadata": {},
   "outputs": [],
   "source": [
    "cur.execute('''\n",
    "        CREATE TRIGGER via_data_before_insert\n",
    "        BEFORE INSERT ON tbl_via_data\n",
    "        FOR EACH ROW\n",
    "        BEGIN\n",
    "            INSERT OR IGNORE INTO bookmarks(LOCATION) VALUES(new.location);\n",
    "        END;\n",
    "          ''')"
   ]
  },
  {
   "cell_type": "code",
   "execution_count": null,
   "metadata": {},
   "outputs": [],
   "source": [
    "# Create data trigger\n",
    "\n",
    "cur.execute('''\n",
    "          CREATE TRIGGER via_data_before_insert\n",
    "          BEFORE INSERT ON tbl_via_data\n",
    "          FOR EACH ROW\n",
    "          BEGIN\n",
    "            if new.location is not null then\n",
    "              LCL_location := new.location;\n",
    "              SELECT LOCATION_ID INTO LCL_location_id FROM tbl_location WHERE LOCATION = LCL_location;\n",
    "              WHEN NO_DATA_FOUND THEN\n",
    "                INSERT INTO tbl_location (LOCATION) VALUES (LCL_location);\n",
    "                RETURNING LOCATION_ID INTO LCL_location_id;\n",
    "              END;\n",
    "            new.location_id := LCL_location_id;\n",
    "            end if;\n",
    "          END;\n",
    "          ''')"
   ]
  },
  {
   "cell_type": "markdown",
   "metadata": {},
   "source": [
    "# create data view\n",
    "## used for downstream analysis / dashboard"
   ]
  },
  {
   "cell_type": "code",
   "execution_count": 16,
   "metadata": {},
   "outputs": [
    {
     "data": {
      "text/plain": [
       "<sqlite3.Cursor at 0x7ef1aefab740>"
      ]
     },
     "execution_count": 16,
     "metadata": {},
     "output_type": "execute_result"
    }
   ],
   "source": [
    "cur.execute('''\n",
    "          CREATE VIEW view_via_data \n",
    "            AS \n",
    "            SELECT * FROM tbl_via_data\n",
    "          ''')"
   ]
  }
 ],
 "metadata": {
  "kernelspec": {
   "display_name": "Python 3",
   "language": "python",
   "name": "python3"
  },
  "language_info": {
   "codemirror_mode": {
    "name": "ipython",
    "version": 3
   },
   "file_extension": ".py",
   "mimetype": "text/x-python",
   "name": "python",
   "nbconvert_exporter": "python",
   "pygments_lexer": "ipython3",
   "version": "3.11.11"
  }
 },
 "nbformat": 4,
 "nbformat_minor": 2
}
