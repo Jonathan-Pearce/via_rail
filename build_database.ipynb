{
 "cells": [
  {
   "cell_type": "code",
   "execution_count": 2,
   "metadata": {},
   "outputs": [],
   "source": [
    "import sqlite3"
   ]
  },
  {
   "cell_type": "code",
   "execution_count": 3,
   "metadata": {},
   "outputs": [],
   "source": [
    "con = sqlite3.connect(\"via_data.db\")\n",
    "cur = con.cursor()"
   ]
  },
  {
   "cell_type": "markdown",
   "metadata": {},
   "source": [
    "# Create tbl_location"
   ]
  },
  {
   "cell_type": "code",
   "execution_count": 9,
   "metadata": {},
   "outputs": [
    {
     "data": {
      "text/plain": [
       "<sqlite3.Cursor at 0x7ef1aefab740>"
      ]
     },
     "execution_count": 9,
     "metadata": {},
     "output_type": "execute_result"
    }
   ],
   "source": [
    "cur.execute('''\n",
    "          CREATE TABLE tbl_location (\n",
    "            LOCATION_ID INTEGER PRIMARY KEY,\n",
    "            LOCATION text UNIQUE NOT NULL,\n",
    "            LOCATION_CODE text UNIQUE NOT NULL,\n",
    "            DATE_CREATED datetime default current_timestamp)\n",
    "          ''')"
   ]
  },
  {
   "cell_type": "markdown",
   "metadata": {},
   "source": [
    "# Create tbl_route"
   ]
  },
  {
   "cell_type": "code",
   "execution_count": 6,
   "metadata": {},
   "outputs": [
    {
     "data": {
      "text/plain": [
       "<sqlite3.Cursor at 0x72c76d9b6ec0>"
      ]
     },
     "execution_count": 6,
     "metadata": {},
     "output_type": "execute_result"
    }
   ],
   "source": [
    "cur.execute('''\n",
    "          CREATE TABLE tbl_route (\n",
    "            ROUTE_ID INTEGER PRIMARY KEY,\n",
    "            ROUTE_START INTEGER NOT NULL REFERENCES tbl_location(LOCATION_ID),\n",
    "            ROUTE_END INTEGER NOT NULL REFERENCES tbl_location(LOCATION_ID),\n",
    "            DATE_CREATED datetime default current_timestamp,\n",
    "            CONSTRAINT unique_route UNIQUE (ROUTE_START, ROUTE_END))\n",
    "          ''')"
   ]
  },
  {
   "cell_type": "code",
   "execution_count": 5,
   "metadata": {},
   "outputs": [
    {
     "data": {
      "text/plain": [
       "<sqlite3.Cursor at 0x72c76d9b6ec0>"
      ]
     },
     "execution_count": 5,
     "metadata": {},
     "output_type": "execute_result"
    }
   ],
   "source": [
    "cur.execute('''\n",
    "          DROP TABLE tbl_route;\n",
    "          ''')"
   ]
  },
  {
   "cell_type": "markdown",
   "metadata": {},
   "source": [
    "# Create tbl_route"
   ]
  },
  {
   "cell_type": "code",
   "execution_count": 12,
   "metadata": {},
   "outputs": [
    {
     "data": {
      "text/plain": [
       "<sqlite3.Cursor at 0x7ef1aefab740>"
      ]
     },
     "execution_count": 12,
     "metadata": {},
     "output_type": "execute_result"
    }
   ],
   "source": [
    "cur.execute('''\n",
    "          CREATE TABLE tbl_train (\n",
    "            TRAIN_ID INTEGER PRIMARY KEY,\n",
    "            TRAIN_NUMBER text UNIQUE NOT NULL,\n",
    "            ROUTE INTEGER NOT NULL REFERENCES tbl_route(ROUTE_ID),\n",
    "            DATE_CREATED datetime default current_timestamp)\n",
    "          ''')"
   ]
  },
  {
   "cell_type": "markdown",
   "metadata": {},
   "source": [
    "# create tbl_stop"
   ]
  },
  {
   "cell_type": "code",
   "execution_count": null,
   "metadata": {},
   "outputs": [],
   "source": [
    "cur.execute('''\n",
    "          CREATE TABLE tbl_stop (\n",
    "            STOP_ID INTEGER PRIMARY KEY,\n",
    "            TRAIN INTEGER NOT NULL REFERENCES tbl_train(TRAIN_ID),\n",
    "            LOCATION INTEGER NOT NULL REFERENCES tbl_location(LOCATION_ID),\n",
    "            TRAIN_LOCATION_ID INTEGER NOT NULL,\n",
    "            DATE_CREATED datetime default current_timestamp)\n",
    "          ''')"
   ]
  },
  {
   "cell_type": "markdown",
   "metadata": {},
   "source": [
    "# create tbl_via_data"
   ]
  },
  {
   "cell_type": "code",
   "execution_count": 15,
   "metadata": {},
   "outputs": [
    {
     "data": {
      "text/plain": [
       "<sqlite3.Cursor at 0x7ef1aefab740>"
      ]
     },
     "execution_count": 15,
     "metadata": {},
     "output_type": "execute_result"
    }
   ],
   "source": [
    "cur.execute('''\n",
    "          CREATE TABLE tbl_via_data (\n",
    "            DATA_ID INTEGER PRIMARY KEY,\n",
    "            TRAIN_STOP INTEGER NOT NULL REFERENCES tbl_stop(STOP_ID),\n",
    "            SCHEDULE_DATETIME DATETIME NOT NULL,\n",
    "            ARRIVAL_DATETIME DATETIME NOT NULL,\n",
    "            MINUTES_LATE INTEGER NOT NULL,\n",
    "            DATE_TRAIN DATETIME NOT NULL,\n",
    "            DATE_CREATED DATETIME default current_timestamp)\n",
    "          ''')"
   ]
  },
  {
   "cell_type": "markdown",
   "metadata": {},
   "source": [
    "# Create trigger\n",
    "https://stackoverflow.com/questions/19337029/insert-if-not-exists-statement-in-sqlite"
   ]
  },
  {
   "cell_type": "code",
   "execution_count": 21,
   "metadata": {},
   "outputs": [
    {
     "ename": "OperationalError",
     "evalue": "trigger via_data_before_insert already exists",
     "output_type": "error",
     "traceback": [
      "\u001b[31m---------------------------------------------------------------------------\u001b[39m",
      "\u001b[31mOperationalError\u001b[39m                          Traceback (most recent call last)",
      "\u001b[36mCell\u001b[39m\u001b[36m \u001b[39m\u001b[32mIn[21]\u001b[39m\u001b[32m, line 1\u001b[39m\n\u001b[32m----> \u001b[39m\u001b[32m1\u001b[39m \u001b[43mcur\u001b[49m\u001b[43m.\u001b[49m\u001b[43mexecute\u001b[49m\u001b[43m(\u001b[49m\u001b[33;43m'''\u001b[39;49m\n\u001b[32m      2\u001b[39m \u001b[33;43m        CREATE TRIGGER via_data_before_insert\u001b[39;49m\n\u001b[32m      3\u001b[39m \u001b[33;43m        BEFORE INSERT ON tbl_via_data\u001b[39;49m\n\u001b[32m      4\u001b[39m \u001b[33;43m        FOR EACH ROW\u001b[39;49m\n\u001b[32m      5\u001b[39m \u001b[33;43m        BEGIN\u001b[39;49m\n\u001b[32m      6\u001b[39m \u001b[33;43m            INSERT OR IGNORE INTO bookmarks(LOCATION) VALUES(new.location);\u001b[39;49m\n\u001b[32m      7\u001b[39m \u001b[33;43m        END;\u001b[39;49m\n\u001b[32m      8\u001b[39m \u001b[33;43m          \u001b[39;49m\u001b[33;43m'''\u001b[39;49m\u001b[43m)\u001b[49m\n",
      "\u001b[31mOperationalError\u001b[39m: trigger via_data_before_insert already exists"
     ]
    }
   ],
   "source": [
    "cur.execute('''\n",
    "        CREATE TRIGGER via_data_before_insert\n",
    "        BEFORE INSERT ON tbl_via_data\n",
    "        FOR EACH ROW\n",
    "        BEGIN\n",
    "            INSERT OR IGNORE INTO bookmarks(LOCATION) VALUES(new.location);\n",
    "        END;\n",
    "          ''')"
   ]
  },
  {
   "cell_type": "code",
   "execution_count": null,
   "metadata": {},
   "outputs": [],
   "source": [
    "# Create data trigger\n",
    "\n",
    "cur.execute('''\n",
    "          CREATE TRIGGER via_data_before_insert\n",
    "          BEFORE INSERT ON tbl_via_data\n",
    "          FOR EACH ROW\n",
    "          BEGIN\n",
    "            if new.location is not null then\n",
    "              LCL_location := new.location;\n",
    "              SELECT LOCATION_ID INTO LCL_location_id FROM tbl_location WHERE LOCATION = LCL_location;\n",
    "              WHEN NO_DATA_FOUND THEN\n",
    "                INSERT INTO tbl_location (LOCATION) VALUES (LCL_location);\n",
    "                RETURNING LOCATION_ID INTO LCL_location_id;\n",
    "              END;\n",
    "            new.location_id := LCL_location_id;\n",
    "            end if;\n",
    "          END;\n",
    "          ''')"
   ]
  },
  {
   "cell_type": "markdown",
   "metadata": {},
   "source": [
    "# create data view\n",
    "## used for downstream analysis / dashboard"
   ]
  },
  {
   "cell_type": "code",
   "execution_count": 16,
   "metadata": {},
   "outputs": [
    {
     "data": {
      "text/plain": [
       "<sqlite3.Cursor at 0x7ef1aefab740>"
      ]
     },
     "execution_count": 16,
     "metadata": {},
     "output_type": "execute_result"
    }
   ],
   "source": [
    "cur.execute('''\n",
    "          CREATE VIEW view_via_data \n",
    "            AS \n",
    "            SELECT * FROM tbl_via_data\n",
    "          ''')"
   ]
  }
 ],
 "metadata": {
  "kernelspec": {
   "display_name": "Python 3",
   "language": "python",
   "name": "python3"
  },
  "language_info": {
   "codemirror_mode": {
    "name": "ipython",
    "version": 3
   },
   "file_extension": ".py",
   "mimetype": "text/x-python",
   "name": "python",
   "nbconvert_exporter": "python",
   "pygments_lexer": "ipython3",
   "version": "3.11.11"
  }
 },
 "nbformat": 4,
 "nbformat_minor": 2
}
