{
 "cells": [
  {
   "cell_type": "code",
   "execution_count": 25,
   "metadata": {},
   "outputs": [],
   "source": [
    "import sqlite3\n",
    "\n",
    "con = sqlite3.connect(\"via_data.db\")\n",
    "cur = con.cursor()"
   ]
  },
  {
   "cell_type": "markdown",
   "metadata": {},
   "source": [
    "# Create tbl_location"
   ]
  },
  {
   "cell_type": "code",
   "execution_count": 26,
   "metadata": {},
   "outputs": [
    {
     "data": {
      "text/plain": [
       "<sqlite3.Cursor at 0x7d793352cec0>"
      ]
     },
     "execution_count": 26,
     "metadata": {},
     "output_type": "execute_result"
    }
   ],
   "source": [
    "cur.execute('''\n",
    "          CREATE TABLE tbl_location (\n",
    "            LOCATION_ID INTEGER PRIMARY KEY,\n",
    "            LOCATION text UNIQUE NOT NULL,\n",
    "            DATE_CREATED datetime default current_timestamp)\n",
    "          ''')\n",
    "\n",
    "#LOCATION_CODE text UNIQUE NOT NULL,"
   ]
  },
  {
   "cell_type": "markdown",
   "metadata": {},
   "source": [
    "# Create tbl_route"
   ]
  },
  {
   "cell_type": "code",
   "execution_count": 27,
   "metadata": {},
   "outputs": [
    {
     "data": {
      "text/plain": [
       "<sqlite3.Cursor at 0x7d793352cec0>"
      ]
     },
     "execution_count": 27,
     "metadata": {},
     "output_type": "execute_result"
    }
   ],
   "source": [
    "cur.execute('''\n",
    "          CREATE TABLE tbl_route (\n",
    "            ROUTE_ID INTEGER PRIMARY KEY,\n",
    "            ROUTE_START INTEGER NOT NULL REFERENCES tbl_location(LOCATION_ID),\n",
    "            ROUTE_END INTEGER NOT NULL REFERENCES tbl_location(LOCATION_ID),\n",
    "            DATE_CREATED datetime default current_timestamp,\n",
    "            CONSTRAINT unique_route UNIQUE (ROUTE_START, ROUTE_END))\n",
    "          ''')"
   ]
  },
  {
   "cell_type": "markdown",
   "metadata": {},
   "source": [
    "# Create tbl_route"
   ]
  },
  {
   "cell_type": "code",
   "execution_count": 28,
   "metadata": {},
   "outputs": [
    {
     "data": {
      "text/plain": [
       "<sqlite3.Cursor at 0x7d793352cec0>"
      ]
     },
     "execution_count": 28,
     "metadata": {},
     "output_type": "execute_result"
    }
   ],
   "source": [
    "cur.execute('''\n",
    "          CREATE TABLE tbl_train (\n",
    "            TRAIN_ID INTEGER PRIMARY KEY,\n",
    "            TRAIN_NUMBER text NOT NULL,\n",
    "            ROUTE INTEGER NOT NULL REFERENCES tbl_route(ROUTE_ID),\n",
    "            DATE_CREATED datetime default current_timestamp,\n",
    "            CONSTRAINT unique_route UNIQUE (TRAIN_NUMBER, ROUTE))\n",
    "          ''')"
   ]
  },
  {
   "cell_type": "markdown",
   "metadata": {},
   "source": [
    "# create tbl_stop"
   ]
  },
  {
   "cell_type": "code",
   "execution_count": 29,
   "metadata": {},
   "outputs": [
    {
     "data": {
      "text/plain": [
       "<sqlite3.Cursor at 0x7d793352cec0>"
      ]
     },
     "execution_count": 29,
     "metadata": {},
     "output_type": "execute_result"
    }
   ],
   "source": [
    "cur.execute('''\n",
    "          CREATE TABLE tbl_stop (\n",
    "            STOP_ID INTEGER PRIMARY KEY,\n",
    "            TRAIN INTEGER NOT NULL REFERENCES tbl_train(TRAIN_ID),\n",
    "            STOP_LOCATION INTEGER NOT NULL REFERENCES tbl_location(LOCATION_ID),\n",
    "            PREVIOUS_STOP_LOCATION INTEGER NOT NULL REFERENCES tbl_location(LOCATION_ID),\n",
    "            DATE_CREATED datetime default current_timestamp,\n",
    "            CONSTRAINT unique_route UNIQUE (TRAIN, STOP_LOCATION, PREVIOUS_STOP_LOCATION))\n",
    "          ''')"
   ]
  },
  {
   "cell_type": "markdown",
   "metadata": {},
   "source": [
    "# create tbl_via_data"
   ]
  },
  {
   "cell_type": "code",
   "execution_count": 30,
   "metadata": {},
   "outputs": [
    {
     "data": {
      "text/plain": [
       "<sqlite3.Cursor at 0x7d793352cec0>"
      ]
     },
     "execution_count": 30,
     "metadata": {},
     "output_type": "execute_result"
    }
   ],
   "source": [
    "cur.execute('''\n",
    "          CREATE TABLE tbl_via_data (\n",
    "            DATA_ID INTEGER PRIMARY KEY,\n",
    "            TRAIN_STOP INTEGER NOT NULL REFERENCES tbl_stop(STOP_ID),\n",
    "            SCHEDULE_DATETIME DATETIME NOT NULL,\n",
    "            ARRIVAL_DATETIME DATETIME NOT NULL,\n",
    "            MINUTES_LATE INTEGER NOT NULL,\n",
    "            ETA text NOT NULL,\n",
    "            DATE_TRAIN DATETIME NOT NULL,\n",
    "            DATE_CREATED DATETIME default current_timestamp,\n",
    "            CONSTRAINT unique_route UNIQUE (TRAIN_STOP, DATE_TRAIN))\n",
    "          ''')"
   ]
  },
  {
   "cell_type": "markdown",
   "metadata": {},
   "source": [
    "# Code for diagram"
   ]
  },
  {
   "cell_type": "markdown",
   "metadata": {},
   "source": [
    "// Use DBML to define your database structure\n",
    "// Docs: https://dbml.dbdiagram.io/docs\n",
    "\n",
    "TABLE tbl_location {\n",
    "  LOCATION_ID INTEGER [PRIMARY KEY]\n",
    "  LOCATION text UNIQUE\n",
    "  DATE_CREATED datetime\n",
    "}\n",
    "\n",
    "TABLE tbl_route {\n",
    "  ROUTE_ID INTEGER [PRIMARY KEY]\n",
    "  ROUTE_START INTEGER [ref: > tbl_location.LOCATION_ID]\n",
    "  ROUTE_END INTEGER [ref: > tbl_location.LOCATION_ID]\n",
    "  DATE_CREATED datetime\n",
    "}\n",
    "\n",
    "TABLE tbl_train{\n",
    "  TRAIN_ID INTEGER [PRIMARY KEY]\n",
    "  TRAIN_NUMBER text\n",
    "  ROUTE INTEGER [ref: > tbl_route.ROUTE_ID]\n",
    "  DATE_CREATED datetime\n",
    "}\n",
    "\n",
    "TABLE tbl_stop{\n",
    "  STOP_ID INTEGER [PRIMARY KEY]\n",
    "  TRAIN INTEGER [ref: > tbl_train.TRAIN_ID]\n",
    "  STOP_LOCATION INTEGER [ref: > tbl_location.LOCATION_ID]\n",
    "  PREVIOUS_STOP_LOCATION INTEGER [ref: > tbl_location.LOCATION_ID]\n",
    "  DATE_CREATED datetime\n",
    "}\n",
    "\n",
    "TABLE tbl_via_data{\n",
    "  DATA_ID INTEGER [PRIMARY KEY]\n",
    "  TRAIN_STOP INTEGER [ref: > tbl_stop.STOP_ID]\n",
    "  SCHEDULE_DATETIME DATETIME \n",
    "  ARRIVAL_DATETIME DATETIME \n",
    "  MINUTES_LATE INTEGER\n",
    "  ETA text\n",
    "  DATE_TRAIN datetime\n",
    "  DATE_CREATED DATETIME\n",
    "}"
   ]
  },
  {
   "cell_type": "code",
   "execution_count": null,
   "metadata": {},
   "outputs": [],
   "source": []
  }
 ],
 "metadata": {
  "kernelspec": {
   "display_name": "Python 3",
   "language": "python",
   "name": "python3"
  },
  "language_info": {
   "codemirror_mode": {
    "name": "ipython",
    "version": 3
   },
   "file_extension": ".py",
   "mimetype": "text/x-python",
   "name": "python",
   "nbconvert_exporter": "python",
   "pygments_lexer": "ipython3",
   "version": "3.11.12"
  }
 },
 "nbformat": 4,
 "nbformat_minor": 2
}
