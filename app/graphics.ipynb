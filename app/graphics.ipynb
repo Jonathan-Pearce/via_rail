{
 "cells": [
  {
   "cell_type": "code",
   "execution_count": 1,
   "metadata": {},
   "outputs": [],
   "source": [
    "import plotly\n",
    "import plotly.express as px\n",
    "import pandas as pd"
   ]
  },
  {
   "cell_type": "code",
   "execution_count": 2,
   "metadata": {},
   "outputs": [],
   "source": [
    "via_data = pd.read_csv(\"via_data_june_17_2025.csv\", sep = \";\")"
   ]
  },
  {
   "cell_type": "code",
   "execution_count": 3,
   "metadata": {},
   "outputs": [],
   "source": [
    "via_train_69 = via_data[via_data[\"TRAIN_NUMBER\"]==\"69\"]"
   ]
  },
  {
   "cell_type": "code",
   "execution_count": 4,
   "metadata": {},
   "outputs": [
    {
     "data": {
      "application/vnd.plotly.v1+json": {
       "config": {
        "plotlyServerURL": "https://plot.ly"
       },
       "data": [
        {
         "hovertemplate": "DATE_TRAIN=2025-04-14<br>LOCATION=%{x}<br>MINUTES_LATE=%{y}<extra></extra>",
         "legendgroup": "2025-04-14",
         "line": {
          "color": "#636efa",
          "dash": "solid"
         },
         "marker": {
          "symbol": "circle"
         },
         "mode": "lines",
         "name": "2025-04-14",
         "orientation": "v",
         "showlegend": true,
         "type": "scatter",
         "x": [
          "MONTRÉAL",
          "DORVAL",
          "CORNWALL",
          "BROCKVILLE",
          "KINGSTON",
          "OSHAWA",
          "GUILDWOOD",
          "TORONTO"
         ],
         "xaxis": "x",
         "y": {
          "bdata": "AP8UGCI4ODk=",
          "dtype": "i1"
         },
         "yaxis": "y"
        },
        {
         "hovertemplate": "DATE_TRAIN=2025-04-13<br>LOCATION=%{x}<br>MINUTES_LATE=%{y}<extra></extra>",
         "legendgroup": "2025-04-13",
         "line": {
          "color": "#EF553B",
          "dash": "solid"
         },
         "marker": {
          "symbol": "circle"
         },
         "mode": "lines",
         "name": "2025-04-13",
         "orientation": "v",
         "showlegend": true,
         "type": "scatter",
         "x": [
          "MONTRÉAL",
          "DORVAL",
          "CORNWALL",
          "BROCKVILLE",
          "KINGSTON",
          "OSHAWA"
         ],
         "xaxis": "x",
         "y": {
          "bdata": "WwBcAFwAWwBeAKoA",
          "dtype": "i2"
         },
         "yaxis": "y"
        },
        {
         "hovertemplate": "DATE_TRAIN=2025-05-19<br>LOCATION=%{x}<br>MINUTES_LATE=%{y}<extra></extra>",
         "legendgroup": "2025-05-19",
         "line": {
          "color": "#00cc96",
          "dash": "solid"
         },
         "marker": {
          "symbol": "circle"
         },
         "mode": "lines",
         "name": "2025-05-19",
         "orientation": "v",
         "showlegend": true,
         "type": "scatter",
         "x": [
          "MONTRÉAL",
          "DORVAL",
          "CORNWALL",
          "BROCKVILLE",
          "KINGSTON",
          "OSHAWA",
          "GUILDWOOD",
          "TORONTO"
         ],
         "xaxis": "x",
         "y": {
          "bdata": "DgwbISpETVY=",
          "dtype": "i1"
         },
         "yaxis": "y"
        },
        {
         "hovertemplate": "DATE_TRAIN=2025-06-01<br>LOCATION=%{x}<br>MINUTES_LATE=%{y}<extra></extra>",
         "legendgroup": "2025-06-01",
         "line": {
          "color": "#ab63fa",
          "dash": "solid"
         },
         "marker": {
          "symbol": "circle"
         },
         "mode": "lines",
         "name": "2025-06-01",
         "orientation": "v",
         "showlegend": true,
         "type": "scatter",
         "x": [
          "MONTRÉAL",
          "DORVAL",
          "CORNWALL",
          "BROCKVILLE",
          "KINGSTON",
          "OSHAWA",
          "GUILDWOOD",
          "TORONTO"
         ],
         "xaxis": "x",
         "y": {
          "bdata": "AAMNDxYtNDg=",
          "dtype": "i1"
         },
         "yaxis": "y"
        },
        {
         "hovertemplate": "DATE_TRAIN=2025-04-11<br>LOCATION=%{x}<br>MINUTES_LATE=%{y}<extra></extra>",
         "legendgroup": "2025-04-11",
         "line": {
          "color": "#FFA15A",
          "dash": "solid"
         },
         "marker": {
          "symbol": "circle"
         },
         "mode": "lines",
         "name": "2025-04-11",
         "orientation": "v",
         "showlegend": true,
         "type": "scatter",
         "x": [
          "MONTRÉAL",
          "DORVAL",
          "CORNWALL",
          "BROCKVILLE",
          "KINGSTON",
          "OSHAWA",
          "GUILDWOOD",
          "TORONTO"
         ],
         "xaxis": "x",
         "y": {
          "bdata": "AAQNDg4cHCY=",
          "dtype": "i1"
         },
         "yaxis": "y"
        },
        {
         "hovertemplate": "DATE_TRAIN=2025-06-04<br>LOCATION=%{x}<br>MINUTES_LATE=%{y}<extra></extra>",
         "legendgroup": "2025-06-04",
         "line": {
          "color": "#19d3f3",
          "dash": "solid"
         },
         "marker": {
          "symbol": "circle"
         },
         "mode": "lines",
         "name": "2025-06-04",
         "orientation": "v",
         "showlegend": true,
         "type": "scatter",
         "x": [
          "MONTRÉAL",
          "DORVAL",
          "CORNWALL",
          "BROCKVILLE",
          "KINGSTON",
          "OSHAWA"
         ],
         "xaxis": "x",
         "y": {
          "bdata": "AAAAABEAbwCEAKYA",
          "dtype": "i2"
         },
         "yaxis": "y"
        },
        {
         "hovertemplate": "DATE_TRAIN=2025-06-07<br>LOCATION=%{x}<br>MINUTES_LATE=%{y}<extra></extra>",
         "legendgroup": "2025-06-07",
         "line": {
          "color": "#FF6692",
          "dash": "solid"
         },
         "marker": {
          "symbol": "circle"
         },
         "mode": "lines",
         "name": "2025-06-07",
         "orientation": "v",
         "showlegend": true,
         "type": "scatter",
         "x": [
          "MONTRÉAL",
          "DORVAL",
          "CORNWALL",
          "BROCKVILLE",
          "KINGSTON",
          "OSHAWA",
          "GUILDWOOD",
          "TORONTO"
         ],
         "xaxis": "x",
         "y": {
          "bdata": "AAEHBw4lISE=",
          "dtype": "i1"
         },
         "yaxis": "y"
        },
        {
         "hovertemplate": "DATE_TRAIN=2025-05-25<br>LOCATION=%{x}<br>MINUTES_LATE=%{y}<extra></extra>",
         "legendgroup": "2025-05-25",
         "line": {
          "color": "#B6E880",
          "dash": "solid"
         },
         "marker": {
          "symbol": "circle"
         },
         "mode": "lines",
         "name": "2025-05-25",
         "orientation": "v",
         "showlegend": true,
         "type": "scatter",
         "x": [
          "MONTRÉAL",
          "DORVAL",
          "CORNWALL",
          "BROCKVILLE",
          "KINGSTON",
          "OSHAWA",
          "GUILDWOOD",
          "TORONTO"
         ],
         "xaxis": "x",
         "y": {
          "bdata": "AAEKERgrNDg=",
          "dtype": "i1"
         },
         "yaxis": "y"
        },
        {
         "hovertemplate": "DATE_TRAIN=2025-04-01<br>LOCATION=%{x}<br>MINUTES_LATE=%{y}<extra></extra>",
         "legendgroup": "2025-04-01",
         "line": {
          "color": "#FF97FF",
          "dash": "solid"
         },
         "marker": {
          "symbol": "circle"
         },
         "mode": "lines",
         "name": "2025-04-01",
         "orientation": "v",
         "showlegend": true,
         "type": "scatter",
         "x": [
          "MONTRÉAL",
          "DORVAL",
          "CORNWALL",
          "BROCKVILLE",
          "KINGSTON",
          "OSHAWA",
          "GUILDWOOD",
          "TORONTO"
         ],
         "xaxis": "x",
         "y": {
          "bdata": "AAsXGiNAQEY=",
          "dtype": "i1"
         },
         "yaxis": "y"
        },
        {
         "hovertemplate": "DATE_TRAIN=2025-06-06<br>LOCATION=%{x}<br>MINUTES_LATE=%{y}<extra></extra>",
         "legendgroup": "2025-06-06",
         "line": {
          "color": "#FECB52",
          "dash": "solid"
         },
         "marker": {
          "symbol": "circle"
         },
         "mode": "lines",
         "name": "2025-06-06",
         "orientation": "v",
         "showlegend": true,
         "type": "scatter",
         "x": [
          "MONTRÉAL",
          "DORVAL",
          "CORNWALL",
          "BROCKVILLE",
          "KINGSTON",
          "OSHAWA",
          "GUILDWOOD",
          "TORONTO"
         ],
         "xaxis": "x",
         "y": {
          "bdata": "AAsWGiRGSk4=",
          "dtype": "i1"
         },
         "yaxis": "y"
        },
        {
         "hovertemplate": "DATE_TRAIN=2025-05-23<br>LOCATION=%{x}<br>MINUTES_LATE=%{y}<extra></extra>",
         "legendgroup": "2025-05-23",
         "line": {
          "color": "#636efa",
          "dash": "solid"
         },
         "marker": {
          "symbol": "circle"
         },
         "mode": "lines",
         "name": "2025-05-23",
         "orientation": "v",
         "showlegend": true,
         "type": "scatter",
         "x": [
          "MONTRÉAL",
          "DORVAL",
          "CORNWALL",
          "BROCKVILLE",
          "KINGSTON",
          "OSHAWA",
          "GUILDWOOD",
          "TORONTO"
         ],
         "xaxis": "x",
         "y": {
          "bdata": "AAAMEx04NTY=",
          "dtype": "i1"
         },
         "yaxis": "y"
        },
        {
         "hovertemplate": "DATE_TRAIN=2025-05-17<br>LOCATION=%{x}<br>MINUTES_LATE=%{y}<extra></extra>",
         "legendgroup": "2025-05-17",
         "line": {
          "color": "#EF553B",
          "dash": "solid"
         },
         "marker": {
          "symbol": "circle"
         },
         "mode": "lines",
         "name": "2025-05-17",
         "orientation": "v",
         "showlegend": true,
         "type": "scatter",
         "x": [
          "MONTRÉAL",
          "DORVAL",
          "CORNWALL",
          "BROCKVILLE",
          "KINGSTON",
          "OSHAWA",
          "GUILDWOOD",
          "TORONTO"
         ],
         "xaxis": "x",
         "y": {
          "bdata": "AAQMDRMxMDA=",
          "dtype": "i1"
         },
         "yaxis": "y"
        },
        {
         "hovertemplate": "DATE_TRAIN=2025-05-11<br>LOCATION=%{x}<br>MINUTES_LATE=%{y}<extra></extra>",
         "legendgroup": "2025-05-11",
         "line": {
          "color": "#00cc96",
          "dash": "solid"
         },
         "marker": {
          "symbol": "circle"
         },
         "mode": "lines",
         "name": "2025-05-11",
         "orientation": "v",
         "showlegend": true,
         "type": "scatter",
         "x": [
          "MONTRÉAL",
          "DORVAL",
          "CORNWALL",
          "BROCKVILLE",
          "KINGSTON"
         ],
         "xaxis": "x",
         "y": {
          "bdata": "ewB5AIAAsAC0AA==",
          "dtype": "i2"
         },
         "yaxis": "y"
        },
        {
         "hovertemplate": "DATE_TRAIN=2025-04-19<br>LOCATION=%{x}<br>MINUTES_LATE=%{y}<extra></extra>",
         "legendgroup": "2025-04-19",
         "line": {
          "color": "#ab63fa",
          "dash": "solid"
         },
         "marker": {
          "symbol": "circle"
         },
         "mode": "lines",
         "name": "2025-04-19",
         "orientation": "v",
         "showlegend": true,
         "type": "scatter",
         "x": [
          "MONTRÉAL",
          "DORVAL",
          "CORNWALL",
          "BROCKVILLE",
          "KINGSTON",
          "OSHAWA",
          "GUILDWOOD",
          "TORONTO"
         ],
         "xaxis": "x",
         "y": {
          "bdata": "AP0KDxYqLjg=",
          "dtype": "i1"
         },
         "yaxis": "y"
        },
        {
         "hovertemplate": "DATE_TRAIN=2025-04-28<br>LOCATION=%{x}<br>MINUTES_LATE=%{y}<extra></extra>",
         "legendgroup": "2025-04-28",
         "line": {
          "color": "#FFA15A",
          "dash": "solid"
         },
         "marker": {
          "symbol": "circle"
         },
         "mode": "lines",
         "name": "2025-04-28",
         "orientation": "v",
         "showlegend": true,
         "type": "scatter",
         "x": [
          "MONTRÉAL",
          "DORVAL",
          "CORNWALL",
          "BROCKVILLE",
          "KINGSTON",
          "OSHAWA",
          "GUILDWOOD",
          "TORONTO"
         ],
         "xaxis": "x",
         "y": {
          "bdata": "EhAcICg/P0Q=",
          "dtype": "i1"
         },
         "yaxis": "y"
        },
        {
         "hovertemplate": "DATE_TRAIN=2025-06-09<br>LOCATION=%{x}<br>MINUTES_LATE=%{y}<extra></extra>",
         "legendgroup": "2025-06-09",
         "line": {
          "color": "#19d3f3",
          "dash": "solid"
         },
         "marker": {
          "symbol": "circle"
         },
         "mode": "lines",
         "name": "2025-06-09",
         "orientation": "v",
         "showlegend": true,
         "type": "scatter",
         "x": [
          "MONTRÉAL",
          "DORVAL",
          "CORNWALL",
          "BROCKVILLE",
          "KINGSTON",
          "OSHAWA",
          "GUILDWOOD",
          "TORONTO"
         ],
         "xaxis": "x",
         "y": {
          "bdata": "AAIJCxMrKys=",
          "dtype": "i1"
         },
         "yaxis": "y"
        },
        {
         "hovertemplate": "DATE_TRAIN=2025-05-12<br>LOCATION=%{x}<br>MINUTES_LATE=%{y}<extra></extra>",
         "legendgroup": "2025-05-12",
         "line": {
          "color": "#FF6692",
          "dash": "solid"
         },
         "marker": {
          "symbol": "circle"
         },
         "mode": "lines",
         "name": "2025-05-12",
         "orientation": "v",
         "showlegend": true,
         "type": "scatter",
         "x": [
          "MONTRÉAL",
          "DORVAL",
          "CORNWALL",
          "BROCKVILLE",
          "KINGSTON",
          "OSHAWA",
          "GUILDWOOD",
          "TORONTO",
          "OSHAWA"
         ],
         "xaxis": "x",
         "y": {
          "bdata": "AAABAAsADgAYADAALgAtALQA",
          "dtype": "i2"
         },
         "yaxis": "y"
        },
        {
         "hovertemplate": "DATE_TRAIN=2025-04-07<br>LOCATION=%{x}<br>MINUTES_LATE=%{y}<extra></extra>",
         "legendgroup": "2025-04-07",
         "line": {
          "color": "#B6E880",
          "dash": "solid"
         },
         "marker": {
          "symbol": "circle"
         },
         "mode": "lines",
         "name": "2025-04-07",
         "orientation": "v",
         "showlegend": true,
         "type": "scatter",
         "x": [
          "MONTRÉAL",
          "DORVAL",
          "CORNWALL",
          "BROCKVILLE",
          "KINGSTON",
          "OSHAWA",
          "GUILDWOOD",
          "TORONTO"
         ],
         "xaxis": "x",
         "y": {
          "bdata": "AAcRFSFDSk4=",
          "dtype": "i1"
         },
         "yaxis": "y"
        },
        {
         "hovertemplate": "DATE_TRAIN=2025-05-05<br>LOCATION=%{x}<br>MINUTES_LATE=%{y}<extra></extra>",
         "legendgroup": "2025-05-05",
         "line": {
          "color": "#FF97FF",
          "dash": "solid"
         },
         "marker": {
          "symbol": "circle"
         },
         "mode": "lines",
         "name": "2025-05-05",
         "orientation": "v",
         "showlegend": true,
         "type": "scatter",
         "x": [
          "MONTRÉAL",
          "DORVAL",
          "CORNWALL",
          "BROCKVILLE",
          "KINGSTON",
          "OSHAWA",
          "GUILDWOOD",
          "TORONTO"
         ],
         "xaxis": "x",
         "y": {
          "bdata": "AP8LDRYtLS0=",
          "dtype": "i1"
         },
         "yaxis": "y"
        },
        {
         "hovertemplate": "DATE_TRAIN=2025-05-07<br>LOCATION=%{x}<br>MINUTES_LATE=%{y}<extra></extra>",
         "legendgroup": "2025-05-07",
         "line": {
          "color": "#FECB52",
          "dash": "solid"
         },
         "marker": {
          "symbol": "circle"
         },
         "mode": "lines",
         "name": "2025-05-07",
         "orientation": "v",
         "showlegend": true,
         "type": "scatter",
         "x": [
          "MONTRÉAL",
          "DORVAL",
          "CORNWALL",
          "BROCKVILLE",
          "KINGSTON",
          "OSHAWA",
          "GUILDWOOD",
          "TORONTO"
         ],
         "xaxis": "x",
         "y": {
          "bdata": "AP8LDRc7ODw=",
          "dtype": "i1"
         },
         "yaxis": "y"
        },
        {
         "hovertemplate": "DATE_TRAIN=2025-04-20<br>LOCATION=%{x}<br>MINUTES_LATE=%{y}<extra></extra>",
         "legendgroup": "2025-04-20",
         "line": {
          "color": "#636efa",
          "dash": "solid"
         },
         "marker": {
          "symbol": "circle"
         },
         "mode": "lines",
         "name": "2025-04-20",
         "orientation": "v",
         "showlegend": true,
         "type": "scatter",
         "x": [
          "MONTRÉAL",
          "DORVAL",
          "CORNWALL",
          "BROCKVILLE",
          "KINGSTON",
          "OSHAWA",
          "GUILDWOOD",
          "TORONTO"
         ],
         "xaxis": "x",
         "y": {
          "bdata": "AP8KGSBESlQ=",
          "dtype": "i1"
         },
         "yaxis": "y"
        },
        {
         "hovertemplate": "DATE_TRAIN=2025-04-05<br>LOCATION=%{x}<br>MINUTES_LATE=%{y}<extra></extra>",
         "legendgroup": "2025-04-05",
         "line": {
          "color": "#EF553B",
          "dash": "solid"
         },
         "marker": {
          "symbol": "circle"
         },
         "mode": "lines",
         "name": "2025-04-05",
         "orientation": "v",
         "showlegend": true,
         "type": "scatter",
         "x": [
          "MONTRÉAL",
          "DORVAL",
          "CORNWALL",
          "BROCKVILLE",
          "KINGSTON",
          "OSHAWA",
          "GUILDWOOD",
          "TORONTO"
         ],
         "xaxis": "x",
         "y": {
          "bdata": "AP0JEBcsLjc=",
          "dtype": "i1"
         },
         "yaxis": "y"
        },
        {
         "hovertemplate": "DATE_TRAIN=2025-05-21<br>LOCATION=%{x}<br>MINUTES_LATE=%{y}<extra></extra>",
         "legendgroup": "2025-05-21",
         "line": {
          "color": "#00cc96",
          "dash": "solid"
         },
         "marker": {
          "symbol": "circle"
         },
         "mode": "lines",
         "name": "2025-05-21",
         "orientation": "v",
         "showlegend": true,
         "type": "scatter",
         "x": [
          "MONTRÉAL",
          "DORVAL",
          "CORNWALL",
          "BROCKVILLE",
          "KINGSTON",
          "OSHAWA",
          "GUILDWOOD",
          "TORONTO"
         ],
         "xaxis": "x",
         "y": {
          "bdata": "AAALDxY2MjY=",
          "dtype": "i1"
         },
         "yaxis": "y"
        },
        {
         "hovertemplate": "DATE_TRAIN=2025-05-16<br>LOCATION=%{x}<br>MINUTES_LATE=%{y}<extra></extra>",
         "legendgroup": "2025-05-16",
         "line": {
          "color": "#ab63fa",
          "dash": "solid"
         },
         "marker": {
          "symbol": "circle"
         },
         "mode": "lines",
         "name": "2025-05-16",
         "orientation": "v",
         "showlegend": true,
         "type": "scatter",
         "x": [
          "MONTRÉAL",
          "DORVAL",
          "CORNWALL",
          "BROCKVILLE",
          "KINGSTON",
          "OSHAWA",
          "GUILDWOOD",
          "TORONTO"
         ],
         "xaxis": "x",
         "y": {
          "bdata": "AAEJEBcyMTg=",
          "dtype": "i1"
         },
         "yaxis": "y"
        },
        {
         "hovertemplate": "DATE_TRAIN=2025-05-28<br>LOCATION=%{x}<br>MINUTES_LATE=%{y}<extra></extra>",
         "legendgroup": "2025-05-28",
         "line": {
          "color": "#FFA15A",
          "dash": "solid"
         },
         "marker": {
          "symbol": "circle"
         },
         "mode": "lines",
         "name": "2025-05-28",
         "orientation": "v",
         "showlegend": true,
         "type": "scatter",
         "x": [
          "MONTRÉAL",
          "DORVAL",
          "CORNWALL",
          "BROCKVILLE",
          "KINGSTON",
          "OSHAWA",
          "GUILDWOOD",
          "TORONTO"
         ],
         "xaxis": "x",
         "y": {
          "bdata": "AAEOFR5AT1c=",
          "dtype": "i1"
         },
         "yaxis": "y"
        },
        {
         "hovertemplate": "DATE_TRAIN=2025-05-15<br>LOCATION=%{x}<br>MINUTES_LATE=%{y}<extra></extra>",
         "legendgroup": "2025-05-15",
         "line": {
          "color": "#19d3f3",
          "dash": "solid"
         },
         "marker": {
          "symbol": "circle"
         },
         "mode": "lines",
         "name": "2025-05-15",
         "orientation": "v",
         "showlegend": true,
         "type": "scatter",
         "x": [
          "MONTRÉAL",
          "DORVAL",
          "CORNWALL",
          "BROCKVILLE",
          "KINGSTON",
          "OSHAWA",
          "GUILDWOOD",
          "TORONTO"
         ],
         "xaxis": "x",
         "y": {
          "bdata": "AAAKCRJFSEc=",
          "dtype": "i1"
         },
         "yaxis": "y"
        },
        {
         "hovertemplate": "DATE_TRAIN=2025-06-02<br>LOCATION=%{x}<br>MINUTES_LATE=%{y}<extra></extra>",
         "legendgroup": "2025-06-02",
         "line": {
          "color": "#FF6692",
          "dash": "solid"
         },
         "marker": {
          "symbol": "circle"
         },
         "mode": "lines",
         "name": "2025-06-02",
         "orientation": "v",
         "showlegend": true,
         "type": "scatter",
         "x": [
          "MONTRÉAL",
          "DORVAL",
          "CORNWALL",
          "BROCKVILLE",
          "KINGSTON",
          "OSHAWA",
          "GUILDWOOD",
          "TORONTO"
         ],
         "xaxis": "x",
         "y": {
          "bdata": "AAMNEB5CP0A=",
          "dtype": "i1"
         },
         "yaxis": "y"
        },
        {
         "hovertemplate": "DATE_TRAIN=2025-04-08<br>LOCATION=%{x}<br>MINUTES_LATE=%{y}<extra></extra>",
         "legendgroup": "2025-04-08",
         "line": {
          "color": "#B6E880",
          "dash": "solid"
         },
         "marker": {
          "symbol": "circle"
         },
         "mode": "lines",
         "name": "2025-04-08",
         "orientation": "v",
         "showlegend": true,
         "type": "scatter",
         "x": [
          "MONTRÉAL",
          "DORVAL",
          "CORNWALL",
          "BROCKVILLE",
          "KINGSTON",
          "OSHAWA",
          "GUILDWOOD"
         ],
         "xaxis": "x",
         "y": {
          "bdata": "AQgUFiBmcw==",
          "dtype": "i1"
         },
         "yaxis": "y"
        },
        {
         "hovertemplate": "DATE_TRAIN=2025-06-10<br>LOCATION=%{x}<br>MINUTES_LATE=%{y}<extra></extra>",
         "legendgroup": "2025-06-10",
         "line": {
          "color": "#FF97FF",
          "dash": "solid"
         },
         "marker": {
          "symbol": "circle"
         },
         "mode": "lines",
         "name": "2025-06-10",
         "orientation": "v",
         "showlegend": true,
         "type": "scatter",
         "x": [
          "MONTRÉAL",
          "DORVAL",
          "CORNWALL",
          "BROCKVILLE",
          "KINGSTON",
          "OSHAWA",
          "GUILDWOOD",
          "TORONTO"
         ],
         "xaxis": "x",
         "y": {
          "bdata": "AAAKHic8OTg=",
          "dtype": "i1"
         },
         "yaxis": "y"
        },
        {
         "hovertemplate": "DATE_TRAIN=2025-04-17<br>LOCATION=%{x}<br>MINUTES_LATE=%{y}<extra></extra>",
         "legendgroup": "2025-04-17",
         "line": {
          "color": "#FECB52",
          "dash": "solid"
         },
         "marker": {
          "symbol": "circle"
         },
         "mode": "lines",
         "name": "2025-04-17",
         "orientation": "v",
         "showlegend": true,
         "type": "scatter",
         "x": [
          "MONTRÉAL",
          "DORVAL",
          "CORNWALL",
          "BROCKVILLE",
          "KINGSTON",
          "OSHAWA",
          "GUILDWOOD",
          "TORONTO"
         ],
         "xaxis": "x",
         "y": {
          "bdata": "AAUODhc2NjY=",
          "dtype": "i1"
         },
         "yaxis": "y"
        },
        {
         "hovertemplate": "DATE_TRAIN=2025-05-01<br>LOCATION=%{x}<br>MINUTES_LATE=%{y}<extra></extra>",
         "legendgroup": "2025-05-01",
         "line": {
          "color": "#636efa",
          "dash": "solid"
         },
         "marker": {
          "symbol": "circle"
         },
         "mode": "lines",
         "name": "2025-05-01",
         "orientation": "v",
         "showlegend": true,
         "type": "scatter",
         "x": [
          "MONTRÉAL",
          "DORVAL",
          "CORNWALL",
          "BROCKVILLE",
          "KINGSTON",
          "OSHAWA",
          "GUILDWOOD",
          "TORONTO"
         ],
         "xaxis": "x",
         "y": {
          "bdata": "AAMUFRw+PDs=",
          "dtype": "i1"
         },
         "yaxis": "y"
        },
        {
         "hovertemplate": "DATE_TRAIN=2025-05-30<br>LOCATION=%{x}<br>MINUTES_LATE=%{y}<extra></extra>",
         "legendgroup": "2025-05-30",
         "line": {
          "color": "#EF553B",
          "dash": "solid"
         },
         "marker": {
          "symbol": "circle"
         },
         "mode": "lines",
         "name": "2025-05-30",
         "orientation": "v",
         "showlegend": true,
         "type": "scatter",
         "x": [
          "MONTRÉAL",
          "DORVAL",
          "CORNWALL",
          "BROCKVILLE",
          "KINGSTON",
          "OSHAWA",
          "GUILDWOOD",
          "TORONTO"
         ],
         "xaxis": "x",
         "y": {
          "bdata": "AP8LERoxNTc=",
          "dtype": "i1"
         },
         "yaxis": "y"
        },
        {
         "hovertemplate": "DATE_TRAIN=2025-05-22<br>LOCATION=%{x}<br>MINUTES_LATE=%{y}<extra></extra>",
         "legendgroup": "2025-05-22",
         "line": {
          "color": "#00cc96",
          "dash": "solid"
         },
         "marker": {
          "symbol": "circle"
         },
         "mode": "lines",
         "name": "2025-05-22",
         "orientation": "v",
         "showlegend": true,
         "type": "scatter",
         "x": [
          "MONTRÉAL",
          "DORVAL",
          "CORNWALL",
          "BROCKVILLE",
          "KINGSTON",
          "OSHAWA",
          "GUILDWOOD",
          "TORONTO"
         ],
         "xaxis": "x",
         "y": {
          "bdata": "AAAKCg8tKik=",
          "dtype": "i1"
         },
         "yaxis": "y"
        },
        {
         "hovertemplate": "DATE_TRAIN=2025-04-22<br>LOCATION=%{x}<br>MINUTES_LATE=%{y}<extra></extra>",
         "legendgroup": "2025-04-22",
         "line": {
          "color": "#ab63fa",
          "dash": "solid"
         },
         "marker": {
          "symbol": "circle"
         },
         "mode": "lines",
         "name": "2025-04-22",
         "orientation": "v",
         "showlegend": true,
         "type": "scatter",
         "x": [
          "MONTRÉAL",
          "DORVAL",
          "CORNWALL",
          "BROCKVILLE",
          "KINGSTON",
          "OSHAWA",
          "GUILDWOOD",
          "TORONTO"
         ],
         "xaxis": "x",
         "y": {
          "bdata": "AAEMDhguMDg=",
          "dtype": "i1"
         },
         "yaxis": "y"
        },
        {
         "hovertemplate": "DATE_TRAIN=2025-04-15<br>LOCATION=%{x}<br>MINUTES_LATE=%{y}<extra></extra>",
         "legendgroup": "2025-04-15",
         "line": {
          "color": "#FFA15A",
          "dash": "solid"
         },
         "marker": {
          "symbol": "circle"
         },
         "mode": "lines",
         "name": "2025-04-15",
         "orientation": "v",
         "showlegend": true,
         "type": "scatter",
         "x": [
          "MONTRÉAL",
          "DORVAL",
          "CORNWALL",
          "BROCKVILLE",
          "KINGSTON",
          "OSHAWA",
          "GUILDWOOD",
          "TORONTO"
         ],
         "xaxis": "x",
         "y": {
          "bdata": "AA0YGyM6Njc=",
          "dtype": "i1"
         },
         "yaxis": "y"
        },
        {
         "hovertemplate": "DATE_TRAIN=2025-05-02<br>LOCATION=%{x}<br>MINUTES_LATE=%{y}<extra></extra>",
         "legendgroup": "2025-05-02",
         "line": {
          "color": "#19d3f3",
          "dash": "solid"
         },
         "marker": {
          "symbol": "circle"
         },
         "mode": "lines",
         "name": "2025-05-02",
         "orientation": "v",
         "showlegend": true,
         "type": "scatter",
         "x": [
          "MONTRÉAL",
          "DORVAL",
          "CORNWALL",
          "BROCKVILLE",
          "KINGSTON",
          "OSHAWA",
          "GUILDWOOD",
          "TORONTO"
         ],
         "xaxis": "x",
         "y": {
          "bdata": "AAIMExwyNz4=",
          "dtype": "i1"
         },
         "yaxis": "y"
        },
        {
         "hovertemplate": "DATE_TRAIN=2025-04-02<br>LOCATION=%{x}<br>MINUTES_LATE=%{y}<extra></extra>",
         "legendgroup": "2025-04-02",
         "line": {
          "color": "#FF6692",
          "dash": "solid"
         },
         "marker": {
          "symbol": "circle"
         },
         "mode": "lines",
         "name": "2025-04-02",
         "orientation": "v",
         "showlegend": true,
         "type": "scatter",
         "x": [
          "MONTRÉAL",
          "DORVAL",
          "CORNWALL",
          "BROCKVILLE",
          "KINGSTON",
          "OSHAWA",
          "GUILDWOOD",
          "TORONTO"
         ],
         "xaxis": "x",
         "y": {
          "bdata": "AAUQEhw0MTg=",
          "dtype": "i1"
         },
         "yaxis": "y"
        },
        {
         "hovertemplate": "DATE_TRAIN=2025-06-05<br>LOCATION=%{x}<br>MINUTES_LATE=%{y}<extra></extra>",
         "legendgroup": "2025-06-05",
         "line": {
          "color": "#B6E880",
          "dash": "solid"
         },
         "marker": {
          "symbol": "circle"
         },
         "mode": "lines",
         "name": "2025-06-05",
         "orientation": "v",
         "showlegend": true,
         "type": "scatter",
         "x": [
          "GUILDWOOD",
          "MONTRÉAL",
          "DORVAL",
          "CORNWALL",
          "BROCKVILLE",
          "KINGSTON",
          "OSHAWA",
          "GUILDWOOD",
          "TORONTO"
         ],
         "xaxis": "x",
         "y": {
          "bdata": "pgAAAAYAIgAxADsAZgBqAGgA",
          "dtype": "i2"
         },
         "yaxis": "y"
        },
        {
         "hovertemplate": "DATE_TRAIN=2025-06-11<br>LOCATION=%{x}<br>MINUTES_LATE=%{y}<extra></extra>",
         "legendgroup": "2025-06-11",
         "line": {
          "color": "#FF97FF",
          "dash": "solid"
         },
         "marker": {
          "symbol": "circle"
         },
         "mode": "lines",
         "name": "2025-06-11",
         "orientation": "v",
         "showlegend": true,
         "type": "scatter",
         "x": [
          "MONTRÉAL",
          "DORVAL",
          "CORNWALL",
          "BROCKVILLE",
          "KINGSTON",
          "OSHAWA",
          "GUILDWOOD",
          "TORONTO"
         ],
         "xaxis": "x",
         "y": {
          "bdata": "AAARHylCUVY=",
          "dtype": "i1"
         },
         "yaxis": "y"
        },
        {
         "hovertemplate": "DATE_TRAIN=2025-04-18<br>LOCATION=%{x}<br>MINUTES_LATE=%{y}<extra></extra>",
         "legendgroup": "2025-04-18",
         "line": {
          "color": "#FECB52",
          "dash": "solid"
         },
         "marker": {
          "symbol": "circle"
         },
         "mode": "lines",
         "name": "2025-04-18",
         "orientation": "v",
         "showlegend": true,
         "type": "scatter",
         "x": [
          "MONTRÉAL",
          "DORVAL",
          "CORNWALL",
          "BROCKVILLE",
          "KINGSTON",
          "OSHAWA",
          "GUILDWOOD",
          "TORONTO"
         ],
         "xaxis": "x",
         "y": {
          "bdata": "AQALDxk3O0U=",
          "dtype": "i1"
         },
         "yaxis": "y"
        },
        {
         "hovertemplate": "DATE_TRAIN=2025-05-14<br>LOCATION=%{x}<br>MINUTES_LATE=%{y}<extra></extra>",
         "legendgroup": "2025-05-14",
         "line": {
          "color": "#636efa",
          "dash": "solid"
         },
         "marker": {
          "symbol": "circle"
         },
         "mode": "lines",
         "name": "2025-05-14",
         "orientation": "v",
         "showlegend": true,
         "type": "scatter",
         "x": [
          "MONTRÉAL",
          "DORVAL",
          "CORNWALL",
          "BROCKVILLE",
          "KINGSTON",
          "OSHAWA",
          "GUILDWOOD",
          "TORONTO"
         ],
         "xaxis": "x",
         "y": {
          "bdata": "AAENEBguKys=",
          "dtype": "i1"
         },
         "yaxis": "y"
        },
        {
         "hovertemplate": "DATE_TRAIN=2025-05-03<br>LOCATION=%{x}<br>MINUTES_LATE=%{y}<extra></extra>",
         "legendgroup": "2025-05-03",
         "line": {
          "color": "#EF553B",
          "dash": "solid"
         },
         "marker": {
          "symbol": "circle"
         },
         "mode": "lines",
         "name": "2025-05-03",
         "orientation": "v",
         "showlegend": true,
         "type": "scatter",
         "x": [
          "MONTRÉAL",
          "DORVAL",
          "CORNWALL",
          "BROCKVILLE",
          "KINGSTON",
          "OSHAWA",
          "GUILDWOOD",
          "TORONTO"
         ],
         "xaxis": "x",
         "y": {
          "bdata": "AP0JCxMmMTA=",
          "dtype": "i1"
         },
         "yaxis": "y"
        },
        {
         "hovertemplate": "DATE_TRAIN=2025-05-24<br>LOCATION=%{x}<br>MINUTES_LATE=%{y}<extra></extra>",
         "legendgroup": "2025-05-24",
         "line": {
          "color": "#00cc96",
          "dash": "solid"
         },
         "marker": {
          "symbol": "circle"
         },
         "mode": "lines",
         "name": "2025-05-24",
         "orientation": "v",
         "showlegend": true,
         "type": "scatter",
         "x": [
          "MONTRÉAL",
          "DORVAL",
          "CORNWALL",
          "BROCKVILLE",
          "KINGSTON",
          "OSHAWA",
          "GUILDWOOD",
          "TORONTO"
         ],
         "xaxis": "x",
         "y": {
          "bdata": "AP4IDBIlNTg=",
          "dtype": "i1"
         },
         "yaxis": "y"
        },
        {
         "hovertemplate": "DATE_TRAIN=2025-05-10<br>LOCATION=%{x}<br>MINUTES_LATE=%{y}<extra></extra>",
         "legendgroup": "2025-05-10",
         "line": {
          "color": "#ab63fa",
          "dash": "solid"
         },
         "marker": {
          "symbol": "circle"
         },
         "mode": "lines",
         "name": "2025-05-10",
         "orientation": "v",
         "showlegend": true,
         "type": "scatter",
         "x": [
          "MONTRÉAL",
          "DORVAL",
          "CORNWALL",
          "BROCKVILLE",
          "KINGSTON",
          "OSHAWA",
          "GUILDWOOD",
          "TORONTO"
         ],
         "xaxis": "x",
         "y": {
          "bdata": "AAMMDhYpMTA=",
          "dtype": "i1"
         },
         "yaxis": "y"
        },
        {
         "hovertemplate": "DATE_TRAIN=2025-04-06<br>LOCATION=%{x}<br>MINUTES_LATE=%{y}<extra></extra>",
         "legendgroup": "2025-04-06",
         "line": {
          "color": "#FFA15A",
          "dash": "solid"
         },
         "marker": {
          "symbol": "circle"
         },
         "mode": "lines",
         "name": "2025-04-06",
         "orientation": "v",
         "showlegend": true,
         "type": "scatter",
         "x": [
          "MONTRÉAL",
          "DORVAL",
          "CORNWALL",
          "BROCKVILLE",
          "KINGSTON",
          "OSHAWA",
          "GUILDWOOD",
          "TORONTO"
         ],
         "xaxis": "x",
         "y": {
          "bdata": "AAMTFx44Pz4=",
          "dtype": "i1"
         },
         "yaxis": "y"
        },
        {
         "hovertemplate": "DATE_TRAIN=2025-04-03<br>LOCATION=%{x}<br>MINUTES_LATE=%{y}<extra></extra>",
         "legendgroup": "2025-04-03",
         "line": {
          "color": "#19d3f3",
          "dash": "solid"
         },
         "marker": {
          "symbol": "circle"
         },
         "mode": "lines",
         "name": "2025-04-03",
         "orientation": "v",
         "showlegend": true,
         "type": "scatter",
         "x": [
          "MONTRÉAL",
          "DORVAL",
          "CORNWALL",
          "BROCKVILLE",
          "KINGSTON",
          "OSHAWA",
          "GUILDWOOD",
          "TORONTO"
         ],
         "xaxis": "x",
         "y": {
          "bdata": "Dw8YHC9PT1k=",
          "dtype": "i1"
         },
         "yaxis": "y"
        },
        {
         "hovertemplate": "DATE_TRAIN=2025-04-23<br>LOCATION=%{x}<br>MINUTES_LATE=%{y}<extra></extra>",
         "legendgroup": "2025-04-23",
         "line": {
          "color": "#FF6692",
          "dash": "solid"
         },
         "marker": {
          "symbol": "circle"
         },
         "mode": "lines",
         "name": "2025-04-23",
         "orientation": "v",
         "showlegend": true,
         "type": "scatter",
         "x": [
          "MONTRÉAL",
          "DORVAL",
          "CORNWALL",
          "BROCKVILLE",
          "KINGSTON",
          "OSHAWA",
          "GUILDWOOD",
          "TORONTO"
         ],
         "xaxis": "x",
         "y": {
          "bdata": "AAAREhkzMTY=",
          "dtype": "i1"
         },
         "yaxis": "y"
        },
        {
         "hovertemplate": "DATE_TRAIN=2025-04-24<br>LOCATION=%{x}<br>MINUTES_LATE=%{y}<extra></extra>",
         "legendgroup": "2025-04-24",
         "line": {
          "color": "#B6E880",
          "dash": "solid"
         },
         "marker": {
          "symbol": "circle"
         },
         "mode": "lines",
         "name": "2025-04-24",
         "orientation": "v",
         "showlegend": true,
         "type": "scatter",
         "x": [
          "MONTRÉAL",
          "DORVAL",
          "CORNWALL",
          "BROCKVILLE",
          "KINGSTON",
          "OSHAWA",
          "GUILDWOOD",
          "TORONTO"
         ],
         "xaxis": "x",
         "y": {
          "bdata": "AP0JDhMqKik=",
          "dtype": "i1"
         },
         "yaxis": "y"
        },
        {
         "hovertemplate": "DATE_TRAIN=2025-05-20<br>LOCATION=%{x}<br>MINUTES_LATE=%{y}<extra></extra>",
         "legendgroup": "2025-05-20",
         "line": {
          "color": "#FF97FF",
          "dash": "solid"
         },
         "marker": {
          "symbol": "circle"
         },
         "mode": "lines",
         "name": "2025-05-20",
         "orientation": "v",
         "showlegend": true,
         "type": "scatter",
         "x": [
          "MONTRÉAL",
          "DORVAL",
          "CORNWALL",
          "BROCKVILLE",
          "KINGSTON",
          "OSHAWA",
          "GUILDWOOD",
          "TORONTO"
         ],
         "xaxis": "x",
         "y": {
          "bdata": "AAIKCxEpKik=",
          "dtype": "i1"
         },
         "yaxis": "y"
        },
        {
         "hovertemplate": "DATE_TRAIN=2025-05-13<br>LOCATION=%{x}<br>MINUTES_LATE=%{y}<extra></extra>",
         "legendgroup": "2025-05-13",
         "line": {
          "color": "#FECB52",
          "dash": "solid"
         },
         "marker": {
          "symbol": "circle"
         },
         "mode": "lines",
         "name": "2025-05-13",
         "orientation": "v",
         "showlegend": true,
         "type": "scatter",
         "x": [
          "MONTRÉAL",
          "DORVAL",
          "CORNWALL",
          "BROCKVILLE",
          "KINGSTON",
          "OSHAWA",
          "GUILDWOOD",
          "TORONTO"
         ],
         "xaxis": "x",
         "y": {
          "bdata": "AAcOHTNJSUg=",
          "dtype": "i1"
         },
         "yaxis": "y"
        },
        {
         "hovertemplate": "DATE_TRAIN=2025-04-04<br>LOCATION=%{x}<br>MINUTES_LATE=%{y}<extra></extra>",
         "legendgroup": "2025-04-04",
         "line": {
          "color": "#636efa",
          "dash": "solid"
         },
         "marker": {
          "symbol": "circle"
         },
         "mode": "lines",
         "name": "2025-04-04",
         "orientation": "v",
         "showlegend": true,
         "type": "scatter",
         "x": [
          "MONTRÉAL",
          "DORVAL",
          "CORNWALL",
          "BROCKVILLE",
          "KINGSTON",
          "OSHAWA",
          "GUILDWOOD",
          "TORONTO"
         ],
         "xaxis": "x",
         "y": {
          "bdata": "AAAMExw5Nzs=",
          "dtype": "i1"
         },
         "yaxis": "y"
        },
        {
         "hovertemplate": "DATE_TRAIN=2025-04-21<br>LOCATION=%{x}<br>MINUTES_LATE=%{y}<extra></extra>",
         "legendgroup": "2025-04-21",
         "line": {
          "color": "#EF553B",
          "dash": "solid"
         },
         "marker": {
          "symbol": "circle"
         },
         "mode": "lines",
         "name": "2025-04-21",
         "orientation": "v",
         "showlegend": true,
         "type": "scatter",
         "x": [
          "MONTRÉAL",
          "DORVAL",
          "CORNWALL",
          "BROCKVILLE",
          "KINGSTON",
          "OSHAWA",
          "GUILDWOOD",
          "TORONTO"
         ],
         "xaxis": "x",
         "y": {
          "bdata": "AAANEBk0Mzc=",
          "dtype": "i1"
         },
         "yaxis": "y"
        },
        {
         "hovertemplate": "DATE_TRAIN=2025-04-29<br>LOCATION=%{x}<br>MINUTES_LATE=%{y}<extra></extra>",
         "legendgroup": "2025-04-29",
         "line": {
          "color": "#00cc96",
          "dash": "solid"
         },
         "marker": {
          "symbol": "circle"
         },
         "mode": "lines",
         "name": "2025-04-29",
         "orientation": "v",
         "showlegend": true,
         "type": "scatter",
         "x": [
          "MONTRÉAL",
          "DORVAL",
          "CORNWALL",
          "BROCKVILLE",
          "KINGSTON",
          "OSHAWA",
          "GUILDWOOD",
          "TORONTO"
         ],
         "xaxis": "x",
         "y": {
          "bdata": "AP8LERk1Mzk=",
          "dtype": "i1"
         },
         "yaxis": "y"
        },
        {
         "hovertemplate": "DATE_TRAIN=2025-04-16<br>LOCATION=%{x}<br>MINUTES_LATE=%{y}<extra></extra>",
         "legendgroup": "2025-04-16",
         "line": {
          "color": "#ab63fa",
          "dash": "solid"
         },
         "marker": {
          "symbol": "circle"
         },
         "mode": "lines",
         "name": "2025-04-16",
         "orientation": "v",
         "showlegend": true,
         "type": "scatter",
         "x": [
          "MONTRÉAL",
          "DORVAL",
          "CORNWALL",
          "BROCKVILLE",
          "KINGSTON",
          "OSHAWA",
          "GUILDWOOD",
          "TORONTO"
         ],
         "xaxis": "x",
         "y": {
          "bdata": "AAYWGiM7ODk=",
          "dtype": "i1"
         },
         "yaxis": "y"
        },
        {
         "hovertemplate": "DATE_TRAIN=2025-04-09<br>LOCATION=%{x}<br>MINUTES_LATE=%{y}<extra></extra>",
         "legendgroup": "2025-04-09",
         "line": {
          "color": "#FFA15A",
          "dash": "solid"
         },
         "marker": {
          "symbol": "circle"
         },
         "mode": "lines",
         "name": "2025-04-09",
         "orientation": "v",
         "showlegend": true,
         "type": "scatter",
         "x": [
          "MONTRÉAL",
          "DORVAL",
          "CORNWALL",
          "BROCKVILLE",
          "KINGSTON",
          "OSHAWA",
          "GUILDWOOD",
          "TORONTO"
         ],
         "xaxis": "x",
         "y": {
          "bdata": "EA4bHydCQEU=",
          "dtype": "i1"
         },
         "yaxis": "y"
        },
        {
         "hovertemplate": "DATE_TRAIN=2025-05-27<br>LOCATION=%{x}<br>MINUTES_LATE=%{y}<extra></extra>",
         "legendgroup": "2025-05-27",
         "line": {
          "color": "#19d3f3",
          "dash": "solid"
         },
         "marker": {
          "symbol": "circle"
         },
         "mode": "lines",
         "name": "2025-05-27",
         "orientation": "v",
         "showlegend": true,
         "type": "scatter",
         "x": [
          "MONTRÉAL",
          "DORVAL",
          "CORNWALL",
          "BROCKVILLE",
          "KINGSTON",
          "OSHAWA",
          "GUILDWOOD",
          "TORONTO"
         ],
         "xaxis": "x",
         "y": {
          "bdata": "AAMRGyY7ODc=",
          "dtype": "i1"
         },
         "yaxis": "y"
        },
        {
         "hovertemplate": "DATE_TRAIN=2025-04-26<br>LOCATION=%{x}<br>MINUTES_LATE=%{y}<extra></extra>",
         "legendgroup": "2025-04-26",
         "line": {
          "color": "#FF6692",
          "dash": "solid"
         },
         "marker": {
          "symbol": "circle"
         },
         "mode": "lines",
         "name": "2025-04-26",
         "orientation": "v",
         "showlegend": true,
         "type": "scatter",
         "x": [
          "MONTRÉAL",
          "DORVAL",
          "CORNWALL",
          "BROCKVILLE",
          "KINGSTON",
          "OSHAWA",
          "GUILDWOOD",
          "TORONTO"
         ],
         "xaxis": "x",
         "y": {
          "bdata": "AAkSERgqLy8=",
          "dtype": "i1"
         },
         "yaxis": "y"
        },
        {
         "hovertemplate": "DATE_TRAIN=2025-04-25<br>LOCATION=%{x}<br>MINUTES_LATE=%{y}<extra></extra>",
         "legendgroup": "2025-04-25",
         "line": {
          "color": "#B6E880",
          "dash": "solid"
         },
         "marker": {
          "symbol": "circle"
         },
         "mode": "lines",
         "name": "2025-04-25",
         "orientation": "v",
         "showlegend": true,
         "type": "scatter",
         "x": [
          "MONTRÉAL",
          "DORVAL",
          "CORNWALL",
          "BROCKVILLE",
          "KINGSTON",
          "OSHAWA",
          "GUILDWOOD",
          "TORONTO"
         ],
         "xaxis": "x",
         "y": {
          "bdata": "AAAMDxgxMDg=",
          "dtype": "i1"
         },
         "yaxis": "y"
        },
        {
         "hovertemplate": "DATE_TRAIN=2025-05-06<br>LOCATION=%{x}<br>MINUTES_LATE=%{y}<extra></extra>",
         "legendgroup": "2025-05-06",
         "line": {
          "color": "#FF97FF",
          "dash": "solid"
         },
         "marker": {
          "symbol": "circle"
         },
         "mode": "lines",
         "name": "2025-05-06",
         "orientation": "v",
         "showlegend": true,
         "type": "scatter",
         "x": [
          "MONTRÉAL",
          "DORVAL",
          "CORNWALL",
          "BROCKVILLE",
          "KINGSTON",
          "OSHAWA",
          "GUILDWOOD",
          "TORONTO"
         ],
         "xaxis": "x",
         "y": {
          "bdata": "ABchISpLSko=",
          "dtype": "i1"
         },
         "yaxis": "y"
        },
        {
         "hovertemplate": "DATE_TRAIN=2025-05-18<br>LOCATION=%{x}<br>MINUTES_LATE=%{y}<extra></extra>",
         "legendgroup": "2025-05-18",
         "line": {
          "color": "#FECB52",
          "dash": "solid"
         },
         "marker": {
          "symbol": "circle"
         },
         "mode": "lines",
         "name": "2025-05-18",
         "orientation": "v",
         "showlegend": true,
         "type": "scatter",
         "x": [
          "MONTRÉAL",
          "DORVAL",
          "CORNWALL",
          "BROCKVILLE",
          "KINGSTON",
          "OSHAWA",
          "GUILDWOOD",
          "TORONTO"
         ],
         "xaxis": "x",
         "y": {
          "bdata": "ABAaHic/Pj4=",
          "dtype": "i1"
         },
         "yaxis": "y"
        },
        {
         "hovertemplate": "DATE_TRAIN=2025-04-10<br>LOCATION=%{x}<br>MINUTES_LATE=%{y}<extra></extra>",
         "legendgroup": "2025-04-10",
         "line": {
          "color": "#636efa",
          "dash": "solid"
         },
         "marker": {
          "symbol": "circle"
         },
         "mode": "lines",
         "name": "2025-04-10",
         "orientation": "v",
         "showlegend": true,
         "type": "scatter",
         "x": [
          "MONTRÉAL",
          "DORVAL",
          "CORNWALL",
          "BROCKVILLE",
          "KINGSTON",
          "OSHAWA",
          "GUILDWOOD",
          "TORONTO"
         ],
         "xaxis": "x",
         "y": {
          "bdata": "AAAAAB82NDg=",
          "dtype": "i1"
         },
         "yaxis": "y"
        },
        {
         "hovertemplate": "DATE_TRAIN=2025-05-08<br>LOCATION=%{x}<br>MINUTES_LATE=%{y}<extra></extra>",
         "legendgroup": "2025-05-08",
         "line": {
          "color": "#EF553B",
          "dash": "solid"
         },
         "marker": {
          "symbol": "circle"
         },
         "mode": "lines",
         "name": "2025-05-08",
         "orientation": "v",
         "showlegend": true,
         "type": "scatter",
         "x": [
          "MONTRÉAL",
          "DORVAL",
          "CORNWALL",
          "BROCKVILLE",
          "KINGSTON",
          "OSHAWA",
          "GUILDWOOD",
          "TORONTO"
         ],
         "xaxis": "x",
         "y": {
          "bdata": "AP8LDRQoKik=",
          "dtype": "i1"
         },
         "yaxis": "y"
        },
        {
         "hovertemplate": "DATE_TRAIN=2025-06-08<br>LOCATION=%{x}<br>MINUTES_LATE=%{y}<extra></extra>",
         "legendgroup": "2025-06-08",
         "line": {
          "color": "#00cc96",
          "dash": "solid"
         },
         "marker": {
          "symbol": "circle"
         },
         "mode": "lines",
         "name": "2025-06-08",
         "orientation": "v",
         "showlegend": true,
         "type": "scatter",
         "x": [
          "MONTRÉAL",
          "DORVAL",
          "CORNWALL",
          "BROCKVILLE",
          "KINGSTON",
          "OSHAWA",
          "GUILDWOOD",
          "TORONTO"
         ],
         "xaxis": "x",
         "y": {
          "bdata": "AP4OEhw7P0c=",
          "dtype": "i1"
         },
         "yaxis": "y"
        },
        {
         "hovertemplate": "DATE_TRAIN=2025-05-09<br>LOCATION=%{x}<br>MINUTES_LATE=%{y}<extra></extra>",
         "legendgroup": "2025-05-09",
         "line": {
          "color": "#ab63fa",
          "dash": "solid"
         },
         "marker": {
          "symbol": "circle"
         },
         "mode": "lines",
         "name": "2025-05-09",
         "orientation": "v",
         "showlegend": true,
         "type": "scatter",
         "x": [
          "MONTRÉAL",
          "DORVAL",
          "CORNWALL",
          "BROCKVILLE",
          "KINGSTON",
          "OSHAWA",
          "GUILDWOOD",
          "TORONTO"
         ],
         "xaxis": "x",
         "y": {
          "bdata": "AAAOERsxMDE=",
          "dtype": "i1"
         },
         "yaxis": "y"
        },
        {
         "hovertemplate": "DATE_TRAIN=2025-05-29<br>LOCATION=%{x}<br>MINUTES_LATE=%{y}<extra></extra>",
         "legendgroup": "2025-05-29",
         "line": {
          "color": "#FFA15A",
          "dash": "solid"
         },
         "marker": {
          "symbol": "circle"
         },
         "mode": "lines",
         "name": "2025-05-29",
         "orientation": "v",
         "showlegend": true,
         "type": "scatter",
         "x": [
          "MONTRÉAL",
          "DORVAL",
          "CORNWALL",
          "BROCKVILLE",
          "KINGSTON",
          "OSHAWA",
          "GUILDWOOD",
          "TORONTO"
         ],
         "xaxis": "x",
         "y": {
          "bdata": "AP8ODxQ1NTg=",
          "dtype": "i1"
         },
         "yaxis": "y"
        },
        {
         "hovertemplate": "DATE_TRAIN=2025-04-27<br>LOCATION=%{x}<br>MINUTES_LATE=%{y}<extra></extra>",
         "legendgroup": "2025-04-27",
         "line": {
          "color": "#19d3f3",
          "dash": "solid"
         },
         "marker": {
          "symbol": "circle"
         },
         "mode": "lines",
         "name": "2025-04-27",
         "orientation": "v",
         "showlegend": true,
         "type": "scatter",
         "x": [
          "MONTRÉAL",
          "DORVAL",
          "CORNWALL",
          "BROCKVILLE",
          "KINGSTON",
          "OSHAWA",
          "GUILDWOOD",
          "TORONTO"
         ],
         "xaxis": "x",
         "y": {
          "bdata": "AAATFSM6PEc=",
          "dtype": "i1"
         },
         "yaxis": "y"
        },
        {
         "hovertemplate": "DATE_TRAIN=2025-04-30<br>LOCATION=%{x}<br>MINUTES_LATE=%{y}<extra></extra>",
         "legendgroup": "2025-04-30",
         "line": {
          "color": "#FF6692",
          "dash": "solid"
         },
         "marker": {
          "symbol": "circle"
         },
         "mode": "lines",
         "name": "2025-04-30",
         "orientation": "v",
         "showlegend": true,
         "type": "scatter",
         "x": [
          "MONTRÉAL",
          "DORVAL",
          "CORNWALL",
          "BROCKVILLE",
          "KINGSTON",
          "OSHAWA",
          "GUILDWOOD",
          "TORONTO"
         ],
         "xaxis": "x",
         "y": {
          "bdata": "AA4bIChiZmc=",
          "dtype": "i1"
         },
         "yaxis": "y"
        },
        {
         "hovertemplate": "DATE_TRAIN=2025-06-12<br>LOCATION=%{x}<br>MINUTES_LATE=%{y}<extra></extra>",
         "legendgroup": "2025-06-12",
         "line": {
          "color": "#B6E880",
          "dash": "solid"
         },
         "marker": {
          "symbol": "circle"
         },
         "mode": "lines",
         "name": "2025-06-12",
         "orientation": "v",
         "showlegend": true,
         "type": "scatter",
         "x": [
          "MONTRÉAL",
          "DORVAL",
          "CORNWALL",
          "BROCKVILLE",
          "KINGSTON",
          "OSHAWA",
          "GUILDWOOD",
          "TORONTO"
         ],
         "xaxis": "x",
         "y": {
          "bdata": "AAAICBAtLzk=",
          "dtype": "i1"
         },
         "yaxis": "y"
        },
        {
         "hovertemplate": "DATE_TRAIN=2025-05-04<br>LOCATION=%{x}<br>MINUTES_LATE=%{y}<extra></extra>",
         "legendgroup": "2025-05-04",
         "line": {
          "color": "#FF97FF",
          "dash": "solid"
         },
         "marker": {
          "symbol": "circle"
         },
         "mode": "lines",
         "name": "2025-05-04",
         "orientation": "v",
         "showlegend": true,
         "type": "scatter",
         "x": [
          "MONTRÉAL",
          "DORVAL",
          "CORNWALL",
          "BROCKVILLE",
          "KINGSTON",
          "OSHAWA",
          "GUILDWOOD",
          "TORONTO"
         ],
         "xaxis": "x",
         "y": {
          "bdata": "Bww2NEZmdnk=",
          "dtype": "i1"
         },
         "yaxis": "y"
        },
        {
         "hovertemplate": "DATE_TRAIN=2025-05-26<br>LOCATION=%{x}<br>MINUTES_LATE=%{y}<extra></extra>",
         "legendgroup": "2025-05-26",
         "line": {
          "color": "#FECB52",
          "dash": "solid"
         },
         "marker": {
          "symbol": "circle"
         },
         "mode": "lines",
         "name": "2025-05-26",
         "orientation": "v",
         "showlegend": true,
         "type": "scatter",
         "x": [
          "MONTRÉAL",
          "DORVAL",
          "CORNWALL",
          "BROCKVILLE",
          "KINGSTON",
          "OSHAWA",
          "GUILDWOOD",
          "TORONTO"
         ],
         "xaxis": "x",
         "y": {
          "bdata": "AQcRFRw6Nzo=",
          "dtype": "i1"
         },
         "yaxis": "y"
        },
        {
         "hovertemplate": "DATE_TRAIN=2025-05-31<br>LOCATION=%{x}<br>MINUTES_LATE=%{y}<extra></extra>",
         "legendgroup": "2025-05-31",
         "line": {
          "color": "#636efa",
          "dash": "solid"
         },
         "marker": {
          "symbol": "circle"
         },
         "mode": "lines",
         "name": "2025-05-31",
         "orientation": "v",
         "showlegend": true,
         "type": "scatter",
         "x": [
          "MONTRÉAL",
          "DORVAL",
          "CORNWALL",
          "BROCKVILLE",
          "KINGSTON",
          "OSHAWA",
          "GUILDWOOD",
          "TORONTO"
         ],
         "xaxis": "x",
         "y": {
          "bdata": "AP4NDxUqQ0c=",
          "dtype": "i1"
         },
         "yaxis": "y"
        },
        {
         "hovertemplate": "DATE_TRAIN=2025-06-03<br>LOCATION=%{x}<br>MINUTES_LATE=%{y}<extra></extra>",
         "legendgroup": "2025-06-03",
         "line": {
          "color": "#EF553B",
          "dash": "solid"
         },
         "marker": {
          "symbol": "circle"
         },
         "mode": "lines",
         "name": "2025-06-03",
         "orientation": "v",
         "showlegend": true,
         "type": "scatter",
         "x": [
          "MONTRÉAL",
          "DORVAL",
          "CORNWALL",
          "BROCKVILLE",
          "KINGSTON",
          "OSHAWA",
          "GUILDWOOD",
          "TORONTO"
         ],
         "xaxis": "x",
         "y": {
          "bdata": "AAcPExswLzc=",
          "dtype": "i1"
         },
         "yaxis": "y"
        }
       ],
       "layout": {
        "legend": {
         "title": {
          "text": "DATE_TRAIN"
         },
         "tracegroupgap": 0
        },
        "margin": {
         "t": 60
        },
        "template": {
         "data": {
          "bar": [
           {
            "error_x": {
             "color": "#2a3f5f"
            },
            "error_y": {
             "color": "#2a3f5f"
            },
            "marker": {
             "line": {
              "color": "#E5ECF6",
              "width": 0.5
             },
             "pattern": {
              "fillmode": "overlay",
              "size": 10,
              "solidity": 0.2
             }
            },
            "type": "bar"
           }
          ],
          "barpolar": [
           {
            "marker": {
             "line": {
              "color": "#E5ECF6",
              "width": 0.5
             },
             "pattern": {
              "fillmode": "overlay",
              "size": 10,
              "solidity": 0.2
             }
            },
            "type": "barpolar"
           }
          ],
          "carpet": [
           {
            "aaxis": {
             "endlinecolor": "#2a3f5f",
             "gridcolor": "white",
             "linecolor": "white",
             "minorgridcolor": "white",
             "startlinecolor": "#2a3f5f"
            },
            "baxis": {
             "endlinecolor": "#2a3f5f",
             "gridcolor": "white",
             "linecolor": "white",
             "minorgridcolor": "white",
             "startlinecolor": "#2a3f5f"
            },
            "type": "carpet"
           }
          ],
          "choropleth": [
           {
            "colorbar": {
             "outlinewidth": 0,
             "ticks": ""
            },
            "type": "choropleth"
           }
          ],
          "contour": [
           {
            "colorbar": {
             "outlinewidth": 0,
             "ticks": ""
            },
            "colorscale": [
             [
              0,
              "#0d0887"
             ],
             [
              0.1111111111111111,
              "#46039f"
             ],
             [
              0.2222222222222222,
              "#7201a8"
             ],
             [
              0.3333333333333333,
              "#9c179e"
             ],
             [
              0.4444444444444444,
              "#bd3786"
             ],
             [
              0.5555555555555556,
              "#d8576b"
             ],
             [
              0.6666666666666666,
              "#ed7953"
             ],
             [
              0.7777777777777778,
              "#fb9f3a"
             ],
             [
              0.8888888888888888,
              "#fdca26"
             ],
             [
              1,
              "#f0f921"
             ]
            ],
            "type": "contour"
           }
          ],
          "contourcarpet": [
           {
            "colorbar": {
             "outlinewidth": 0,
             "ticks": ""
            },
            "type": "contourcarpet"
           }
          ],
          "heatmap": [
           {
            "colorbar": {
             "outlinewidth": 0,
             "ticks": ""
            },
            "colorscale": [
             [
              0,
              "#0d0887"
             ],
             [
              0.1111111111111111,
              "#46039f"
             ],
             [
              0.2222222222222222,
              "#7201a8"
             ],
             [
              0.3333333333333333,
              "#9c179e"
             ],
             [
              0.4444444444444444,
              "#bd3786"
             ],
             [
              0.5555555555555556,
              "#d8576b"
             ],
             [
              0.6666666666666666,
              "#ed7953"
             ],
             [
              0.7777777777777778,
              "#fb9f3a"
             ],
             [
              0.8888888888888888,
              "#fdca26"
             ],
             [
              1,
              "#f0f921"
             ]
            ],
            "type": "heatmap"
           }
          ],
          "histogram": [
           {
            "marker": {
             "pattern": {
              "fillmode": "overlay",
              "size": 10,
              "solidity": 0.2
             }
            },
            "type": "histogram"
           }
          ],
          "histogram2d": [
           {
            "colorbar": {
             "outlinewidth": 0,
             "ticks": ""
            },
            "colorscale": [
             [
              0,
              "#0d0887"
             ],
             [
              0.1111111111111111,
              "#46039f"
             ],
             [
              0.2222222222222222,
              "#7201a8"
             ],
             [
              0.3333333333333333,
              "#9c179e"
             ],
             [
              0.4444444444444444,
              "#bd3786"
             ],
             [
              0.5555555555555556,
              "#d8576b"
             ],
             [
              0.6666666666666666,
              "#ed7953"
             ],
             [
              0.7777777777777778,
              "#fb9f3a"
             ],
             [
              0.8888888888888888,
              "#fdca26"
             ],
             [
              1,
              "#f0f921"
             ]
            ],
            "type": "histogram2d"
           }
          ],
          "histogram2dcontour": [
           {
            "colorbar": {
             "outlinewidth": 0,
             "ticks": ""
            },
            "colorscale": [
             [
              0,
              "#0d0887"
             ],
             [
              0.1111111111111111,
              "#46039f"
             ],
             [
              0.2222222222222222,
              "#7201a8"
             ],
             [
              0.3333333333333333,
              "#9c179e"
             ],
             [
              0.4444444444444444,
              "#bd3786"
             ],
             [
              0.5555555555555556,
              "#d8576b"
             ],
             [
              0.6666666666666666,
              "#ed7953"
             ],
             [
              0.7777777777777778,
              "#fb9f3a"
             ],
             [
              0.8888888888888888,
              "#fdca26"
             ],
             [
              1,
              "#f0f921"
             ]
            ],
            "type": "histogram2dcontour"
           }
          ],
          "mesh3d": [
           {
            "colorbar": {
             "outlinewidth": 0,
             "ticks": ""
            },
            "type": "mesh3d"
           }
          ],
          "parcoords": [
           {
            "line": {
             "colorbar": {
              "outlinewidth": 0,
              "ticks": ""
             }
            },
            "type": "parcoords"
           }
          ],
          "pie": [
           {
            "automargin": true,
            "type": "pie"
           }
          ],
          "scatter": [
           {
            "fillpattern": {
             "fillmode": "overlay",
             "size": 10,
             "solidity": 0.2
            },
            "type": "scatter"
           }
          ],
          "scatter3d": [
           {
            "line": {
             "colorbar": {
              "outlinewidth": 0,
              "ticks": ""
             }
            },
            "marker": {
             "colorbar": {
              "outlinewidth": 0,
              "ticks": ""
             }
            },
            "type": "scatter3d"
           }
          ],
          "scattercarpet": [
           {
            "marker": {
             "colorbar": {
              "outlinewidth": 0,
              "ticks": ""
             }
            },
            "type": "scattercarpet"
           }
          ],
          "scattergeo": [
           {
            "marker": {
             "colorbar": {
              "outlinewidth": 0,
              "ticks": ""
             }
            },
            "type": "scattergeo"
           }
          ],
          "scattergl": [
           {
            "marker": {
             "colorbar": {
              "outlinewidth": 0,
              "ticks": ""
             }
            },
            "type": "scattergl"
           }
          ],
          "scattermap": [
           {
            "marker": {
             "colorbar": {
              "outlinewidth": 0,
              "ticks": ""
             }
            },
            "type": "scattermap"
           }
          ],
          "scattermapbox": [
           {
            "marker": {
             "colorbar": {
              "outlinewidth": 0,
              "ticks": ""
             }
            },
            "type": "scattermapbox"
           }
          ],
          "scatterpolar": [
           {
            "marker": {
             "colorbar": {
              "outlinewidth": 0,
              "ticks": ""
             }
            },
            "type": "scatterpolar"
           }
          ],
          "scatterpolargl": [
           {
            "marker": {
             "colorbar": {
              "outlinewidth": 0,
              "ticks": ""
             }
            },
            "type": "scatterpolargl"
           }
          ],
          "scatterternary": [
           {
            "marker": {
             "colorbar": {
              "outlinewidth": 0,
              "ticks": ""
             }
            },
            "type": "scatterternary"
           }
          ],
          "surface": [
           {
            "colorbar": {
             "outlinewidth": 0,
             "ticks": ""
            },
            "colorscale": [
             [
              0,
              "#0d0887"
             ],
             [
              0.1111111111111111,
              "#46039f"
             ],
             [
              0.2222222222222222,
              "#7201a8"
             ],
             [
              0.3333333333333333,
              "#9c179e"
             ],
             [
              0.4444444444444444,
              "#bd3786"
             ],
             [
              0.5555555555555556,
              "#d8576b"
             ],
             [
              0.6666666666666666,
              "#ed7953"
             ],
             [
              0.7777777777777778,
              "#fb9f3a"
             ],
             [
              0.8888888888888888,
              "#fdca26"
             ],
             [
              1,
              "#f0f921"
             ]
            ],
            "type": "surface"
           }
          ],
          "table": [
           {
            "cells": {
             "fill": {
              "color": "#EBF0F8"
             },
             "line": {
              "color": "white"
             }
            },
            "header": {
             "fill": {
              "color": "#C8D4E3"
             },
             "line": {
              "color": "white"
             }
            },
            "type": "table"
           }
          ]
         },
         "layout": {
          "annotationdefaults": {
           "arrowcolor": "#2a3f5f",
           "arrowhead": 0,
           "arrowwidth": 1
          },
          "autotypenumbers": "strict",
          "coloraxis": {
           "colorbar": {
            "outlinewidth": 0,
            "ticks": ""
           }
          },
          "colorscale": {
           "diverging": [
            [
             0,
             "#8e0152"
            ],
            [
             0.1,
             "#c51b7d"
            ],
            [
             0.2,
             "#de77ae"
            ],
            [
             0.3,
             "#f1b6da"
            ],
            [
             0.4,
             "#fde0ef"
            ],
            [
             0.5,
             "#f7f7f7"
            ],
            [
             0.6,
             "#e6f5d0"
            ],
            [
             0.7,
             "#b8e186"
            ],
            [
             0.8,
             "#7fbc41"
            ],
            [
             0.9,
             "#4d9221"
            ],
            [
             1,
             "#276419"
            ]
           ],
           "sequential": [
            [
             0,
             "#0d0887"
            ],
            [
             0.1111111111111111,
             "#46039f"
            ],
            [
             0.2222222222222222,
             "#7201a8"
            ],
            [
             0.3333333333333333,
             "#9c179e"
            ],
            [
             0.4444444444444444,
             "#bd3786"
            ],
            [
             0.5555555555555556,
             "#d8576b"
            ],
            [
             0.6666666666666666,
             "#ed7953"
            ],
            [
             0.7777777777777778,
             "#fb9f3a"
            ],
            [
             0.8888888888888888,
             "#fdca26"
            ],
            [
             1,
             "#f0f921"
            ]
           ],
           "sequentialminus": [
            [
             0,
             "#0d0887"
            ],
            [
             0.1111111111111111,
             "#46039f"
            ],
            [
             0.2222222222222222,
             "#7201a8"
            ],
            [
             0.3333333333333333,
             "#9c179e"
            ],
            [
             0.4444444444444444,
             "#bd3786"
            ],
            [
             0.5555555555555556,
             "#d8576b"
            ],
            [
             0.6666666666666666,
             "#ed7953"
            ],
            [
             0.7777777777777778,
             "#fb9f3a"
            ],
            [
             0.8888888888888888,
             "#fdca26"
            ],
            [
             1,
             "#f0f921"
            ]
           ]
          },
          "colorway": [
           "#636efa",
           "#EF553B",
           "#00cc96",
           "#ab63fa",
           "#FFA15A",
           "#19d3f3",
           "#FF6692",
           "#B6E880",
           "#FF97FF",
           "#FECB52"
          ],
          "font": {
           "color": "#2a3f5f"
          },
          "geo": {
           "bgcolor": "white",
           "lakecolor": "white",
           "landcolor": "#E5ECF6",
           "showlakes": true,
           "showland": true,
           "subunitcolor": "white"
          },
          "hoverlabel": {
           "align": "left"
          },
          "hovermode": "closest",
          "mapbox": {
           "style": "light"
          },
          "paper_bgcolor": "white",
          "plot_bgcolor": "#E5ECF6",
          "polar": {
           "angularaxis": {
            "gridcolor": "white",
            "linecolor": "white",
            "ticks": ""
           },
           "bgcolor": "#E5ECF6",
           "radialaxis": {
            "gridcolor": "white",
            "linecolor": "white",
            "ticks": ""
           }
          },
          "scene": {
           "xaxis": {
            "backgroundcolor": "#E5ECF6",
            "gridcolor": "white",
            "gridwidth": 2,
            "linecolor": "white",
            "showbackground": true,
            "ticks": "",
            "zerolinecolor": "white"
           },
           "yaxis": {
            "backgroundcolor": "#E5ECF6",
            "gridcolor": "white",
            "gridwidth": 2,
            "linecolor": "white",
            "showbackground": true,
            "ticks": "",
            "zerolinecolor": "white"
           },
           "zaxis": {
            "backgroundcolor": "#E5ECF6",
            "gridcolor": "white",
            "gridwidth": 2,
            "linecolor": "white",
            "showbackground": true,
            "ticks": "",
            "zerolinecolor": "white"
           }
          },
          "shapedefaults": {
           "line": {
            "color": "#2a3f5f"
           }
          },
          "ternary": {
           "aaxis": {
            "gridcolor": "white",
            "linecolor": "white",
            "ticks": ""
           },
           "baxis": {
            "gridcolor": "white",
            "linecolor": "white",
            "ticks": ""
           },
           "bgcolor": "#E5ECF6",
           "caxis": {
            "gridcolor": "white",
            "linecolor": "white",
            "ticks": ""
           }
          },
          "title": {
           "x": 0.05
          },
          "xaxis": {
           "automargin": true,
           "gridcolor": "white",
           "linecolor": "white",
           "ticks": "",
           "title": {
            "standoff": 15
           },
           "zerolinecolor": "white",
           "zerolinewidth": 2
          },
          "yaxis": {
           "automargin": true,
           "gridcolor": "white",
           "linecolor": "white",
           "ticks": "",
           "title": {
            "standoff": 15
           },
           "zerolinecolor": "white",
           "zerolinewidth": 2
          }
         }
        },
        "xaxis": {
         "anchor": "y",
         "domain": [
          0,
          1
         ],
         "title": {
          "text": "LOCATION"
         }
        },
        "yaxis": {
         "anchor": "x",
         "domain": [
          0,
          1
         ],
         "title": {
          "text": "MINUTES_LATE"
         }
        }
       }
      }
     },
     "metadata": {},
     "output_type": "display_data"
    }
   ],
   "source": [
    "#df = px.data.gapminder().query(\"continent=='Oceania'\")\n",
    "fig = px.line(via_train_69, x=\"LOCATION\", y=\"MINUTES_LATE\", color='DATE_TRAIN')\n",
    "fig.show()"
   ]
  }
 ],
 "metadata": {
  "kernelspec": {
   "display_name": "Python 3",
   "language": "python",
   "name": "python3"
  },
  "language_info": {
   "codemirror_mode": {
    "name": "ipython",
    "version": 3
   },
   "file_extension": ".py",
   "mimetype": "text/x-python",
   "name": "python",
   "nbconvert_exporter": "python",
   "pygments_lexer": "ipython3",
   "version": "3.11.12"
  }
 },
 "nbformat": 4,
 "nbformat_minor": 2
}
